{
 "cells": [
  {
   "cell_type": "code",
   "execution_count": 31,
   "metadata": {},
   "outputs": [],
   "source": [
    "import pandas as pd"
   ]
  },
  {
   "cell_type": "code",
   "execution_count": 62,
   "metadata": {},
   "outputs": [],
   "source": [
    "import random\n",
    "import string\n",
    "\n",
    "def get_random_string(length):\n",
    "    # choose from all lowercase letter\n",
    "    letters = string.ascii_lowercase\n",
    "    return ''.join(random.choice(letters) for i in range(length))\n",
    "\n",
    "names = [get_random_string(6) for i in range(7366)]"
   ]
  },
  {
   "cell_type": "code",
   "execution_count": 63,
   "metadata": {},
   "outputs": [
    {
     "data": {
      "text/plain": [
       "7366"
      ]
     },
     "execution_count": 63,
     "metadata": {},
     "output_type": "execute_result"
    }
   ],
   "source": [
    "len(names)"
   ]
  },
  {
   "cell_type": "code",
   "execution_count": 64,
   "metadata": {},
   "outputs": [],
   "source": [
    "category = []\n",
    "cat = []\n",
    "for i in range(1, 7367):\n",
    "    if i <= 1360:\n",
    "        category.append('Fy')\n",
    "        cat.append(0.5)\n",
    "        \n",
    "    elif i > 1360 and i <= 3020:\n",
    "        category.append('Fr')\n",
    "        cat.append(0.5)\n",
    "        \n",
    "    elif i > 3020  and i <= 3080:\n",
    "        category.append('Ht')\n",
    "        cat.append(1)\n",
    "        \n",
    "    elif i > 3080 and i <= 3370:\n",
    "        category.append('Sp')\n",
    "        cat.append(0.5)\n",
    "        \n",
    "    elif i > 3370 and i <= 3630:\n",
    "        category.append('St')\n",
    "        cat.append(1)\n",
    "        \n",
    "    elif i > 3630 and i <= 7366:\n",
    "        category.append('Ot')\n",
    "        cat.append(0.5)"
   ]
  },
  {
   "cell_type": "code",
   "execution_count": 65,
   "metadata": {},
   "outputs": [
    {
     "name": "stdout",
     "output_type": "stream",
     "text": [
      "0.8153679065978822\n",
      "0.7746402389356503\n",
      "0.9918544664675536\n",
      "0.9606299212598425\n",
      "0.9647026880260657\n",
      "0.49280477871300565\n"
     ]
    }
   ],
   "source": [
    "for i in [1360,1660,60,290,260,3736]: print(1 - i/7366)"
   ]
  },
  {
   "cell_type": "code",
   "execution_count": 66,
   "metadata": {},
   "outputs": [],
   "source": [
    "df = pd.DataFrame()\n",
    "df['names'] = names\n",
    "df['category'] = category\n",
    "df['weight'] = cat"
   ]
  },
  {
   "cell_type": "code",
   "execution_count": 67,
   "metadata": {},
   "outputs": [
    {
     "data": {
      "text/html": [
       "<div>\n",
       "<style scoped>\n",
       "    .dataframe tbody tr th:only-of-type {\n",
       "        vertical-align: middle;\n",
       "    }\n",
       "\n",
       "    .dataframe tbody tr th {\n",
       "        vertical-align: top;\n",
       "    }\n",
       "\n",
       "    .dataframe thead th {\n",
       "        text-align: right;\n",
       "    }\n",
       "</style>\n",
       "<table border=\"1\" class=\"dataframe\">\n",
       "  <thead>\n",
       "    <tr style=\"text-align: right;\">\n",
       "      <th></th>\n",
       "      <th>names</th>\n",
       "      <th>category</th>\n",
       "      <th>weight</th>\n",
       "    </tr>\n",
       "  </thead>\n",
       "  <tbody>\n",
       "    <tr>\n",
       "      <th>0</th>\n",
       "      <td>qsuaby</td>\n",
       "      <td>Fy</td>\n",
       "      <td>0.5</td>\n",
       "    </tr>\n",
       "    <tr>\n",
       "      <th>1</th>\n",
       "      <td>bwagbs</td>\n",
       "      <td>Fy</td>\n",
       "      <td>0.5</td>\n",
       "    </tr>\n",
       "    <tr>\n",
       "      <th>2</th>\n",
       "      <td>hlavrm</td>\n",
       "      <td>Fy</td>\n",
       "      <td>0.5</td>\n",
       "    </tr>\n",
       "    <tr>\n",
       "      <th>3</th>\n",
       "      <td>yyhnih</td>\n",
       "      <td>Fy</td>\n",
       "      <td>0.5</td>\n",
       "    </tr>\n",
       "    <tr>\n",
       "      <th>4</th>\n",
       "      <td>nacwtr</td>\n",
       "      <td>Fy</td>\n",
       "      <td>0.5</td>\n",
       "    </tr>\n",
       "    <tr>\n",
       "      <th>...</th>\n",
       "      <td>...</td>\n",
       "      <td>...</td>\n",
       "      <td>...</td>\n",
       "    </tr>\n",
       "    <tr>\n",
       "      <th>7361</th>\n",
       "      <td>fdmoyb</td>\n",
       "      <td>Ot</td>\n",
       "      <td>0.5</td>\n",
       "    </tr>\n",
       "    <tr>\n",
       "      <th>7362</th>\n",
       "      <td>eukixo</td>\n",
       "      <td>Ot</td>\n",
       "      <td>0.5</td>\n",
       "    </tr>\n",
       "    <tr>\n",
       "      <th>7363</th>\n",
       "      <td>ecsbha</td>\n",
       "      <td>Ot</td>\n",
       "      <td>0.5</td>\n",
       "    </tr>\n",
       "    <tr>\n",
       "      <th>7364</th>\n",
       "      <td>ajlucq</td>\n",
       "      <td>Ot</td>\n",
       "      <td>0.5</td>\n",
       "    </tr>\n",
       "    <tr>\n",
       "      <th>7365</th>\n",
       "      <td>feaflt</td>\n",
       "      <td>Ot</td>\n",
       "      <td>0.5</td>\n",
       "    </tr>\n",
       "  </tbody>\n",
       "</table>\n",
       "<p>7366 rows × 3 columns</p>\n",
       "</div>"
      ],
      "text/plain": [
       "       names category  weight\n",
       "0     qsuaby       Fy     0.5\n",
       "1     bwagbs       Fy     0.5\n",
       "2     hlavrm       Fy     0.5\n",
       "3     yyhnih       Fy     0.5\n",
       "4     nacwtr       Fy     0.5\n",
       "...      ...      ...     ...\n",
       "7361  fdmoyb       Ot     0.5\n",
       "7362  eukixo       Ot     0.5\n",
       "7363  ecsbha       Ot     0.5\n",
       "7364  ajlucq       Ot     0.5\n",
       "7365  feaflt       Ot     0.5\n",
       "\n",
       "[7366 rows x 3 columns]"
      ]
     },
     "execution_count": 67,
     "metadata": {},
     "output_type": "execute_result"
    }
   ],
   "source": [
    "df"
   ]
  },
  {
   "cell_type": "code",
   "execution_count": 68,
   "metadata": {},
   "outputs": [],
   "source": [
    "df = df.sample(frac = 1, random_state = 2021).reset_index(drop = True)"
   ]
  },
  {
   "cell_type": "code",
   "execution_count": 69,
   "metadata": {},
   "outputs": [
    {
     "data": {
      "text/plain": [
       "Ot    3736\n",
       "Fr    1660\n",
       "Fy    1360\n",
       "Sp     290\n",
       "St     260\n",
       "Ht      60\n",
       "Name: category, dtype: int64"
      ]
     },
     "execution_count": 69,
     "metadata": {},
     "output_type": "execute_result"
    }
   ],
   "source": [
    "df['category'].value_counts()"
   ]
  },
  {
   "cell_type": "code",
   "execution_count": 70,
   "metadata": {},
   "outputs": [],
   "source": [
    "df.to_csv('male_applicants.csv', index = False)"
   ]
  },
  {
   "cell_type": "code",
   "execution_count": null,
   "metadata": {},
   "outputs": [],
   "source": []
  }
 ],
 "metadata": {
  "kernelspec": {
   "display_name": "Python 3",
   "language": "python",
   "name": "python3"
  },
  "language_info": {
   "codemirror_mode": {
    "name": "ipython",
    "version": 3
   },
   "file_extension": ".py",
   "mimetype": "text/x-python",
   "name": "python",
   "nbconvert_exporter": "python",
   "pygments_lexer": "ipython3",
   "version": "3.7.6"
  }
 },
 "nbformat": 4,
 "nbformat_minor": 4
}
