{
 "cells": [
  {
   "cell_type": "code",
   "execution_count": 36,
   "metadata": {},
   "outputs": [],
   "source": [
    "import pandas as pd\n",
    "import random as rd\n",
    "from collections import Counter\n",
    "import time\n",
    "import numpy as np"
   ]
  },
  {
   "cell_type": "code",
   "execution_count": 2,
   "metadata": {},
   "outputs": [],
   "source": [
    "df = pd.read_csv('male_applicants.csv')"
   ]
  },
  {
   "cell_type": "code",
   "execution_count": 3,
   "metadata": {},
   "outputs": [
    {
     "data": {
      "text/html": [
       "<div>\n",
       "<style scoped>\n",
       "    .dataframe tbody tr th:only-of-type {\n",
       "        vertical-align: middle;\n",
       "    }\n",
       "\n",
       "    .dataframe tbody tr th {\n",
       "        vertical-align: top;\n",
       "    }\n",
       "\n",
       "    .dataframe thead th {\n",
       "        text-align: right;\n",
       "    }\n",
       "</style>\n",
       "<table border=\"1\" class=\"dataframe\">\n",
       "  <thead>\n",
       "    <tr style=\"text-align: right;\">\n",
       "      <th></th>\n",
       "      <th>names</th>\n",
       "      <th>category</th>\n",
       "      <th>weight</th>\n",
       "    </tr>\n",
       "  </thead>\n",
       "  <tbody>\n",
       "    <tr>\n",
       "      <th>0</th>\n",
       "      <td>rqtttt</td>\n",
       "      <td>Ot</td>\n",
       "      <td>0.5</td>\n",
       "    </tr>\n",
       "    <tr>\n",
       "      <th>1</th>\n",
       "      <td>zhuztd</td>\n",
       "      <td>Ot</td>\n",
       "      <td>0.5</td>\n",
       "    </tr>\n",
       "    <tr>\n",
       "      <th>2</th>\n",
       "      <td>hqxfqg</td>\n",
       "      <td>Ot</td>\n",
       "      <td>0.5</td>\n",
       "    </tr>\n",
       "    <tr>\n",
       "      <th>3</th>\n",
       "      <td>sanjtt</td>\n",
       "      <td>Fy</td>\n",
       "      <td>0.5</td>\n",
       "    </tr>\n",
       "    <tr>\n",
       "      <th>4</th>\n",
       "      <td>mjbgpk</td>\n",
       "      <td>Ot</td>\n",
       "      <td>0.5</td>\n",
       "    </tr>\n",
       "    <tr>\n",
       "      <th>...</th>\n",
       "      <td>...</td>\n",
       "      <td>...</td>\n",
       "      <td>...</td>\n",
       "    </tr>\n",
       "    <tr>\n",
       "      <th>7361</th>\n",
       "      <td>bpgonl</td>\n",
       "      <td>Fr</td>\n",
       "      <td>0.5</td>\n",
       "    </tr>\n",
       "    <tr>\n",
       "      <th>7362</th>\n",
       "      <td>cvflwj</td>\n",
       "      <td>Fy</td>\n",
       "      <td>0.5</td>\n",
       "    </tr>\n",
       "    <tr>\n",
       "      <th>7363</th>\n",
       "      <td>carssw</td>\n",
       "      <td>Ot</td>\n",
       "      <td>0.5</td>\n",
       "    </tr>\n",
       "    <tr>\n",
       "      <th>7364</th>\n",
       "      <td>vtofrz</td>\n",
       "      <td>St</td>\n",
       "      <td>1.0</td>\n",
       "    </tr>\n",
       "    <tr>\n",
       "      <th>7365</th>\n",
       "      <td>mvogms</td>\n",
       "      <td>Fy</td>\n",
       "      <td>0.5</td>\n",
       "    </tr>\n",
       "  </tbody>\n",
       "</table>\n",
       "<p>7366 rows × 3 columns</p>\n",
       "</div>"
      ],
      "text/plain": [
       "       names category  weight\n",
       "0     rqtttt       Ot     0.5\n",
       "1     zhuztd       Ot     0.5\n",
       "2     hqxfqg       Ot     0.5\n",
       "3     sanjtt       Fy     0.5\n",
       "4     mjbgpk       Ot     0.5\n",
       "...      ...      ...     ...\n",
       "7361  bpgonl       Fr     0.5\n",
       "7362  cvflwj       Fy     0.5\n",
       "7363  carssw       Ot     0.5\n",
       "7364  vtofrz       St     1.0\n",
       "7365  mvogms       Fy     0.5\n",
       "\n",
       "[7366 rows x 3 columns]"
      ]
     },
     "execution_count": 3,
     "metadata": {},
     "output_type": "execute_result"
    }
   ],
   "source": [
    "df"
   ]
  },
  {
   "cell_type": "code",
   "execution_count": 4,
   "metadata": {},
   "outputs": [],
   "source": [
    "def generate_random_solution():\n",
    "    category = df.category.values.tolist()\n",
    "    category_copy = category.copy()\n",
    "    hard_constrait = []\n",
    "    for cand in category_copy:\n",
    "        if cand == 'Ht' or cand == 'St':\n",
    "            hard_constrait.append(cand)\n",
    "            category.remove(cand)\n",
    "\n",
    "    empty_space = 2072 - len(hard_constrait)\n",
    "\n",
    "    soft_constrait = []\n",
    "    for cand in range(empty_space):\n",
    "        soft_constrait.append(rd.choice(category))\n",
    "\n",
    "    solution = hard_constrait + soft_constrait\n",
    "    \n",
    "    return solution, hard_constrait, category"
   ]
  },
  {
   "cell_type": "code",
   "execution_count": 5,
   "metadata": {},
   "outputs": [
    {
     "data": {
      "text/html": [
       "<div>\n",
       "<style scoped>\n",
       "    .dataframe tbody tr th:only-of-type {\n",
       "        vertical-align: middle;\n",
       "    }\n",
       "\n",
       "    .dataframe tbody tr th {\n",
       "        vertical-align: top;\n",
       "    }\n",
       "\n",
       "    .dataframe thead th {\n",
       "        text-align: right;\n",
       "    }\n",
       "</style>\n",
       "<table border=\"1\" class=\"dataframe\">\n",
       "  <thead>\n",
       "    <tr style=\"text-align: right;\">\n",
       "      <th></th>\n",
       "      <th>St</th>\n",
       "      <th>Ht</th>\n",
       "      <th>Ot</th>\n",
       "      <th>Fr</th>\n",
       "      <th>Fy</th>\n",
       "      <th>Sp</th>\n",
       "    </tr>\n",
       "  </thead>\n",
       "  <tbody>\n",
       "    <tr>\n",
       "      <th>0</th>\n",
       "      <td>260</td>\n",
       "      <td>60</td>\n",
       "      <td>894</td>\n",
       "      <td>430</td>\n",
       "      <td>360</td>\n",
       "      <td>68</td>\n",
       "    </tr>\n",
       "  </tbody>\n",
       "</table>\n",
       "</div>"
      ],
      "text/plain": [
       "    St  Ht   Ot   Fr   Fy  Sp\n",
       "0  260  60  894  430  360  68"
      ]
     },
     "execution_count": 5,
     "metadata": {},
     "output_type": "execute_result"
    }
   ],
   "source": [
    "solution, _ , _= generate_random_solution()\n",
    "frequency = Counter(solution)\n",
    "\n",
    "show = pd.DataFrame()\n",
    "for i in frequency: show[i] = [frequency[i]]\n",
    "show.head()"
   ]
  },
  {
   "cell_type": "code",
   "execution_count": 6,
   "metadata": {},
   "outputs": [],
   "source": [
    "data = {'Fy': 1360, 'Fr':1660, 'Ht':60, 'Sp':290, 'St':260, 'Ot':3736}\n",
    "\n",
    "soft_constr_weight = 1368 + 1660 + 290 + 3736\n",
    "weight = {'Fy': 1 - (1360/soft_constr_weight), 'Fr': 1-(1660/soft_constr_weight), 'Ht':1, 'Sp':1- (290/soft_constr_weight), 'St':1, 'Ot': 1- (3736/soft_constr_weight)}"
   ]
  },
  {
   "cell_type": "code",
   "execution_count": 7,
   "metadata": {},
   "outputs": [
    {
     "name": "stdout",
     "output_type": "stream",
     "text": [
      "{'Fy': 0.8072015877516303, 'Fr': 0.7646725262262546, 'Ht': 1, 'Sp': 0.9588885738588036, 'St': 1, 'Ot': 0.47037142047065494}\n"
     ]
    }
   ],
   "source": [
    "print(weight)"
   ]
  },
  {
   "cell_type": "code",
   "execution_count": 8,
   "metadata": {},
   "outputs": [],
   "source": [
    "def evaluate_solution(solution, weight):\n",
    "    frequency = Counter(solution)\n",
    "    loss = 0\n",
    "    for category in solution: loss += weight[category] * frequency[category]\n",
    "    return loss"
   ]
  },
  {
   "cell_type": "code",
   "execution_count": 9,
   "metadata": {},
   "outputs": [],
   "source": [
    "def mutate_solution(hard_constrait, category):\n",
    "#   mutate the solution by generating new soft constrait solution\n",
    "    empty_space = 2072 - len(hard_constrait)\n",
    "\n",
    "    soft_constrait = []\n",
    "    for cand in range(empty_space):\n",
    "        soft_constrait.append(rd.choice(category))\n",
    "\n",
    "    solution = hard_constrait + soft_constrait\n",
    "    \n",
    "    return solution"
   ]
  },
  {
   "cell_type": "code",
   "execution_count": 10,
   "metadata": {},
   "outputs": [],
   "source": [
    "def hill_climbing_CA(num_itr = 200):\n",
    "    start_time = time.time()\n",
    "    solution, hard_sol, soft_cat = generate_random_solution()\n",
    "    cost = evaluate_solution(solution, weight)\n",
    "    \n",
    "    best_solution = solution\n",
    "    cost_best_solution = cost\n",
    "    print(\"Iteration 0 ------ cost:- {}\".format(cost))\n",
    "    \n",
    "    for itr in range(1, num_itr+1):\n",
    "        solution = mutate_solution(hard_sol, soft_cat)\n",
    "        cost = evaluate_solution(solution, weight)\n",
    "        \n",
    "        if cost > cost_best_solution:\n",
    "            print(\"Iteration {} ------ Found a better solution with cost:- {}\".format(itr, cost))\n",
    "            best_solution = solution\n",
    "            cost_best_solution = cost\n",
    "            \n",
    "    end_time = time.time()\n",
    "    \n",
    "    print(\"\\n Time taken - {}seconds\".format(end_time-start_time))\n",
    "    return best_solution, cost_best_solution"
   ]
  },
  {
   "cell_type": "code",
   "execution_count": 153,
   "metadata": {},
   "outputs": [
    {
     "name": "stdout",
     "output_type": "stream",
     "text": [
      "Iteration 1 ------ cost:- 710411.969379095\n",
      "Iteration 0 ------ Found a better solution with cost:- 711838.8185426573\n",
      "Iteration 7 ------ Found a better solution with cost:- 724499.969379102\n",
      "Iteration 102 ------ Found a better solution with cost:- 730937.3178338665\n",
      "\n",
      " Time taken - 0.6491367816925049seconds\n"
     ]
    },
    {
     "data": {
      "text/html": [
       "<div>\n",
       "<style scoped>\n",
       "    .dataframe tbody tr th:only-of-type {\n",
       "        vertical-align: middle;\n",
       "    }\n",
       "\n",
       "    .dataframe tbody tr th {\n",
       "        vertical-align: top;\n",
       "    }\n",
       "\n",
       "    .dataframe thead th {\n",
       "        text-align: right;\n",
       "    }\n",
       "</style>\n",
       "<table border=\"1\" class=\"dataframe\">\n",
       "  <thead>\n",
       "    <tr style=\"text-align: right;\">\n",
       "      <th></th>\n",
       "      <th>St</th>\n",
       "      <th>Ht</th>\n",
       "      <th>Ot</th>\n",
       "      <th>Fy</th>\n",
       "      <th>Sp</th>\n",
       "      <th>Fr</th>\n",
       "    </tr>\n",
       "  </thead>\n",
       "  <tbody>\n",
       "    <tr>\n",
       "      <th>0</th>\n",
       "      <td>260</td>\n",
       "      <td>60</td>\n",
       "      <td>982</td>\n",
       "      <td>304</td>\n",
       "      <td>56</td>\n",
       "      <td>410</td>\n",
       "    </tr>\n",
       "  </tbody>\n",
       "</table>\n",
       "</div>"
      ],
      "text/plain": [
       "    St  Ht   Ot   Fy  Sp   Fr\n",
       "0  260  60  982  304  56  410"
      ]
     },
     "execution_count": 153,
     "metadata": {},
     "output_type": "execute_result"
    }
   ],
   "source": [
    "best_solution_CA, _ = hill_climbing_CA(200)\n",
    "\n",
    "frequency = Counter(best_solution_CA)\n",
    "\n",
    "show = pd.DataFrame()\n",
    "for i in frequency: show[i] = [frequency[i]]\n",
    "show.head()"
   ]
  },
  {
   "cell_type": "code",
   "execution_count": null,
   "metadata": {},
   "outputs": [],
   "source": []
  },
  {
   "cell_type": "code",
   "execution_count": 190,
   "metadata": {},
   "outputs": [],
   "source": [
    "HA_data = {'Akindeko': 625, 'Abiola':356, 'Adeniyi':195, 'New Male Hostel':792, 'Bisi Balogun':104}\n",
    "order = ['Fy','Fr','Ht','Sp','St','Ot']\n",
    "\n",
    "def generate_random_solution_HA(CA, HA_stat):\n",
    "    rd.shuffle(CA)\n",
    "    generated = {}\n",
    "    CA_copy = CA.copy()\n",
    "    for hall in HA_stat:\n",
    "        candidates = []\n",
    "        for count in range(HA_stat[hall]):\n",
    "            student = rd.choice(CA_copy)\n",
    "            candidates.append(student)\n",
    "            CA_copy.remove(student)\n",
    "        generated[hall] = candidates\n",
    "    \n",
    "    generated = list(generated.values())\n",
    "    \n",
    "    matrix_solution = []\n",
    "    for hall in generated:\n",
    "        solution = []\n",
    "        \n",
    "        frequency = Counter(hall) #count each category in each hall\n",
    "        for category in order:\n",
    "            solution.append(frequency[category]) #append count of each category in each hall\n",
    "        \n",
    "        matrix_solution.append(solution) # concatenate solutions of all categories in all halls together\n",
    "    \n",
    "#     transpose solution to allow rows represent each category and column represent each hall\n",
    "    matrix_solution = np.array(matrix_solution).transpose()\n",
    "    return matrix_solution"
   ]
  },
  {
   "cell_type": "code",
   "execution_count": 191,
   "metadata": {},
   "outputs": [
    {
     "data": {
      "text/html": [
       "<div>\n",
       "<style scoped>\n",
       "    .dataframe tbody tr th:only-of-type {\n",
       "        vertical-align: middle;\n",
       "    }\n",
       "\n",
       "    .dataframe tbody tr th {\n",
       "        vertical-align: top;\n",
       "    }\n",
       "\n",
       "    .dataframe thead th {\n",
       "        text-align: right;\n",
       "    }\n",
       "</style>\n",
       "<table border=\"1\" class=\"dataframe\">\n",
       "  <thead>\n",
       "    <tr style=\"text-align: right;\">\n",
       "      <th></th>\n",
       "      <th>Akindeko</th>\n",
       "      <th>Abiola</th>\n",
       "      <th>Adeniyi</th>\n",
       "      <th>New Male Hostel</th>\n",
       "      <th>Bisi Balogun</th>\n",
       "    </tr>\n",
       "  </thead>\n",
       "  <tbody>\n",
       "    <tr>\n",
       "      <th>Fy</th>\n",
       "      <td>101</td>\n",
       "      <td>52</td>\n",
       "      <td>32</td>\n",
       "      <td>125</td>\n",
       "      <td>18</td>\n",
       "    </tr>\n",
       "    <tr>\n",
       "      <th>Fr</th>\n",
       "      <td>106</td>\n",
       "      <td>62</td>\n",
       "      <td>36</td>\n",
       "      <td>154</td>\n",
       "      <td>11</td>\n",
       "    </tr>\n",
       "    <tr>\n",
       "      <th>Ht</th>\n",
       "      <td>23</td>\n",
       "      <td>8</td>\n",
       "      <td>4</td>\n",
       "      <td>21</td>\n",
       "      <td>4</td>\n",
       "    </tr>\n",
       "    <tr>\n",
       "      <th>Sp</th>\n",
       "      <td>11</td>\n",
       "      <td>11</td>\n",
       "      <td>2</td>\n",
       "      <td>32</td>\n",
       "      <td>2</td>\n",
       "    </tr>\n",
       "    <tr>\n",
       "      <th>St</th>\n",
       "      <td>85</td>\n",
       "      <td>42</td>\n",
       "      <td>25</td>\n",
       "      <td>93</td>\n",
       "      <td>15</td>\n",
       "    </tr>\n",
       "    <tr>\n",
       "      <th>Ot</th>\n",
       "      <td>299</td>\n",
       "      <td>181</td>\n",
       "      <td>96</td>\n",
       "      <td>367</td>\n",
       "      <td>54</td>\n",
       "    </tr>\n",
       "  </tbody>\n",
       "</table>\n",
       "</div>"
      ],
      "text/plain": [
       "    Akindeko  Abiola  Adeniyi  New Male Hostel  Bisi Balogun\n",
       "Fy       101      52       32              125            18\n",
       "Fr       106      62       36              154            11\n",
       "Ht        23       8        4               21             4\n",
       "Sp        11      11        2               32             2\n",
       "St        85      42       25               93            15\n",
       "Ot       299     181       96              367            54"
      ]
     },
     "execution_count": 191,
     "metadata": {},
     "output_type": "execute_result"
    }
   ],
   "source": [
    "solution_HA = generate_random_solution_HA(best_solution, HA_data)\n",
    "\n",
    "show = pd.DataFrame(solution_HA,\n",
    "                    columns = ['Akindeko', 'Abiola', 'Adeniyi', 'New Male Hostel', 'Bisi Balogun'],\n",
    "                    index = ['Fy','Fr','Ht','Sp','St','Ot'])\n",
    "\n",
    "show"
   ]
  },
  {
   "cell_type": "code",
   "execution_count": 192,
   "metadata": {},
   "outputs": [],
   "source": [
    "def evaluate_solution_FA(solution, data):\n",
    "    solution = {i:j for i,j in zip(data, solution)}\n",
    "    cost = 0\n",
    "    for cat in solution: #loop through each category \n",
    "        proportion = data[cat] - (max(solution[cat]) - min(solution[cat]))\n",
    "        N = sum(solution[cat] > 0 ) #number of halls that have some students of i-th category\n",
    "        cost += proportion * N\n",
    "    return cost"
   ]
  },
  {
   "cell_type": "code",
   "execution_count": 193,
   "metadata": {},
   "outputs": [],
   "source": [
    "def hill_climbing_HA(num_itr = 200):\n",
    "    start_time = time.time()\n",
    "    solution = generate_random_solution_HA(best_solution_CA, HA_data)\n",
    "    cost = evaluate_solution_FA(solution, data)\n",
    "    \n",
    "    best_solution = solution\n",
    "    cost_best_solution = cost\n",
    "    print(\"Iteration 0 ------ cost:- {}\".format(cost))\n",
    "    \n",
    "    for itr in range(1, num_itr+ 1):\n",
    "        solution = generate_random_solution_HA(best_solution_CA, HA_data)\n",
    "        cost = evaluate_solution_FA(solution, data)\n",
    "        \n",
    "        if cost > cost_best_solution:\n",
    "            print(\"Iteration {} ------ Found a better solution with cost:- {}\".format(itr, cost))\n",
    "            best_solution = solution\n",
    "            cost_best_solution = cost\n",
    "            \n",
    "    end_time = time.time()\n",
    "    \n",
    "    print(\"\\n Time taken - {}seconds\".format(end_time-start_time))\n",
    "    return best_solution"
   ]
  },
  {
   "cell_type": "code",
   "execution_count": 194,
   "metadata": {},
   "outputs": [
    {
     "name": "stdout",
     "output_type": "stream",
     "text": [
      "Iteration 0 ------ cost:- 33380\n",
      "Iteration 1 ------ Found a better solution with cost:- 33390\n",
      "\n",
      " Time taken - 1.3448424339294434seconds\n"
     ]
    },
    {
     "data": {
      "text/plain": [
       "array([[ 82,  53,  31, 118,  20],\n",
       "       [125,  61,  46, 155,  23],\n",
       "       [ 18,  13,   4,  22,   3],\n",
       "       [ 16,   9,   8,  22,   1],\n",
       "       [ 80,  42,  24, 105,   9],\n",
       "       [304, 178,  82, 370,  48]])"
      ]
     },
     "execution_count": 194,
     "metadata": {},
     "output_type": "execute_result"
    }
   ],
   "source": [
    "hill_climbing_HA()"
   ]
  },
  {
   "cell_type": "code",
   "execution_count": null,
   "metadata": {},
   "outputs": [],
   "source": []
  }
 ],
 "metadata": {
  "kernelspec": {
   "display_name": "Python 3",
   "language": "python",
   "name": "python3"
  },
  "language_info": {
   "codemirror_mode": {
    "name": "ipython",
    "version": 3
   },
   "file_extension": ".py",
   "mimetype": "text/x-python",
   "name": "python",
   "nbconvert_exporter": "python",
   "pygments_lexer": "ipython3",
   "version": "3.7.6"
  }
 },
 "nbformat": 4,
 "nbformat_minor": 4
}
