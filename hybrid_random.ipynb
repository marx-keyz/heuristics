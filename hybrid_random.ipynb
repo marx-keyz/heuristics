{
 "cells": [
  {
   "cell_type": "code",
   "execution_count": 1,
   "metadata": {},
   "outputs": [],
   "source": [
    "import pandas as pd\n",
    "import random as rd\n",
    "from collections import Counter\n",
    "import time\n",
    "import numpy as np\n",
    "import matplotlib\n",
    "import matplotlib.pyplot as plt\n",
    "%matplotlib inline"
   ]
  },
  {
   "cell_type": "code",
   "execution_count": 2,
   "metadata": {},
   "outputs": [],
   "source": [
    "def generate_random_solution(df):\n",
    "    category = df.category.values.tolist()\n",
    "    np.random.shuffle(category)\n",
    "    category_copy = category.copy()\n",
    "    hard_constrait = []\n",
    "    for cand in category_copy:\n",
    "        if cand == 'Ht' or cand == 'St':\n",
    "            hard_constrait.append(cand)\n",
    "            category.remove(cand)\n",
    "\n",
    "    empty_space = total - len(hard_constrait)\n",
    "\n",
    "    soft_constrait = []\n",
    "    for cand in range(empty_space):\n",
    "        soft_constrait.append(np.random.choice(category))\n",
    "\n",
    "    solution = hard_constrait + soft_constrait\n",
    "    \n",
    "    return solution, hard_constrait, category"
   ]
  },
  {
   "cell_type": "code",
   "execution_count": 3,
   "metadata": {},
   "outputs": [],
   "source": [
    "def evaluate_solution(solution, weight):\n",
    "    frequency = Counter(solution)\n",
    "    loss = 0\n",
    "    for category in solution: loss += weight[category] * frequency[category]\n",
    "    return loss"
   ]
  },
  {
   "cell_type": "code",
   "execution_count": 4,
   "metadata": {},
   "outputs": [],
   "source": [
    "def levyFlight(empty_space, category):\n",
    "    \"\"\"this will allow us jump over long distances 10% of the time and ...\n",
    "    add all the next seven categories in front as the short distance search\"\"\"\n",
    "    soft_constrait = []\n",
    "    while len(soft_constrait) <= empty_space:\n",
    "        choice_idx = np.random.choice(empty_space)\n",
    "        picker = np.random.choice(np.linspace(0.1, 0.7, 7)) #levy flight location probability constrait\n",
    "        if picker*total < choice_idx <= (picker+0.1)*total:\n",
    "            soft_constrait += category[choice_idx:choice_idx+7]\n",
    "        else: soft_constrait.append(category[choice_idx])\n",
    "    soft_constrait = soft_constrait[:empty_space]\n",
    "    return soft_constrait"
   ]
  },
  {
   "cell_type": "code",
   "execution_count": 5,
   "metadata": {},
   "outputs": [],
   "source": [
    "def mutate_solution(hard_constrait, category):\n",
    "#   mutate the solution by generating new soft constrait solution\n",
    "    empty_space = total - len(hard_constrait)\n",
    "\n",
    "    soft_constrait = levyFlight(empty_space, category)\n",
    "    solution = hard_constrait + soft_constrait    \n",
    "    return solution"
   ]
  },
  {
   "cell_type": "code",
   "execution_count": 6,
   "metadata": {},
   "outputs": [],
   "source": [
    "def check_tabu(tabu, solution):\n",
    "    tenure = 0\n",
    "    while solution in tabu.values() and tenure < tabu_tenure:\n",
    "        solution  = mutate_solution(hard_sol, new_category)\n",
    "        tenure += 1\n",
    "    \n",
    "    cost = evaluate_solution(solution, weight)\n",
    "        \n",
    "    tabu_copy = tabu.copy()\n",
    "    for val in tabu.keys():\n",
    "        if cost > val:\n",
    "            del tabu_copy[val]\n",
    "            tabu_copy[cost] = solution\n",
    "            \n",
    "    return solution, cost, tabu_copy"
   ]
  },
  {
   "cell_type": "code",
   "execution_count": 7,
   "metadata": {},
   "outputs": [],
   "source": [
    "def cuckoo_tabu_CA(df, num_itr = 200, num_nests = 4, tabu_length = 2, tabu_tenure = 50):\n",
    "    start_time = time.time()\n",
    "    \n",
    "    record = {}\n",
    "#     initialize tabu_list\n",
    "    tabu_list = {}\n",
    "#     create nests and insert one solution in each\n",
    "    nests = { }\n",
    "    for nest in range(num_nests):\n",
    "        solution = generate_random_solution(df)\n",
    "        new_category = solution[-1].copy()\n",
    "        \n",
    "        tabu_tenure_c = 0\n",
    "        while solution[0] in tabu_list.values() and tabu_tenure_c < tabu_tenure:            \n",
    "            solution = generate_random_solution(df)\n",
    "            tabu_tenure += 1\n",
    "\n",
    "        cost = evaluate_solution(solution[0], weight)\n",
    "\n",
    "        # check if generated solution is in tabu_list\n",
    "        if len(tabu_list) < tabu_length: tabu_list[cost] = solution[0] #add to tabu\n",
    "            \n",
    "        solution = list(solution[:-1])\n",
    "        solution.append(cost)\n",
    "        nests[nest] = solution #add to nests\n",
    "        \n",
    "#     create a cuckoo solution\n",
    "    cuckoo_solution, hard_sol, _ = nests[0]\n",
    "    cuckoo_solution = mutate_solution(hard_sol, new_category)\n",
    "    cuckoo_solution, cost, tabu_list = check_tabu(tabu_list, cuckoo_solution)\n",
    "    record[0] = cost\n",
    "    \n",
    "    idx_c_nest = np.random.choice(list(nests.keys()))\n",
    "    if cost > nests[idx_c_nest][-1]:\n",
    "        nests[idx_c_nest] = (cuckoo_solution, hard_sol, cost)\n",
    "        print(\"Iteration 0.... cuckoo solution replaces solution at nest {} with cost {}\".format(idx_c_nest+1, cost))\n",
    "        \n",
    "    for itr in range(num_itr):\n",
    "        cuckoo_solution = mutate_solution(hard_sol, new_category)\n",
    "        cuckoo_solution, cost, tabu_list = check_tabu(tabu_list, cuckoo_solution)\n",
    "        record[itr] = cost\n",
    "        idx_c_nest = np.random.choice(list(nests.keys()))\n",
    "        if cost > nests[idx_c_nest][-1]:\n",
    "            nests[idx_c_nest] = (cuckoo_solution, hard_sol, cost)\n",
    "            print(\"Iteration {}.... cuckoo solution replaces solution at nest {} with cost {}\".format(itr, idx_c_nest+1, cost))\n",
    "            \n",
    "#         select the best solution within all nests\n",
    "    nests = {v[-1]:v[0] for k,v in nests.items()}\n",
    "    best_cost = min(list(nests.keys()))\n",
    "    best_solution = nests[best_cost]\n",
    "    \n",
    "    end_time = time.time()\n",
    "    print(\"\\n Time taken - {}seconds\".format(end_time-start_time))\n",
    "    return best_solution, record"
   ]
  },
  {
   "cell_type": "code",
   "execution_count": 8,
   "metadata": {},
   "outputs": [],
   "source": [
    "def generate_random_solution_HA(CA, HA_stat):\n",
    "    np.random.shuffle(CA)\n",
    "    generated = {}\n",
    "    CA_copy = CA.copy()\n",
    "    for hall in HA_stat:\n",
    "        candidates = []\n",
    "        for count in range(HA_stat[hall]):\n",
    "            student = np.random.choice(CA_copy)\n",
    "            candidates.append(student)\n",
    "            CA_copy.remove(student)\n",
    "        generated[hall] = candidates\n",
    "    \n",
    "    generated = list(generated.values())\n",
    "    \n",
    "    matrix_solution = []\n",
    "    for hall in generated:\n",
    "        solution = []\n",
    "        \n",
    "        frequency = Counter(hall) #count each category in each hall\n",
    "        for category in order:\n",
    "            solution.append(frequency[category]) #append count of each category in each hall\n",
    "        \n",
    "        matrix_solution.append(solution) # concatenate solutions of all categories in all halls together\n",
    "    \n",
    "#     transpose solution to allow rows represent each category and column represent each hall\n",
    "    matrix_solution = np.array(matrix_solution).transpose()\n",
    "    return matrix_solution"
   ]
  },
  {
   "cell_type": "code",
   "execution_count": 9,
   "metadata": {},
   "outputs": [],
   "source": [
    "def evaluate_solution_HA(solution, data):\n",
    "    solution = {i:j for i,j in zip(data, solution)}\n",
    "    cost = 0\n",
    "    for cat in solution: #loop through each category \n",
    "        proportion = data[cat] - (max(solution[cat]) - min(solution[cat]))\n",
    "        N = sum(solution[cat] > 0 ) #number of halls that have some students of i-th category\n",
    "        cost += proportion * N\n",
    "    return cost"
   ]
  },
  {
   "cell_type": "code",
   "execution_count": 10,
   "metadata": {},
   "outputs": [],
   "source": [
    "def levyFlight_HA(empty_space, CA):\n",
    "    \"\"\"this will allow us jump over long distances 10% of the time and ...\n",
    "    add all the next seven categories in front as the short distance search\"\"\"\n",
    "    space = empty_space\n",
    "    soft_constrait = []\n",
    "    while len(soft_constrait) < space:\n",
    "            \n",
    "        choice_idx = np.random.choice(empty_space)\n",
    "        picker = np.random.choice(np.linspace(0.1, 0.8, 8))\n",
    "        \n",
    "        if picker*empty_space < choice_idx <= ((picker+0.1)*empty_space): #10% probability\n",
    "            if choice_idx+3 > len(CA) and len(CA) > 3:\n",
    "                soft_constrait += CA[choice_idx-3:choice_idx]\n",
    "                del CA[choice_idx-3:choice_idx]\n",
    "                empty_space -= len(CA[choice_idx-3:choice_idx])\n",
    "            \n",
    "            elif len(CA) <= 3:\n",
    "                soft_constrait += CA[:]\n",
    "                del CA[:]\n",
    "                empty_space -= len(CA[:])\n",
    "                \n",
    "            else:\n",
    "                soft_constrait += CA[choice_idx:choice_idx+3]\n",
    "                del CA[choice_idx:choice_idx+3]\n",
    "                empty_space -= len(CA[choice_idx:choice_idx+3])\n",
    "        \n",
    "        elif choice_idx < len(CA):\n",
    "            soft_constrait.append(CA[choice_idx-1])\n",
    "            empty_space -= 1\n",
    "            CA.remove(CA[choice_idx-1])\n",
    "            \n",
    "    CA += soft_constrait[space:]  \n",
    "    soft_constrait = soft_constrait[:space]\n",
    "\n",
    "    return soft_constrait, CA"
   ]
  },
  {
   "cell_type": "code",
   "execution_count": 11,
   "metadata": {},
   "outputs": [],
   "source": [
    "def mutate_solution_HA(CA, HA_stat):\n",
    "    generated = {}\n",
    "    CA_copy = CA.copy()\n",
    "    for hall in HA_stat:\n",
    "        candidates, CA_copy = levyFlight_HA(HA_stat[hall], CA_copy)\n",
    "        generated[hall] = candidates        \n",
    "        \n",
    "    generated = list(generated.values())\n",
    "    \n",
    "    matrix_solution = []\n",
    "    for hall in generated:\n",
    "        solution = []\n",
    "        \n",
    "        frequency = Counter(hall) #count each category in each hall\n",
    "        for category in order:\n",
    "            solution.append(frequency[category]) #append count of each category in each hall\n",
    "        \n",
    "        matrix_solution.append(solution) # concatenate solutions of all categories in all halls together\n",
    "    \n",
    "#     transpose solution to allow rows represent each category and column represent each hall\n",
    "    matrix_solution = np.array(matrix_solution).transpose()\n",
    "    return matrix_solution"
   ]
  },
  {
   "cell_type": "code",
   "execution_count": 12,
   "metadata": {},
   "outputs": [],
   "source": [
    "def check_tabu_HA(tabu, solution):\n",
    "    tenure = 0\n",
    "    while solution.flatten().tolist() in [i.flatten().tolist() for i in tabu.values()] and tenure < tabu_tenure:\n",
    "        solution  = mutate_solution_HA(best_solution_CA, HA_data)\n",
    "        tenure += 1\n",
    "    \n",
    "    cost = evaluate_solution_HA(solution, best_solution_CA_dict)\n",
    "        \n",
    "    tabu_copy = tabu.copy()\n",
    "    for val in tabu.keys():\n",
    "        if cost > val:\n",
    "            del tabu_copy[val]\n",
    "            tabu_copy[cost] = solution\n",
    "            \n",
    "    return solution, cost, tabu_copy"
   ]
  },
  {
   "cell_type": "code",
   "execution_count": 13,
   "metadata": {},
   "outputs": [],
   "source": [
    "def cuckoo_tabu_HA(df, num_itr = 200, num_nests = 4, tabu_length = 2, tabu_tenure = 50):\n",
    "    start_time = time.time()\n",
    "\n",
    "    record = {}\n",
    "#     initialize tabu_list\n",
    "    tabu_list = {}\n",
    "    \n",
    "#     create nests and insert one solution in each\n",
    "    nests = { }\n",
    "    for nest in range(num_nests):\n",
    "        solution = generate_random_solution_HA(best_solution_CA, HA_data)\n",
    "        \n",
    "        tabu_tenure_c = 0\n",
    "        while solution.flatten().tolist() in [i.flatten().tolist() for i in tabu_list.values()] and tabu_tenure_c < tabu_tenure:            \n",
    "            solution = generate_random_solution_HA(best_solution_CA, HA_data)\n",
    "            tabu_tenure_c += 1\n",
    "\n",
    "        cost = evaluate_solution_HA(solution, best_solution_CA_dict)\n",
    "\n",
    "        # check if generated solution is in tabu_list\n",
    "        if len(tabu_list) < tabu_length: tabu_list[cost] = solution #add to tabu\n",
    "            \n",
    "        nests[nest] = (solution, cost) #add to nests\n",
    "        \n",
    "#     create a cuckoo solution\n",
    "    cuckoo_solution = mutate_solution_HA(best_solution_CA, HA_data)\n",
    "    cuckoo_solution, cost, tabu_list = check_tabu_HA(tabu_list, cuckoo_solution)\n",
    "    record[0] = cost\n",
    "    idx_c_nest = np.random.choice(list(nests.keys()))\n",
    "    if cost > nests[idx_c_nest][-1]:\n",
    "        nests[idx_c_nest] = (cuckoo_solution, cost)\n",
    "        print(\"Iteration 0.... cuckoo solution replaces solution at nest {} with cost {}\".format(idx_c_nest+1, cost))\n",
    "        \n",
    "    for itr in range(num_itr):\n",
    "        cuckoo_solution = mutate_solution_HA(best_solution_CA, HA_data)\n",
    "        cuckoo_solution, cost, tabu_list = check_tabu_HA(tabu_list, cuckoo_solution)\n",
    "        record[itr] = cost\n",
    "        idx_c_nest = np.random.choice(list(nests.keys()))\n",
    "        if cost > nests[idx_c_nest][-1]:\n",
    "            nests[idx_c_nest] = (cuckoo_solution, cost)\n",
    "            print(\"Iteration {}.... cuckoo solution replaces solution at nest {} with cost {}\".format(itr, idx_c_nest+1, cost))\n",
    "                        \n",
    "#         select the best solution within all nests\n",
    "    nests = {v[-1]:v[0] for k,v in nests.items()}\n",
    "    best_cost = max(list(nests.keys()))\n",
    "    best_solution = nests[best_cost]\n",
    "    \n",
    "    end_time = time.time()\n",
    "    print(\"\\n Time taken - {}seconds\".format(end_time-start_time))\n",
    "    print(' Best Fitness value -', best_cost)\n",
    "    return best_solution, record"
   ]
  },
  {
   "cell_type": "markdown",
   "metadata": {},
   "source": [
    "## **Implementation - Male applicants**"
   ]
  },
  {
   "cell_type": "code",
   "execution_count": 14,
   "metadata": {},
   "outputs": [
    {
     "data": {
      "text/html": [
       "<div>\n",
       "<style scoped>\n",
       "    .dataframe tbody tr th:only-of-type {\n",
       "        vertical-align: middle;\n",
       "    }\n",
       "\n",
       "    .dataframe tbody tr th {\n",
       "        vertical-align: top;\n",
       "    }\n",
       "\n",
       "    .dataframe thead th {\n",
       "        text-align: right;\n",
       "    }\n",
       "</style>\n",
       "<table border=\"1\" class=\"dataframe\">\n",
       "  <thead>\n",
       "    <tr style=\"text-align: right;\">\n",
       "      <th></th>\n",
       "      <th>names</th>\n",
       "      <th>category</th>\n",
       "      <th>weight</th>\n",
       "    </tr>\n",
       "  </thead>\n",
       "  <tbody>\n",
       "    <tr>\n",
       "      <th>0</th>\n",
       "      <td>rqtttt</td>\n",
       "      <td>Ot</td>\n",
       "      <td>0.5</td>\n",
       "    </tr>\n",
       "    <tr>\n",
       "      <th>1</th>\n",
       "      <td>zhuztd</td>\n",
       "      <td>Ot</td>\n",
       "      <td>0.5</td>\n",
       "    </tr>\n",
       "    <tr>\n",
       "      <th>2</th>\n",
       "      <td>hqxfqg</td>\n",
       "      <td>Ot</td>\n",
       "      <td>0.5</td>\n",
       "    </tr>\n",
       "    <tr>\n",
       "      <th>3</th>\n",
       "      <td>sanjtt</td>\n",
       "      <td>Fy</td>\n",
       "      <td>0.5</td>\n",
       "    </tr>\n",
       "    <tr>\n",
       "      <th>4</th>\n",
       "      <td>mjbgpk</td>\n",
       "      <td>Ot</td>\n",
       "      <td>0.5</td>\n",
       "    </tr>\n",
       "  </tbody>\n",
       "</table>\n",
       "</div>"
      ],
      "text/plain": [
       "    names category  weight\n",
       "0  rqtttt       Ot     0.5\n",
       "1  zhuztd       Ot     0.5\n",
       "2  hqxfqg       Ot     0.5\n",
       "3  sanjtt       Fy     0.5\n",
       "4  mjbgpk       Ot     0.5"
      ]
     },
     "execution_count": 14,
     "metadata": {},
     "output_type": "execute_result"
    }
   ],
   "source": [
    "# Read in data\n",
    "male_df = pd.read_csv('male_applicants.csv')\n",
    "male_df.head()"
   ]
  },
  {
   "cell_type": "code",
   "execution_count": 15,
   "metadata": {},
   "outputs": [
    {
     "name": "stdout",
     "output_type": "stream",
     "text": [
      "{'Fy': 0.8072015877516303, 'Fr': 0.7646725262262546, 'Ht': 1, 'Sp': 0.9588885738588036, 'St': 1, 'Ot': 0.47037142047065494}\n"
     ]
    }
   ],
   "source": [
    "#this represents the amount of student that applied for each category\n",
    "male_data = {'Fy': 1360, 'Fr':1660, 'Ht':60, 'Sp':290, 'St':260, 'Ot':3736} \n",
    "\n",
    "#total amount of students that can be taken by all male hostels\n",
    "total = 2072 \n",
    "\n",
    "#total amount of students that belong to the soft constrait group\n",
    "soft_constr_weight = 1368 + 1660 + 290 + 3736 \n",
    "\n",
    "#weight the population of the soft constrait group based the amount of people that applied\n",
    "weight = {'Fy': 1 - (1360/soft_constr_weight), 'Fr': 1-(1660/soft_constr_weight), 'Ht':1, 'Sp':1- (290/soft_constr_weight), 'St':1, 'Ot': 1- (3736/soft_constr_weight)}\n",
    "print(weight)"
   ]
  },
  {
   "cell_type": "code",
   "execution_count": 16,
   "metadata": {},
   "outputs": [],
   "source": [
    "#amount of students that can be allocated to each male hostel\n",
    "HA_data = {'Akindeko': 625, 'Abiola':356, 'Adeniyi':195, 'New Male Hostel':792, 'Bisi Balogun':104}\n",
    "order = ['Fy','Fr','Ht','Sp','St','Ot']"
   ]
  },
  {
   "cell_type": "markdown",
   "metadata": {},
   "source": [
    "#### **Generate a random solution - Category Allocation (CA): MALE APPLICANTS**"
   ]
  },
  {
   "cell_type": "code",
   "execution_count": 17,
   "metadata": {},
   "outputs": [
    {
     "data": {
      "text/html": [
       "<div>\n",
       "<style scoped>\n",
       "    .dataframe tbody tr th:only-of-type {\n",
       "        vertical-align: middle;\n",
       "    }\n",
       "\n",
       "    .dataframe tbody tr th {\n",
       "        vertical-align: top;\n",
       "    }\n",
       "\n",
       "    .dataframe thead th {\n",
       "        text-align: right;\n",
       "    }\n",
       "</style>\n",
       "<table border=\"1\" class=\"dataframe\">\n",
       "  <thead>\n",
       "    <tr style=\"text-align: right;\">\n",
       "      <th></th>\n",
       "      <th>St</th>\n",
       "      <th>Ht</th>\n",
       "      <th>Fy</th>\n",
       "      <th>Ot</th>\n",
       "      <th>Fr</th>\n",
       "      <th>Sp</th>\n",
       "    </tr>\n",
       "  </thead>\n",
       "  <tbody>\n",
       "    <tr>\n",
       "      <th>0</th>\n",
       "      <td>260</td>\n",
       "      <td>60</td>\n",
       "      <td>322</td>\n",
       "      <td>928</td>\n",
       "      <td>439</td>\n",
       "      <td>63</td>\n",
       "    </tr>\n",
       "  </tbody>\n",
       "</table>\n",
       "</div>"
      ],
      "text/plain": [
       "    St  Ht   Fy   Ot   Fr  Sp\n",
       "0  260  60  322  928  439  63"
      ]
     },
     "execution_count": 17,
     "metadata": {},
     "output_type": "execute_result"
    }
   ],
   "source": [
    "solution, _ , _= generate_random_solution(male_df)\n",
    "frequency = Counter(solution)\n",
    "\n",
    "show = pd.DataFrame()\n",
    "for i in frequency: show[i] = [frequency[i]]\n",
    "show.head()"
   ]
  },
  {
   "cell_type": "markdown",
   "metadata": {},
   "source": [
    "#### **HHybridized Cuckoo_Tabu optimized solution - Category Allocation (CA) MALE APPLICANTS**"
   ]
  },
  {
   "cell_type": "code",
   "execution_count": 18,
   "metadata": {},
   "outputs": [
    {
     "name": "stdout",
     "output_type": "stream",
     "text": [
      "Iteration 0.... cuckoo solution replaces solution at nest 2 with cost 720815.0725829408\n",
      "Iteration 0.... cuckoo solution replaces solution at nest 1 with cost 722685.4899347943\n",
      "Iteration 15.... cuckoo solution replaces solution at nest 4 with cost 719378.1831584822\n",
      "Iteration 16.... cuckoo solution replaces solution at nest 3 with cost 712409.0175786611\n",
      "Iteration 17.... cuckoo solution replaces solution at nest 3 with cost 714798.4363481605\n",
      "Iteration 23.... cuckoo solution replaces solution at nest 1 with cost 730776.391267368\n",
      "Iteration 40.... cuckoo solution replaces solution at nest 3 with cost 717883.151686977\n",
      "Iteration 42.... cuckoo solution replaces solution at nest 3 with cost 719317.0391267393\n",
      "Iteration 45.... cuckoo solution replaces solution at nest 4 with cost 729423.9693790877\n",
      "Iteration 54.... cuckoo solution replaces solution at nest 3 with cost 724521.7740289163\n",
      "Iteration 59.... cuckoo solution replaces solution at nest 3 with cost 730134.5384179015\n",
      "Iteration 70.... cuckoo solution replaces solution at nest 2 with cost 723131.3660334455\n",
      "Iteration 77.... cuckoo solution replaces solution at nest 4 with cost 733470.5077970076\n",
      "Iteration 90.... cuckoo solution replaces solution at nest 2 with cost 731456.1579245697\n",
      "Iteration 124.... cuckoo solution replaces solution at nest 2 with cost 733002.9123901273\n",
      "Iteration 199.... cuckoo solution replaces solution at nest 3 with cost 730672.8644740775\n",
      "\n",
      " Time taken - 33.92504811286926seconds\n"
     ]
    },
    {
     "data": {
      "text/html": [
       "<div>\n",
       "<style scoped>\n",
       "    .dataframe tbody tr th:only-of-type {\n",
       "        vertical-align: middle;\n",
       "    }\n",
       "\n",
       "    .dataframe tbody tr th {\n",
       "        vertical-align: top;\n",
       "    }\n",
       "\n",
       "    .dataframe thead th {\n",
       "        text-align: right;\n",
       "    }\n",
       "</style>\n",
       "<table border=\"1\" class=\"dataframe\">\n",
       "  <thead>\n",
       "    <tr style=\"text-align: right;\">\n",
       "      <th></th>\n",
       "      <th>St</th>\n",
       "      <th>Ht</th>\n",
       "      <th>Ot</th>\n",
       "      <th>Sp</th>\n",
       "      <th>Fr</th>\n",
       "      <th>Fy</th>\n",
       "    </tr>\n",
       "  </thead>\n",
       "  <tbody>\n",
       "    <tr>\n",
       "      <th>0</th>\n",
       "      <td>260</td>\n",
       "      <td>60</td>\n",
       "      <td>1007</td>\n",
       "      <td>73</td>\n",
       "      <td>351</td>\n",
       "      <td>321</td>\n",
       "    </tr>\n",
       "  </tbody>\n",
       "</table>\n",
       "</div>"
      ],
      "text/plain": [
       "    St  Ht    Ot  Sp   Fr   Fy\n",
       "0  260  60  1007  73  351  321"
      ]
     },
     "execution_count": 18,
     "metadata": {},
     "output_type": "execute_result"
    }
   ],
   "source": [
    "best_solution_CA, graph = cuckoo_tabu_CA(male_df)\n",
    "\n",
    "frequency = Counter(best_solution_CA)\n",
    "\n",
    "best_solution_CA_dict = {i:j for i,j in frequency.items()}\n",
    "\n",
    "show = pd.DataFrame()\n",
    "for i in frequency: show[i] = [frequency[i]]\n",
    "show.head()"
   ]
  },
  {
   "cell_type": "code",
   "execution_count": 19,
   "metadata": {},
   "outputs": [
    {
     "data": {
      "image/png": "[encoded data removed]",
      "text/plain": [
       "<Figure size 540x360 with 1 Axes>"
      ]
     },
     "metadata": {
      "needs_background": "light"
     },
     "output_type": "display_data"
    }
   ],
   "source": [
    "plt.figure(dpi = 90)\n",
    "plt.title(\"Frequency value  VS  Number of iteration\")\n",
    "plt.xlabel('Number of Iterations')\n",
    "plt.ylabel('Fitness value')\n",
    "plt.plot(list(graph.keys()), list(graph.values()))\n",
    "plt.show()"
   ]
  },
  {
   "cell_type": "markdown",
   "metadata": {},
   "source": [
    "#### **Generate a random solution- Hall Allocation (HA) MALE APPLICANTS**"
   ]
  },
  {
   "cell_type": "code",
   "execution_count": 20,
   "metadata": {},
   "outputs": [
    {
     "data": {
      "text/html": [
       "<div>\n",
       "<style scoped>\n",
       "    .dataframe tbody tr th:only-of-type {\n",
       "        vertical-align: middle;\n",
       "    }\n",
       "\n",
       "    .dataframe tbody tr th {\n",
       "        vertical-align: top;\n",
       "    }\n",
       "\n",
       "    .dataframe thead th {\n",
       "        text-align: right;\n",
       "    }\n",
       "</style>\n",
       "<table border=\"1\" class=\"dataframe\">\n",
       "  <thead>\n",
       "    <tr style=\"text-align: right;\">\n",
       "      <th></th>\n",
       "      <th>Akindeko</th>\n",
       "      <th>Abiola</th>\n",
       "      <th>Adeniyi</th>\n",
       "      <th>New Male Hostel</th>\n",
       "      <th>Bisi Balogun</th>\n",
       "    </tr>\n",
       "  </thead>\n",
       "  <tbody>\n",
       "    <tr>\n",
       "      <th>Fy</th>\n",
       "      <td>93</td>\n",
       "      <td>52</td>\n",
       "      <td>39</td>\n",
       "      <td>126</td>\n",
       "      <td>11</td>\n",
       "    </tr>\n",
       "    <tr>\n",
       "      <th>Fr</th>\n",
       "      <td>92</td>\n",
       "      <td>69</td>\n",
       "      <td>27</td>\n",
       "      <td>148</td>\n",
       "      <td>15</td>\n",
       "    </tr>\n",
       "    <tr>\n",
       "      <th>Ht</th>\n",
       "      <td>16</td>\n",
       "      <td>11</td>\n",
       "      <td>6</td>\n",
       "      <td>26</td>\n",
       "      <td>1</td>\n",
       "    </tr>\n",
       "    <tr>\n",
       "      <th>Sp</th>\n",
       "      <td>26</td>\n",
       "      <td>9</td>\n",
       "      <td>2</td>\n",
       "      <td>30</td>\n",
       "      <td>6</td>\n",
       "    </tr>\n",
       "    <tr>\n",
       "      <th>St</th>\n",
       "      <td>82</td>\n",
       "      <td>50</td>\n",
       "      <td>19</td>\n",
       "      <td>96</td>\n",
       "      <td>13</td>\n",
       "    </tr>\n",
       "    <tr>\n",
       "      <th>Ot</th>\n",
       "      <td>316</td>\n",
       "      <td>165</td>\n",
       "      <td>102</td>\n",
       "      <td>366</td>\n",
       "      <td>58</td>\n",
       "    </tr>\n",
       "  </tbody>\n",
       "</table>\n",
       "</div>"
      ],
      "text/plain": [
       "    Akindeko  Abiola  Adeniyi  New Male Hostel  Bisi Balogun\n",
       "Fy        93      52       39              126            11\n",
       "Fr        92      69       27              148            15\n",
       "Ht        16      11        6               26             1\n",
       "Sp        26       9        2               30             6\n",
       "St        82      50       19               96            13\n",
       "Ot       316     165      102              366            58"
      ]
     },
     "execution_count": 20,
     "metadata": {},
     "output_type": "execute_result"
    }
   ],
   "source": [
    "solution_HA = generate_random_solution_HA(best_solution_CA, HA_data)\n",
    "\n",
    "show = pd.DataFrame(solution_HA,\n",
    "                    columns = ['Akindeko', 'Abiola', 'Adeniyi', 'New Male Hostel', 'Bisi Balogun'],\n",
    "                    index = ['Fy','Fr','Ht','Sp','St','Ot'])\n",
    "\n",
    "show"
   ]
  },
  {
   "cell_type": "markdown",
   "metadata": {},
   "source": [
    "#### **Hybridized Cuckoo_Tabu optimized solution- Hall Allocation (HA) MALE APPLICANTS**"
   ]
  },
  {
   "cell_type": "code",
   "execution_count": 21,
   "metadata": {},
   "outputs": [
    {
     "name": "stdout",
     "output_type": "stream",
     "text": [
      "Iteration 22.... cuckoo solution replaces solution at nest 4 with cost 6910\n",
      "Iteration 114.... cuckoo solution replaces solution at nest 4 with cost 6915\n",
      "\n",
      " Time taken - 61.372923612594604seconds\n",
      " Best Fitness value - 6920\n"
     ]
    },
    {
     "data": {
      "text/html": [
       "<div>\n",
       "<style scoped>\n",
       "    .dataframe tbody tr th:only-of-type {\n",
       "        vertical-align: middle;\n",
       "    }\n",
       "\n",
       "    .dataframe tbody tr th {\n",
       "        vertical-align: top;\n",
       "    }\n",
       "\n",
       "    .dataframe thead th {\n",
       "        text-align: right;\n",
       "    }\n",
       "</style>\n",
       "<table border=\"1\" class=\"dataframe\">\n",
       "  <thead>\n",
       "    <tr style=\"text-align: right;\">\n",
       "      <th></th>\n",
       "      <th>Akindeko</th>\n",
       "      <th>Abiola</th>\n",
       "      <th>Adeniyi</th>\n",
       "      <th>New Male Hostel</th>\n",
       "      <th>Bisi Balogun</th>\n",
       "    </tr>\n",
       "  </thead>\n",
       "  <tbody>\n",
       "    <tr>\n",
       "      <th>Fy</th>\n",
       "      <td>95</td>\n",
       "      <td>55</td>\n",
       "      <td>35</td>\n",
       "      <td>125</td>\n",
       "      <td>11</td>\n",
       "    </tr>\n",
       "    <tr>\n",
       "      <th>Fr</th>\n",
       "      <td>114</td>\n",
       "      <td>58</td>\n",
       "      <td>27</td>\n",
       "      <td>127</td>\n",
       "      <td>25</td>\n",
       "    </tr>\n",
       "    <tr>\n",
       "      <th>Ht</th>\n",
       "      <td>19</td>\n",
       "      <td>8</td>\n",
       "      <td>7</td>\n",
       "      <td>22</td>\n",
       "      <td>4</td>\n",
       "    </tr>\n",
       "    <tr>\n",
       "      <th>Sp</th>\n",
       "      <td>17</td>\n",
       "      <td>10</td>\n",
       "      <td>10</td>\n",
       "      <td>34</td>\n",
       "      <td>2</td>\n",
       "    </tr>\n",
       "    <tr>\n",
       "      <th>St</th>\n",
       "      <td>74</td>\n",
       "      <td>45</td>\n",
       "      <td>25</td>\n",
       "      <td>107</td>\n",
       "      <td>9</td>\n",
       "    </tr>\n",
       "    <tr>\n",
       "      <th>Ot</th>\n",
       "      <td>306</td>\n",
       "      <td>180</td>\n",
       "      <td>91</td>\n",
       "      <td>377</td>\n",
       "      <td>53</td>\n",
       "    </tr>\n",
       "  </tbody>\n",
       "</table>\n",
       "</div>"
      ],
      "text/plain": [
       "    Akindeko  Abiola  Adeniyi  New Male Hostel  Bisi Balogun\n",
       "Fy        95      55       35              125            11\n",
       "Fr       114      58       27              127            25\n",
       "Ht        19       8        7               22             4\n",
       "Sp        17      10       10               34             2\n",
       "St        74      45       25              107             9\n",
       "Ot       306     180       91              377            53"
      ]
     },
     "execution_count": 21,
     "metadata": {},
     "output_type": "execute_result"
    }
   ],
   "source": [
    "result, graph = cuckoo_tabu_HA(200) \n",
    "show = pd.DataFrame(result,\n",
    "                    columns = ['Akindeko', 'Abiola', 'Adeniyi', 'New Male Hostel', 'Bisi Balogun'],\n",
    "                    index = ['Fy','Fr','Ht','Sp','St','Ot'])\n",
    "\n",
    "show"
   ]
  },
  {
   "cell_type": "code",
   "execution_count": 22,
   "metadata": {},
   "outputs": [
    {
     "data": {
      "image/png": "[encoded data removed]",
      "text/plain": [
       "<Figure size 540x360 with 1 Axes>"
      ]
     },
     "metadata": {
      "needs_background": "light"
     },
     "output_type": "display_data"
    }
   ],
   "source": [
    "plt.figure(dpi = 90)\n",
    "plt.title(\"Frequency value  VS  Number of iteration\")\n",
    "plt.xlabel('Number of Iterations')\n",
    "plt.ylabel('Fitness value')\n",
    "plt.plot(list(graph.keys()), list(graph.values()))\n",
    "plt.show()"
   ]
  },
  {
   "cell_type": "code",
   "execution_count": null,
   "metadata": {},
   "outputs": [],
   "source": []
  },
  {
   "cell_type": "markdown",
   "metadata": {},
   "source": [
    "## **Implementation - Female applicants**"
   ]
  },
  {
   "cell_type": "code",
   "execution_count": 23,
   "metadata": {},
   "outputs": [
    {
     "data": {
      "text/html": [
       "<div>\n",
       "<style scoped>\n",
       "    .dataframe tbody tr th:only-of-type {\n",
       "        vertical-align: middle;\n",
       "    }\n",
       "\n",
       "    .dataframe tbody tr th {\n",
       "        vertical-align: top;\n",
       "    }\n",
       "\n",
       "    .dataframe thead th {\n",
       "        text-align: right;\n",
       "    }\n",
       "</style>\n",
       "<table border=\"1\" class=\"dataframe\">\n",
       "  <thead>\n",
       "    <tr style=\"text-align: right;\">\n",
       "      <th></th>\n",
       "      <th>names</th>\n",
       "      <th>category</th>\n",
       "    </tr>\n",
       "  </thead>\n",
       "  <tbody>\n",
       "    <tr>\n",
       "      <th>0</th>\n",
       "      <td>ymguns</td>\n",
       "      <td>Fy</td>\n",
       "    </tr>\n",
       "    <tr>\n",
       "      <th>1</th>\n",
       "      <td>xhvcdk</td>\n",
       "      <td>Fy</td>\n",
       "    </tr>\n",
       "    <tr>\n",
       "      <th>2</th>\n",
       "      <td>vdnszo</td>\n",
       "      <td>Ot</td>\n",
       "    </tr>\n",
       "    <tr>\n",
       "      <th>3</th>\n",
       "      <td>vbcnxs</td>\n",
       "      <td>Ot</td>\n",
       "    </tr>\n",
       "    <tr>\n",
       "      <th>4</th>\n",
       "      <td>wcdduo</td>\n",
       "      <td>Ot</td>\n",
       "    </tr>\n",
       "  </tbody>\n",
       "</table>\n",
       "</div>"
      ],
      "text/plain": [
       "    names category\n",
       "0  ymguns       Fy\n",
       "1  xhvcdk       Fy\n",
       "2  vdnszo       Ot\n",
       "3  vbcnxs       Ot\n",
       "4  wcdduo       Ot"
      ]
     },
     "execution_count": 23,
     "metadata": {},
     "output_type": "execute_result"
    }
   ],
   "source": [
    "# Read in data\n",
    "female_df = pd.read_csv('female_applicants.csv')\n",
    "female_df.head()"
   ]
  },
  {
   "cell_type": "code",
   "execution_count": 24,
   "metadata": {},
   "outputs": [
    {
     "name": "stdout",
     "output_type": "stream",
     "text": [
      "{'Fy': 0.7246474143720618, 'Fr': 0.6783075889858965, 'Ht': 1, 'Sp': 0.9731363331094695, 'St': 1, 'Ot': 0.6239086635325721}\n"
     ]
    }
   ],
   "source": [
    "#this represents the amount of student that applied for each category\n",
    "female_data = {'Fy': 820, 'Fr':958, 'Ht':56, 'Sp':80, 'St':100, 'Ot':1120} \n",
    "\n",
    "#total amount of students that can be taken by all female hostels\n",
    "total = 1593\n",
    "\n",
    "#total amount of students that belong to the soft constrait group\n",
    "soft_constr_weight = 820 + 958 + 80 + 1120 \n",
    "\n",
    "#weight the population of the soft constrait group based the amount of people that applied\n",
    "weight = {'Fy': 1 - (820/soft_constr_weight), 'Fr': 1-(958/soft_constr_weight), 'Ht':1, 'Sp':1- (80/soft_constr_weight), 'St':1, 'Ot': 1- (1120/soft_constr_weight)}\n",
    "print(weight)"
   ]
  },
  {
   "cell_type": "code",
   "execution_count": 25,
   "metadata": {},
   "outputs": [],
   "source": [
    "#amount of students that can be allocated to each male hostel\n",
    "HA_data = {'New Female Hostel': 792, 'Jadesola':229, 'Jibowu(Main)':332, 'Jibowu Annex 1':80, 'Jibowu Annex 2':80,'Jibowu Annex 3':80}\n",
    "order = ['Fy','Fr','Ht','Sp','St','Ot']"
   ]
  },
  {
   "cell_type": "markdown",
   "metadata": {},
   "source": [
    "#### **Generate a random solution - Category Allocation (CA): FEMALE APPLICANTS**"
   ]
  },
  {
   "cell_type": "code",
   "execution_count": 26,
   "metadata": {},
   "outputs": [
    {
     "data": {
      "text/html": [
       "<div>\n",
       "<style scoped>\n",
       "    .dataframe tbody tr th:only-of-type {\n",
       "        vertical-align: middle;\n",
       "    }\n",
       "\n",
       "    .dataframe tbody tr th {\n",
       "        vertical-align: top;\n",
       "    }\n",
       "\n",
       "    .dataframe thead th {\n",
       "        text-align: right;\n",
       "    }\n",
       "</style>\n",
       "<table border=\"1\" class=\"dataframe\">\n",
       "  <thead>\n",
       "    <tr style=\"text-align: right;\">\n",
       "      <th></th>\n",
       "      <th>Ht</th>\n",
       "      <th>St</th>\n",
       "      <th>Ot</th>\n",
       "      <th>Fr</th>\n",
       "      <th>Fy</th>\n",
       "      <th>Sp</th>\n",
       "    </tr>\n",
       "  </thead>\n",
       "  <tbody>\n",
       "    <tr>\n",
       "      <th>0</th>\n",
       "      <td>56</td>\n",
       "      <td>100</td>\n",
       "      <td>547</td>\n",
       "      <td>459</td>\n",
       "      <td>396</td>\n",
       "      <td>35</td>\n",
       "    </tr>\n",
       "  </tbody>\n",
       "</table>\n",
       "</div>"
      ],
      "text/plain": [
       "   Ht   St   Ot   Fr   Fy  Sp\n",
       "0  56  100  547  459  396  35"
      ]
     },
     "execution_count": 26,
     "metadata": {},
     "output_type": "execute_result"
    }
   ],
   "source": [
    "solution, _ , _= generate_random_solution(female_df)\n",
    "frequency = Counter(solution)\n",
    "\n",
    "show = pd.DataFrame()\n",
    "for i in frequency: show[i] = [frequency[i]]\n",
    "show.head()"
   ]
  },
  {
   "cell_type": "markdown",
   "metadata": {},
   "source": [
    "#### **Hybridized Cuckoo_Tabu optimized solution - Category Allocation (CA) FEMALE APPLICANTS**"
   ]
  },
  {
   "cell_type": "code",
   "execution_count": 27,
   "metadata": {},
   "outputs": [
    {
     "name": "stdout",
     "output_type": "stream",
     "text": [
      "Iteration 0.... cuckoo solution replaces solution at nest 4 with cost 457818.3646742814\n",
      "Iteration 0.... cuckoo solution replaces solution at nest 4 with cost 457997.2162525245\n",
      "Iteration 1.... cuckoo solution replaces solution at nest 3 with cost 462348.5574210855\n",
      "Iteration 3.... cuckoo solution replaces solution at nest 1 with cost 461230.63062457583\n",
      "Iteration 4.... cuckoo solution replaces solution at nest 3 with cost 465511.74546675093\n",
      "Iteration 7.... cuckoo solution replaces solution at nest 4 with cost 464733.9570181334\n",
      "Iteration 15.... cuckoo solution replaces solution at nest 2 with cost 464231.51242444996\n",
      "Iteration 20.... cuckoo solution replaces solution at nest 1 with cost 463778.1759570212\n",
      "Iteration 22.... cuckoo solution replaces solution at nest 1 with cost 466125.94358629733\n",
      "Iteration 27.... cuckoo solution replaces solution at nest 2 with cost 465912.99999999074\n",
      "Iteration 36.... cuckoo solution replaces solution at nest 2 with cost 467442.49832102185\n",
      "Iteration 56.... cuckoo solution replaces solution at nest 4 with cost 468893.75016789854\n",
      "Iteration 88.... cuckoo solution replaces solution at nest 3 with cost 467068.61853592785\n",
      "Iteration 94.... cuckoo solution replaces solution at nest 3 with cost 469975.81329750834\n",
      "Iteration 97.... cuckoo solution replaces solution at nest 1 with cost 467316.5144392236\n",
      "Iteration 133.... cuckoo solution replaces solution at nest 4 with cost 469005.8193418404\n",
      "Iteration 184.... cuckoo solution replaces solution at nest 1 with cost 467453.9274681059\n",
      "Iteration 193.... cuckoo solution replaces solution at nest 2 with cost 468025.8280725285\n",
      "\n",
      " Time taken - 34.48284077644348seconds\n"
     ]
    },
    {
     "data": {
      "text/html": [
       "<div>\n",
       "<style scoped>\n",
       "    .dataframe tbody tr th:only-of-type {\n",
       "        vertical-align: middle;\n",
       "    }\n",
       "\n",
       "    .dataframe tbody tr th {\n",
       "        vertical-align: top;\n",
       "    }\n",
       "\n",
       "    .dataframe thead th {\n",
       "        text-align: right;\n",
       "    }\n",
       "</style>\n",
       "<table border=\"1\" class=\"dataframe\">\n",
       "  <thead>\n",
       "    <tr style=\"text-align: right;\">\n",
       "      <th></th>\n",
       "      <th>St</th>\n",
       "      <th>Ht</th>\n",
       "      <th>Fr</th>\n",
       "      <th>Ot</th>\n",
       "      <th>Fy</th>\n",
       "      <th>Sp</th>\n",
       "    </tr>\n",
       "  </thead>\n",
       "  <tbody>\n",
       "    <tr>\n",
       "      <th>0</th>\n",
       "      <td>100</td>\n",
       "      <td>56</td>\n",
       "      <td>495</td>\n",
       "      <td>524</td>\n",
       "      <td>401</td>\n",
       "      <td>17</td>\n",
       "    </tr>\n",
       "  </tbody>\n",
       "</table>\n",
       "</div>"
      ],
      "text/plain": [
       "    St  Ht   Fr   Ot   Fy  Sp\n",
       "0  100  56  495  524  401  17"
      ]
     },
     "execution_count": 27,
     "metadata": {},
     "output_type": "execute_result"
    }
   ],
   "source": [
    "best_solution_CA, graph = cuckoo_tabu_CA(female_df)\n",
    "\n",
    "frequency = Counter(best_solution_CA)\n",
    "\n",
    "best_solution_CA_dict = {i:j for i,j in frequency.items()}\n",
    "\n",
    "show = pd.DataFrame()\n",
    "for i in frequency: show[i] = [frequency[i]]\n",
    "show.head()"
   ]
  },
  {
   "cell_type": "code",
   "execution_count": 28,
   "metadata": {},
   "outputs": [
    {
     "data": {
      "image/png": "[encoded data removed]",
      "text/plain": [
       "<Figure size 540x360 with 1 Axes>"
      ]
     },
     "metadata": {
      "needs_background": "light"
     },
     "output_type": "display_data"
    }
   ],
   "source": [
    "plt.figure(dpi = 90)\n",
    "plt.title(\"Category Allocation (Female) -  Cuckoo_Tabu(HU)\")\n",
    "plt.xlabel('Number of Iterations')\n",
    "plt.ylabel('Fitness value')\n",
    "plt.plot(list(graph.keys()), list(graph.values()))\n",
    "plt.show()"
   ]
  },
  {
   "cell_type": "markdown",
   "metadata": {},
   "source": [
    "#### **Hybridized Cuckoo_Tabu optimized solution- Hall Allocation (HA) FEMALE APPLICANTS**"
   ]
  },
  {
   "cell_type": "code",
   "execution_count": 31,
   "metadata": {},
   "outputs": [
    {
     "name": "stdout",
     "output_type": "stream",
     "text": [
      "Iteration 0.... cuckoo solution replaces solution at nest 2 with cost 4688\n",
      "Iteration 0.... cuckoo solution replaces solution at nest 2 with cost 4694\n",
      "Iteration 2.... cuckoo solution replaces solution at nest 4 with cost 4700\n",
      "Iteration 3.... cuckoo solution replaces solution at nest 3 with cost 4700\n",
      "Iteration 5.... cuckoo solution replaces solution at nest 1 with cost 4332\n",
      "Iteration 7.... cuckoo solution replaces solution at nest 1 with cost 4676\n",
      "Iteration 8.... cuckoo solution replaces solution at nest 1 with cost 4682\n",
      "Iteration 12.... cuckoo solution replaces solution at nest 2 with cost 4706\n",
      "Iteration 13.... cuckoo solution replaces solution at nest 3 with cost 4706\n",
      "Iteration 27.... cuckoo solution replaces solution at nest 4 with cost 4706\n",
      "Iteration 34.... cuckoo solution replaces solution at nest 1 with cost 4712\n",
      "Iteration 68.... cuckoo solution replaces solution at nest 1 with cost 4724\n",
      "Iteration 106.... cuckoo solution replaces solution at nest 4 with cost 4712\n",
      "Iteration 110.... cuckoo solution replaces solution at nest 2 with cost 4712\n",
      "Iteration 159.... cuckoo solution replaces solution at nest 3 with cost 4712\n",
      "\n",
      " Time taken - 54.82267999649048seconds\n",
      " Best Fitness value - 4724\n"
     ]
    },
    {
     "data": {
      "text/html": [
       "<div>\n",
       "<style scoped>\n",
       "    .dataframe tbody tr th:only-of-type {\n",
       "        vertical-align: middle;\n",
       "    }\n",
       "\n",
       "    .dataframe tbody tr th {\n",
       "        vertical-align: top;\n",
       "    }\n",
       "\n",
       "    .dataframe thead th {\n",
       "        text-align: right;\n",
       "    }\n",
       "</style>\n",
       "<table border=\"1\" class=\"dataframe\">\n",
       "  <thead>\n",
       "    <tr style=\"text-align: right;\">\n",
       "      <th></th>\n",
       "      <th>New Female Hostel</th>\n",
       "      <th>Jadesola</th>\n",
       "      <th>Jibowu(Main)</th>\n",
       "      <th>Jibowu Annex 1</th>\n",
       "      <th>Jibowu Annex 2</th>\n",
       "      <th>Jibowu Annex 3</th>\n",
       "    </tr>\n",
       "  </thead>\n",
       "  <tbody>\n",
       "    <tr>\n",
       "      <th>Fy</th>\n",
       "      <td>192</td>\n",
       "      <td>58</td>\n",
       "      <td>85</td>\n",
       "      <td>21</td>\n",
       "      <td>22</td>\n",
       "      <td>23</td>\n",
       "    </tr>\n",
       "    <tr>\n",
       "      <th>Fr</th>\n",
       "      <td>248</td>\n",
       "      <td>71</td>\n",
       "      <td>111</td>\n",
       "      <td>24</td>\n",
       "      <td>21</td>\n",
       "      <td>20</td>\n",
       "    </tr>\n",
       "    <tr>\n",
       "      <th>Ht</th>\n",
       "      <td>19</td>\n",
       "      <td>14</td>\n",
       "      <td>11</td>\n",
       "      <td>3</td>\n",
       "      <td>3</td>\n",
       "      <td>6</td>\n",
       "    </tr>\n",
       "    <tr>\n",
       "      <th>Sp</th>\n",
       "      <td>10</td>\n",
       "      <td>1</td>\n",
       "      <td>1</td>\n",
       "      <td>0</td>\n",
       "      <td>3</td>\n",
       "      <td>2</td>\n",
       "    </tr>\n",
       "    <tr>\n",
       "      <th>St</th>\n",
       "      <td>52</td>\n",
       "      <td>7</td>\n",
       "      <td>31</td>\n",
       "      <td>6</td>\n",
       "      <td>2</td>\n",
       "      <td>2</td>\n",
       "    </tr>\n",
       "    <tr>\n",
       "      <th>Ot</th>\n",
       "      <td>271</td>\n",
       "      <td>78</td>\n",
       "      <td>93</td>\n",
       "      <td>26</td>\n",
       "      <td>29</td>\n",
       "      <td>27</td>\n",
       "    </tr>\n",
       "  </tbody>\n",
       "</table>\n",
       "</div>"
      ],
      "text/plain": [
       "    New Female Hostel  Jadesola  Jibowu(Main)  Jibowu Annex 1  Jibowu Annex 2  \\\n",
       "Fy                192        58            85              21              22   \n",
       "Fr                248        71           111              24              21   \n",
       "Ht                 19        14            11               3               3   \n",
       "Sp                 10         1             1               0               3   \n",
       "St                 52         7            31               6               2   \n",
       "Ot                271        78            93              26              29   \n",
       "\n",
       "    Jibowu Annex 3  \n",
       "Fy              23  \n",
       "Fr              20  \n",
       "Ht               6  \n",
       "Sp               2  \n",
       "St               2  \n",
       "Ot              27  "
      ]
     },
     "execution_count": 31,
     "metadata": {},
     "output_type": "execute_result"
    }
   ],
   "source": [
    "result, graph = cuckoo_tabu_HA(200) \n",
    "show = pd.DataFrame(result,\n",
    "                    columns = ['New Female Hostel', 'Jadesola', 'Jibowu(Main)', 'Jibowu Annex 1', 'Jibowu Annex 2','Jibowu Annex 3'],\n",
    "                    index = ['Fy','Fr','Ht','Sp','St','Ot'])\n",
    "\n",
    "show"
   ]
  },
  {
   "cell_type": "code",
   "execution_count": 32,
   "metadata": {},
   "outputs": [
    {
     "data": {
      "image/png": "[encoded data removed]",
      "text/plain": [
       "<Figure size 540x360 with 1 Axes>"
      ]
     },
     "metadata": {
      "needs_background": "light"
     },
     "output_type": "display_data"
    }
   ],
   "source": [
    "plt.figure(dpi = 90)\n",
    "plt.title(\"Hall Allocation (Female) - Cukoo_Tabu(Hybrid)\")\n",
    "plt.xlabel('Number of Iterations')\n",
    "plt.ylabel('Fitness value')\n",
    "plt.plot(list(graph.keys()), list(graph.values()))\n",
    "plt.show()"
   ]
  },
  {
   "cell_type": "code",
   "execution_count": null,
   "metadata": {},
   "outputs": [],
   "source": []
  },
  {
   "cell_type": "code",
   "execution_count": null,
   "metadata": {},
   "outputs": [],
   "source": []
  }
 ],
 "metadata": {
  "kernelspec": {
   "display_name": "Python 3",
   "language": "python",
   "name": "python3"
  },
  "language_info": {
   "codemirror_mode": {
    "name": "ipython",
    "version": 3
   },
   "file_extension": ".py",
   "mimetype": "text/x-python",
   "name": "python",
   "nbconvert_exporter": "python",
   "pygments_lexer": "ipython3",
   "version": "3.7.6"
  }
 },
 "nbformat": 4,
 "nbformat_minor": 4
}
