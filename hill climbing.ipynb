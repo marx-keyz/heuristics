{
 "cells": [
  {
   "cell_type": "code",
   "execution_count": 1,
   "metadata": {},
   "outputs": [],
   "source": [
    "import pandas as pd\n",
    "import random as rd\n",
    "from collections import Counter\n",
    "import time\n",
    "import numpy as np\n",
    "import matplotlib\n",
    "import matplotlib.pyplot as plt\n",
    "%matplotlib inline"
   ]
  },
  {
   "cell_type": "code",
   "execution_count": 2,
   "metadata": {},
   "outputs": [],
   "source": [
    "def generate_random_solution(df):\n",
    "    category = df.category.values.tolist()\n",
    "    np.random.shuffle(category)\n",
    "    category_copy = category.copy()\n",
    "    hard_constrait = []\n",
    "    for cand in category_copy:\n",
    "        if cand == 'Ht' or cand == 'St':\n",
    "            hard_constrait.append(cand)\n",
    "            category.remove(cand)\n",
    "\n",
    "    empty_space = total - len(hard_constrait)\n",
    "\n",
    "    soft_constrait = []\n",
    "    for cand in range(empty_space):\n",
    "        soft_constrait.append(np.random.choice(category))\n",
    "\n",
    "    solution = hard_constrait + soft_constrait\n",
    "    \n",
    "    return solution, hard_constrait, category"
   ]
  },
  {
   "cell_type": "code",
   "execution_count": 3,
   "metadata": {},
   "outputs": [],
   "source": [
    "def evaluate_solution(solution, weight):\n",
    "    frequency = Counter(solution)\n",
    "    loss = 0\n",
    "    for category in solution: loss += weight[category] * frequency[category]\n",
    "    return loss"
   ]
  },
  {
   "cell_type": "code",
   "execution_count": 4,
   "metadata": {},
   "outputs": [],
   "source": [
    "def mutate_solution(hard_constrait, category):\n",
    "#   mutate the solution by generating new soft constrait solution\n",
    "    empty_space = total - len(hard_constrait)\n",
    "\n",
    "    soft_constrait = []\n",
    "    for cand in range(empty_space):\n",
    "        soft_constrait.append(np.random.choice(np.array(category)))\n",
    "\n",
    "    solution = hard_constrait + soft_constrait\n",
    "    \n",
    "    return solution"
   ]
  },
  {
   "cell_type": "code",
   "execution_count": 24,
   "metadata": {},
   "outputs": [],
   "source": [
    "def hill_climbing_CA(df, num_itr = 200):\n",
    "    start_time = time.time()\n",
    "    record = {}\n",
    "    solution, hard_sol, soft_cat = generate_random_solution(df)\n",
    "    cost = evaluate_solution(solution, weight)\n",
    "    \n",
    "    best_solution = solution\n",
    "    cost_best_solution = cost\n",
    "    record[0] = cost_best_solution\n",
    "    print(\"Iteration 0 ------ cost:- {}\".format(cost))\n",
    "    \n",
    "    for itr in range(1, num_itr+1):\n",
    "        solution = mutate_solution(hard_sol, soft_cat)\n",
    "        cost = evaluate_solution(solution, weight)\n",
    "        \n",
    "        if cost > cost_best_solution:\n",
    "            print(\"Iteration {} ------ Found a better solution with cost:- {}\".format(itr, cost))\n",
    "            best_solution = solution\n",
    "            cost_best_solution = cost\n",
    "            record[itr] = cost_best_solution\n",
    "            \n",
    "    end_time = time.time()\n",
    "    \n",
    "    print(\"\\n Time taken - {}seconds\".format(end_time-start_time))\n",
    "    return best_solution, record"
   ]
  },
  {
   "cell_type": "code",
   "execution_count": 6,
   "metadata": {},
   "outputs": [],
   "source": [
    "def generate_random_solution_HA(CA, HA_stat):\n",
    "    generated = {}\n",
    "    CA_copy = CA.copy()\n",
    "    for hall in HA_stat:\n",
    "        candidates = []\n",
    "        for count in range(HA_stat[hall]):\n",
    "            student = np.random.choice(CA_copy)\n",
    "            candidates.append(student)\n",
    "            CA_copy.remove(student)\n",
    "        generated[hall] = candidates\n",
    "    \n",
    "    generated = list(generated.values())\n",
    "    \n",
    "    matrix_solution = []\n",
    "    for hall in generated:\n",
    "        solution = []\n",
    "        \n",
    "        frequency = Counter(hall) #count each category in each hall\n",
    "        for category in order:\n",
    "            solution.append(frequency[category]) #append count of each category in each hall\n",
    "        \n",
    "        matrix_solution.append(solution) # concatenate solutions of all categories in all halls together\n",
    "    \n",
    "#     transpose solution to allow rows represent each category and column represent each hall\n",
    "    matrix_solution = np.array(matrix_solution).transpose()\n",
    "    return matrix_solution"
   ]
  },
  {
   "cell_type": "code",
   "execution_count": 7,
   "metadata": {},
   "outputs": [],
   "source": [
    "def evaluate_solution_FA(solution, data):\n",
    "    solution = {i:j for i,j in zip(data, solution)}\n",
    "    cost = 0\n",
    "    for cat in solution: #loop through each category \n",
    "        proportion = data[cat] - (max(solution[cat]) - min(solution[cat]))\n",
    "        N = sum(solution[cat] > 0 ) #number of halls that have some students of i-th category\n",
    "        cost += proportion * N\n",
    "    return cost"
   ]
  },
  {
   "cell_type": "code",
   "execution_count": 25,
   "metadata": {},
   "outputs": [],
   "source": [
    "def hill_climbing_HA(num_itr = 200):\n",
    "    start_time = time.time()\n",
    "    record = {}\n",
    "    solution = generate_random_solution_HA(best_solution_CA, HA_data)\n",
    "    cost = evaluate_solution_FA(solution, best_solution_CA_dict)\n",
    "    record[0] = cost\n",
    "    best_solution = solution\n",
    "    cost_best_solution = cost\n",
    "    print(\"Iteration 0 ------ cost:- {}\".format(cost))\n",
    "    \n",
    "    for itr in range(1, num_itr+ 1):\n",
    "        solution = generate_random_solution_HA(best_solution_CA, HA_data)\n",
    "        cost = evaluate_solution_FA(solution, best_solution_CA_dict)\n",
    "        \n",
    "        if cost > cost_best_solution:\n",
    "            print(\"Iteration {} ------ Found a better solution with cost:- {}\".format(itr, cost))\n",
    "            best_solution = solution\n",
    "            cost_best_solution = cost\n",
    "            record[itr] = cost\n",
    "            \n",
    "    end_time = time.time()\n",
    "    \n",
    "    print(\"\\n Time taken - {}seconds\".format(end_time-start_time))\n",
    "    print(' Best Fitness value -', cost_best_solution)\n",
    "    return best_solution, record"
   ]
  },
  {
   "cell_type": "markdown",
   "metadata": {},
   "source": [
    "## **Implementation - Male applicants**"
   ]
  },
  {
   "cell_type": "code",
   "execution_count": 9,
   "metadata": {},
   "outputs": [
    {
     "data": {
      "text/html": [
       "<div>\n",
       "<style scoped>\n",
       "    .dataframe tbody tr th:only-of-type {\n",
       "        vertical-align: middle;\n",
       "    }\n",
       "\n",
       "    .dataframe tbody tr th {\n",
       "        vertical-align: top;\n",
       "    }\n",
       "\n",
       "    .dataframe thead th {\n",
       "        text-align: right;\n",
       "    }\n",
       "</style>\n",
       "<table border=\"1\" class=\"dataframe\">\n",
       "  <thead>\n",
       "    <tr style=\"text-align: right;\">\n",
       "      <th></th>\n",
       "      <th>names</th>\n",
       "      <th>category</th>\n",
       "      <th>weight</th>\n",
       "    </tr>\n",
       "  </thead>\n",
       "  <tbody>\n",
       "    <tr>\n",
       "      <th>0</th>\n",
       "      <td>rqtttt</td>\n",
       "      <td>Ot</td>\n",
       "      <td>0.5</td>\n",
       "    </tr>\n",
       "    <tr>\n",
       "      <th>1</th>\n",
       "      <td>zhuztd</td>\n",
       "      <td>Ot</td>\n",
       "      <td>0.5</td>\n",
       "    </tr>\n",
       "    <tr>\n",
       "      <th>2</th>\n",
       "      <td>hqxfqg</td>\n",
       "      <td>Ot</td>\n",
       "      <td>0.5</td>\n",
       "    </tr>\n",
       "    <tr>\n",
       "      <th>3</th>\n",
       "      <td>sanjtt</td>\n",
       "      <td>Fy</td>\n",
       "      <td>0.5</td>\n",
       "    </tr>\n",
       "    <tr>\n",
       "      <th>4</th>\n",
       "      <td>mjbgpk</td>\n",
       "      <td>Ot</td>\n",
       "      <td>0.5</td>\n",
       "    </tr>\n",
       "  </tbody>\n",
       "</table>\n",
       "</div>"
      ],
      "text/plain": [
       "    names category  weight\n",
       "0  rqtttt       Ot     0.5\n",
       "1  zhuztd       Ot     0.5\n",
       "2  hqxfqg       Ot     0.5\n",
       "3  sanjtt       Fy     0.5\n",
       "4  mjbgpk       Ot     0.5"
      ]
     },
     "execution_count": 9,
     "metadata": {},
     "output_type": "execute_result"
    }
   ],
   "source": [
    "male_df = pd.read_csv('male_applicants.csv')\n",
    "male_df.head()"
   ]
  },
  {
   "cell_type": "code",
   "execution_count": 10,
   "metadata": {},
   "outputs": [
    {
     "name": "stdout",
     "output_type": "stream",
     "text": [
      "{'Fy': 0.8072015877516303, 'Fr': 0.7646725262262546, 'Ht': 1, 'Sp': 0.9588885738588036, 'St': 1, 'Ot': 0.47037142047065494}\n"
     ]
    }
   ],
   "source": [
    "#this represents the amount of student that applied for each category\n",
    "male_data = {'Fy': 1360, 'Fr':1660, 'Ht':60, 'Sp':290, 'St':260, 'Ot':3736} \n",
    "\n",
    "#total amount of students that can be taken by all male hostels\n",
    "total = 2072 \n",
    "\n",
    "#total amount of students that belong to the soft constrait group\n",
    "soft_constr_weight = 1368 + 1660 + 290 + 3736 \n",
    "\n",
    "#weight the population of the soft constrait group based the amount of people that applied\n",
    "weight = {'Fy': 1 - (1360/soft_constr_weight), 'Fr': 1-(1660/soft_constr_weight), 'Ht':1, 'Sp':1- (290/soft_constr_weight), 'St':1, 'Ot': 1- (3736/soft_constr_weight)}\n",
    "print(weight)"
   ]
  },
  {
   "cell_type": "code",
   "execution_count": 11,
   "metadata": {},
   "outputs": [],
   "source": [
    "HA_data = {'Akindeko': 625, 'Abiola':356, 'Adeniyi':195, 'New Male Hostel':792, 'Bisi Balogun':104}\n",
    "order = ['Fy','Fr','Ht','Sp','St','Ot']"
   ]
  },
  {
   "cell_type": "markdown",
   "metadata": {},
   "source": [
    "#### **Generate a random solution - Category Allocation (CA): MALE APPLICANTS**"
   ]
  },
  {
   "cell_type": "code",
   "execution_count": 12,
   "metadata": {},
   "outputs": [
    {
     "data": {
      "text/html": [
       "<div>\n",
       "<style scoped>\n",
       "    .dataframe tbody tr th:only-of-type {\n",
       "        vertical-align: middle;\n",
       "    }\n",
       "\n",
       "    .dataframe tbody tr th {\n",
       "        vertical-align: top;\n",
       "    }\n",
       "\n",
       "    .dataframe thead th {\n",
       "        text-align: right;\n",
       "    }\n",
       "</style>\n",
       "<table border=\"1\" class=\"dataframe\">\n",
       "  <thead>\n",
       "    <tr style=\"text-align: right;\">\n",
       "      <th></th>\n",
       "      <th>St</th>\n",
       "      <th>Ht</th>\n",
       "      <th>Ot</th>\n",
       "      <th>Fr</th>\n",
       "      <th>Fy</th>\n",
       "      <th>Sp</th>\n",
       "    </tr>\n",
       "  </thead>\n",
       "  <tbody>\n",
       "    <tr>\n",
       "      <th>0</th>\n",
       "      <td>260</td>\n",
       "      <td>60</td>\n",
       "      <td>944</td>\n",
       "      <td>387</td>\n",
       "      <td>352</td>\n",
       "      <td>69</td>\n",
       "    </tr>\n",
       "  </tbody>\n",
       "</table>\n",
       "</div>"
      ],
      "text/plain": [
       "    St  Ht   Ot   Fr   Fy  Sp\n",
       "0  260  60  944  387  352  69"
      ]
     },
     "execution_count": 12,
     "metadata": {},
     "output_type": "execute_result"
    }
   ],
   "source": [
    "solution, _ , _= generate_random_solution(male_df)\n",
    "frequency = Counter(solution)\n",
    "\n",
    "show = pd.DataFrame()\n",
    "for i in frequency: show[i] = [frequency[i]]\n",
    "show.head()"
   ]
  },
  {
   "cell_type": "markdown",
   "metadata": {},
   "source": [
    "#### **Hill Climbing optimized solution - Category Allocation (CA) MALE APPLICANTS**"
   ]
  },
  {
   "cell_type": "code",
   "execution_count": 13,
   "metadata": {},
   "outputs": [
    {
     "name": "stdout",
     "output_type": "stream",
     "text": [
      "Iteration 0 ------ cost:- 708671.6385029744\n",
      "Iteration 1 ------ Found a better solution with cost:- 712474.2015877555\n",
      "Iteration 15 ------ Found a better solution with cost:- 715740.9296852736\n",
      "Iteration 31 ------ Found a better solution with cost:- 722653.3079104152\n",
      "Iteration 78 ------ Found a better solution with cost:- 723085.4074284217\n",
      "Iteration 162 ------ Found a better solution with cost:- 724024.2347604345\n",
      "\n",
      " Time taken - 203.98590064048767seconds\n"
     ]
    },
    {
     "data": {
      "text/html": [
       "<div>\n",
       "<style scoped>\n",
       "    .dataframe tbody tr th:only-of-type {\n",
       "        vertical-align: middle;\n",
       "    }\n",
       "\n",
       "    .dataframe tbody tr th {\n",
       "        vertical-align: top;\n",
       "    }\n",
       "\n",
       "    .dataframe thead th {\n",
       "        text-align: right;\n",
       "    }\n",
       "</style>\n",
       "<table border=\"1\" class=\"dataframe\">\n",
       "  <thead>\n",
       "    <tr style=\"text-align: right;\">\n",
       "      <th></th>\n",
       "      <th>St</th>\n",
       "      <th>Ht</th>\n",
       "      <th>Fr</th>\n",
       "      <th>Fy</th>\n",
       "      <th>Ot</th>\n",
       "      <th>Sp</th>\n",
       "    </tr>\n",
       "  </thead>\n",
       "  <tbody>\n",
       "    <tr>\n",
       "      <th>0</th>\n",
       "      <td>260</td>\n",
       "      <td>60</td>\n",
       "      <td>436</td>\n",
       "      <td>308</td>\n",
       "      <td>954</td>\n",
       "      <td>54</td>\n",
       "    </tr>\n",
       "  </tbody>\n",
       "</table>\n",
       "</div>"
      ],
      "text/plain": [
       "    St  Ht   Fr   Fy   Ot  Sp\n",
       "0  260  60  436  308  954  54"
      ]
     },
     "execution_count": 13,
     "metadata": {},
     "output_type": "execute_result"
    }
   ],
   "source": [
    "best_solution_CA, graph = hill_climbing_CA(male_df)\n",
    "\n",
    "frequency = Counter(best_solution_CA)\n",
    "\n",
    "best_solution_CA_dict = {i:j for i,j in frequency.items()}\n",
    "\n",
    "show = pd.DataFrame()\n",
    "for i in frequency: show[i] = [frequency[i]]\n",
    "show.head()"
   ]
  },
  {
   "cell_type": "code",
   "execution_count": 14,
   "metadata": {},
   "outputs": [
    {
     "data": {
      "image/png": "[encoded data removed]",
      "text/plain": [
       "<Figure size 540x360 with 1 Axes>"
      ]
     },
     "metadata": {
      "needs_background": "light"
     },
     "output_type": "display_data"
    }
   ],
   "source": [
    "plt.figure(dpi = 90)\n",
    "plt.title(\"Frequency value  VS  Number of iteration\")\n",
    "plt.xlabel('Number of Iterations')\n",
    "plt.ylabel('Fitness value')\n",
    "plt.plot(list(graph.keys()), list(graph.values()))\n",
    "plt.show()"
   ]
  },
  {
   "cell_type": "markdown",
   "metadata": {},
   "source": [
    "#### **Generate a random solution- Hall Allocation (HA) MALE APPLICANTS**"
   ]
  },
  {
   "cell_type": "code",
   "execution_count": 18,
   "metadata": {},
   "outputs": [
    {
     "data": {
      "text/html": [
       "<div>\n",
       "<style scoped>\n",
       "    .dataframe tbody tr th:only-of-type {\n",
       "        vertical-align: middle;\n",
       "    }\n",
       "\n",
       "    .dataframe tbody tr th {\n",
       "        vertical-align: top;\n",
       "    }\n",
       "\n",
       "    .dataframe thead th {\n",
       "        text-align: right;\n",
       "    }\n",
       "</style>\n",
       "<table border=\"1\" class=\"dataframe\">\n",
       "  <thead>\n",
       "    <tr style=\"text-align: right;\">\n",
       "      <th></th>\n",
       "      <th>Akindeko</th>\n",
       "      <th>Abiola</th>\n",
       "      <th>Adeniyi</th>\n",
       "      <th>New Male Hostel</th>\n",
       "      <th>Bisi Balogun</th>\n",
       "    </tr>\n",
       "  </thead>\n",
       "  <tbody>\n",
       "    <tr>\n",
       "      <th>Fy</th>\n",
       "      <td>92</td>\n",
       "      <td>51</td>\n",
       "      <td>32</td>\n",
       "      <td>125</td>\n",
       "      <td>8</td>\n",
       "    </tr>\n",
       "    <tr>\n",
       "      <th>Fr</th>\n",
       "      <td>144</td>\n",
       "      <td>65</td>\n",
       "      <td>45</td>\n",
       "      <td>159</td>\n",
       "      <td>23</td>\n",
       "    </tr>\n",
       "    <tr>\n",
       "      <th>Ht</th>\n",
       "      <td>14</td>\n",
       "      <td>15</td>\n",
       "      <td>4</td>\n",
       "      <td>23</td>\n",
       "      <td>4</td>\n",
       "    </tr>\n",
       "    <tr>\n",
       "      <th>Sp</th>\n",
       "      <td>18</td>\n",
       "      <td>11</td>\n",
       "      <td>3</td>\n",
       "      <td>20</td>\n",
       "      <td>2</td>\n",
       "    </tr>\n",
       "    <tr>\n",
       "      <th>St</th>\n",
       "      <td>77</td>\n",
       "      <td>44</td>\n",
       "      <td>24</td>\n",
       "      <td>100</td>\n",
       "      <td>15</td>\n",
       "    </tr>\n",
       "    <tr>\n",
       "      <th>Ot</th>\n",
       "      <td>280</td>\n",
       "      <td>170</td>\n",
       "      <td>87</td>\n",
       "      <td>365</td>\n",
       "      <td>52</td>\n",
       "    </tr>\n",
       "  </tbody>\n",
       "</table>\n",
       "</div>"
      ],
      "text/plain": [
       "    Akindeko  Abiola  Adeniyi  New Male Hostel  Bisi Balogun\n",
       "Fy        92      51       32              125             8\n",
       "Fr       144      65       45              159            23\n",
       "Ht        14      15        4               23             4\n",
       "Sp        18      11        3               20             2\n",
       "St        77      44       24              100            15\n",
       "Ot       280     170       87              365            52"
      ]
     },
     "execution_count": 18,
     "metadata": {},
     "output_type": "execute_result"
    }
   ],
   "source": [
    "solution_HA = generate_random_solution_HA(best_solution_CA, HA_data)\n",
    "\n",
    "show = pd.DataFrame(solution_HA,\n",
    "                    columns = ['Akindeko', 'Abiola', 'Adeniyi', 'New Male Hostel', 'Bisi Balogun'],\n",
    "                    index = ['Fy','Fr','Ht','Sp','St','Ot'])\n",
    "\n",
    "show"
   ]
  },
  {
   "cell_type": "markdown",
   "metadata": {},
   "source": [
    "#### **HIll Climbing optimized solution- Hall Allocation (HA) MALE APPLICANTS**"
   ]
  },
  {
   "cell_type": "code",
   "execution_count": 28,
   "metadata": {},
   "outputs": [
    {
     "name": "stdout",
     "output_type": "stream",
     "text": [
      "Iteration 0 ------ cost:- 6900\n",
      "Iteration 1 ------ Found a better solution with cost:- 6920\n",
      "\n",
      " Time taken - 108.90916872024536seconds\n",
      " Best Fitness value - 6920\n"
     ]
    },
    {
     "data": {
      "text/html": [
       "<div>\n",
       "<style scoped>\n",
       "    .dataframe tbody tr th:only-of-type {\n",
       "        vertical-align: middle;\n",
       "    }\n",
       "\n",
       "    .dataframe tbody tr th {\n",
       "        vertical-align: top;\n",
       "    }\n",
       "\n",
       "    .dataframe thead th {\n",
       "        text-align: right;\n",
       "    }\n",
       "</style>\n",
       "<table border=\"1\" class=\"dataframe\">\n",
       "  <thead>\n",
       "    <tr style=\"text-align: right;\">\n",
       "      <th></th>\n",
       "      <th>Akindeko</th>\n",
       "      <th>Abiola</th>\n",
       "      <th>Adeniyi</th>\n",
       "      <th>New Male Hostel</th>\n",
       "      <th>Bisi Balogun</th>\n",
       "    </tr>\n",
       "  </thead>\n",
       "  <tbody>\n",
       "    <tr>\n",
       "      <th>Fy</th>\n",
       "      <td>83</td>\n",
       "      <td>49</td>\n",
       "      <td>37</td>\n",
       "      <td>121</td>\n",
       "      <td>18</td>\n",
       "    </tr>\n",
       "    <tr>\n",
       "      <th>Fr</th>\n",
       "      <td>137</td>\n",
       "      <td>69</td>\n",
       "      <td>37</td>\n",
       "      <td>171</td>\n",
       "      <td>22</td>\n",
       "    </tr>\n",
       "    <tr>\n",
       "      <th>Ht</th>\n",
       "      <td>15</td>\n",
       "      <td>13</td>\n",
       "      <td>5</td>\n",
       "      <td>23</td>\n",
       "      <td>4</td>\n",
       "    </tr>\n",
       "    <tr>\n",
       "      <th>Sp</th>\n",
       "      <td>16</td>\n",
       "      <td>10</td>\n",
       "      <td>3</td>\n",
       "      <td>23</td>\n",
       "      <td>2</td>\n",
       "    </tr>\n",
       "    <tr>\n",
       "      <th>St</th>\n",
       "      <td>76</td>\n",
       "      <td>42</td>\n",
       "      <td>25</td>\n",
       "      <td>110</td>\n",
       "      <td>7</td>\n",
       "    </tr>\n",
       "    <tr>\n",
       "      <th>Ot</th>\n",
       "      <td>298</td>\n",
       "      <td>173</td>\n",
       "      <td>88</td>\n",
       "      <td>344</td>\n",
       "      <td>51</td>\n",
       "    </tr>\n",
       "  </tbody>\n",
       "</table>\n",
       "</div>"
      ],
      "text/plain": [
       "    Akindeko  Abiola  Adeniyi  New Male Hostel  Bisi Balogun\n",
       "Fy        83      49       37              121            18\n",
       "Fr       137      69       37              171            22\n",
       "Ht        15      13        5               23             4\n",
       "Sp        16      10        3               23             2\n",
       "St        76      42       25              110             7\n",
       "Ot       298     173       88              344            51"
      ]
     },
     "execution_count": 28,
     "metadata": {},
     "output_type": "execute_result"
    }
   ],
   "source": [
    "result, graph = hill_climbing_HA(200) \n",
    "show = pd.DataFrame(result,\n",
    "                    columns = ['Akindeko', 'Abiola', 'Adeniyi', 'New Male Hostel', 'Bisi Balogun'],\n",
    "                    index = ['Fy','Fr','Ht','Sp','St','Ot'])\n",
    "\n",
    "show"
   ]
  },
  {
   "cell_type": "code",
   "execution_count": 30,
   "metadata": {},
   "outputs": [
    {
     "data": {
      "image/png": "[encoded data removed]",
      "text/plain": [
       "<Figure size 540x360 with 1 Axes>"
      ]
     },
     "metadata": {
      "needs_background": "light"
     },
     "output_type": "display_data"
    }
   ],
   "source": [
    "plt.figure(dpi = 90)\n",
    "plt.title(\"Frequency value  VS  Number of iteration\")\n",
    "plt.xlabel('Number of Iterations')\n",
    "plt.ylabel('Fitness value')\n",
    "plt.plot(list(graph.keys()), list(graph.values()))\n",
    "plt.show()"
   ]
  },
  {
   "cell_type": "markdown",
   "metadata": {},
   "source": [
    "## **Implementation - Female applicants**"
   ]
  },
  {
   "cell_type": "code",
   "execution_count": 31,
   "metadata": {},
   "outputs": [
    {
     "data": {
      "text/html": [
       "<div>\n",
       "<style scoped>\n",
       "    .dataframe tbody tr th:only-of-type {\n",
       "        vertical-align: middle;\n",
       "    }\n",
       "\n",
       "    .dataframe tbody tr th {\n",
       "        vertical-align: top;\n",
       "    }\n",
       "\n",
       "    .dataframe thead th {\n",
       "        text-align: right;\n",
       "    }\n",
       "</style>\n",
       "<table border=\"1\" class=\"dataframe\">\n",
       "  <thead>\n",
       "    <tr style=\"text-align: right;\">\n",
       "      <th></th>\n",
       "      <th>names</th>\n",
       "      <th>category</th>\n",
       "    </tr>\n",
       "  </thead>\n",
       "  <tbody>\n",
       "    <tr>\n",
       "      <th>0</th>\n",
       "      <td>ymguns</td>\n",
       "      <td>Fy</td>\n",
       "    </tr>\n",
       "    <tr>\n",
       "      <th>1</th>\n",
       "      <td>xhvcdk</td>\n",
       "      <td>Fy</td>\n",
       "    </tr>\n",
       "    <tr>\n",
       "      <th>2</th>\n",
       "      <td>vdnszo</td>\n",
       "      <td>Ot</td>\n",
       "    </tr>\n",
       "    <tr>\n",
       "      <th>3</th>\n",
       "      <td>vbcnxs</td>\n",
       "      <td>Ot</td>\n",
       "    </tr>\n",
       "    <tr>\n",
       "      <th>4</th>\n",
       "      <td>wcdduo</td>\n",
       "      <td>Ot</td>\n",
       "    </tr>\n",
       "  </tbody>\n",
       "</table>\n",
       "</div>"
      ],
      "text/plain": [
       "    names category\n",
       "0  ymguns       Fy\n",
       "1  xhvcdk       Fy\n",
       "2  vdnszo       Ot\n",
       "3  vbcnxs       Ot\n",
       "4  wcdduo       Ot"
      ]
     },
     "execution_count": 31,
     "metadata": {},
     "output_type": "execute_result"
    }
   ],
   "source": [
    "# Read in data\n",
    "female_df = pd.read_csv('female_applicants.csv')\n",
    "female_df.head()"
   ]
  },
  {
   "cell_type": "code",
   "execution_count": 32,
   "metadata": {},
   "outputs": [
    {
     "name": "stdout",
     "output_type": "stream",
     "text": [
      "{'Fy': 0.7246474143720618, 'Fr': 0.6783075889858965, 'Ht': 1, 'Sp': 0.9731363331094695, 'St': 1, 'Ot': 0.6239086635325721}\n"
     ]
    }
   ],
   "source": [
    "#this represents the amount of student that applied for each category\n",
    "female_data = {'Fy': 820, 'Fr':958, 'Ht':56, 'Sp':80, 'St':100, 'Ot':1120} \n",
    "\n",
    "#total amount of students that can be taken by all male hostels\n",
    "total = 1593\n",
    "\n",
    "#total amount of students that belong to the soft constrait group\n",
    "soft_constr_weight = 820 + 958 + 80 + 1120 \n",
    "\n",
    "#weight the population of the soft constrait group based the amount of people that applied\n",
    "weight = {'Fy': 1 - (820/soft_constr_weight), 'Fr': 1-(958/soft_constr_weight), 'Ht':1, 'Sp':1- (80/soft_constr_weight), 'St':1, 'Ot': 1- (1120/soft_constr_weight)}\n",
    "print(weight)"
   ]
  },
  {
   "cell_type": "code",
   "execution_count": 33,
   "metadata": {},
   "outputs": [],
   "source": [
    "#amount of students that can be allocated to each male hostel\n",
    "HA_data = {'New Female Hostel': 792, 'Jadesola':229, 'Jibowu(Main)':332, 'Jibowu Annex 1':80, 'Jibowu Annex 2':80,'Jibowu Annex 3':80}\n",
    "order = ['Fy','Fr','Ht','Sp','St','Ot']"
   ]
  },
  {
   "cell_type": "markdown",
   "metadata": {},
   "source": [
    "#### **Generate a random solution - Category Allocation (CA): FEMALE APPLICANTS**"
   ]
  },
  {
   "cell_type": "code",
   "execution_count": 34,
   "metadata": {},
   "outputs": [
    {
     "data": {
      "text/html": [
       "<div>\n",
       "<style scoped>\n",
       "    .dataframe tbody tr th:only-of-type {\n",
       "        vertical-align: middle;\n",
       "    }\n",
       "\n",
       "    .dataframe tbody tr th {\n",
       "        vertical-align: top;\n",
       "    }\n",
       "\n",
       "    .dataframe thead th {\n",
       "        text-align: right;\n",
       "    }\n",
       "</style>\n",
       "<table border=\"1\" class=\"dataframe\">\n",
       "  <thead>\n",
       "    <tr style=\"text-align: right;\">\n",
       "      <th></th>\n",
       "      <th>St</th>\n",
       "      <th>Ht</th>\n",
       "      <th>Fr</th>\n",
       "      <th>Ot</th>\n",
       "      <th>Fy</th>\n",
       "      <th>Sp</th>\n",
       "    </tr>\n",
       "  </thead>\n",
       "  <tbody>\n",
       "    <tr>\n",
       "      <th>0</th>\n",
       "      <td>100</td>\n",
       "      <td>56</td>\n",
       "      <td>453</td>\n",
       "      <td>542</td>\n",
       "      <td>402</td>\n",
       "      <td>40</td>\n",
       "    </tr>\n",
       "  </tbody>\n",
       "</table>\n",
       "</div>"
      ],
      "text/plain": [
       "    St  Ht   Fr   Ot   Fy  Sp\n",
       "0  100  56  453  542  402  40"
      ]
     },
     "execution_count": 34,
     "metadata": {},
     "output_type": "execute_result"
    }
   ],
   "source": [
    "solution, _ , _= generate_random_solution(female_df)\n",
    "frequency = Counter(solution)\n",
    "\n",
    "show = pd.DataFrame()\n",
    "for i in frequency: show[i] = [frequency[i]]\n",
    "show.head()"
   ]
  },
  {
   "cell_type": "markdown",
   "metadata": {},
   "source": [
    "#### **Hill Climbing optimized solution - Category Allocation (CA) FEMALE APPLICANTS**"
   ]
  },
  {
   "cell_type": "code",
   "execution_count": 37,
   "metadata": {},
   "outputs": [
    {
     "name": "stdout",
     "output_type": "stream",
     "text": [
      "Iteration 0 ------ cost:- 460952.5963734047\n",
      "Iteration 3 ------ Found a better solution with cost:- 462459.16252518515\n",
      "Iteration 11 ------ Found a better solution with cost:- 465897.27199462964\n",
      "Iteration 159 ------ Found a better solution with cost:- 466546.8972464737\n",
      "Iteration 177 ------ Found a better solution with cost:- 466901.8515782469\n",
      "\n",
      " Time taken - 76.42845320701599seconds\n"
     ]
    },
    {
     "data": {
      "text/html": [
       "<div>\n",
       "<style scoped>\n",
       "    .dataframe tbody tr th:only-of-type {\n",
       "        vertical-align: middle;\n",
       "    }\n",
       "\n",
       "    .dataframe tbody tr th {\n",
       "        vertical-align: top;\n",
       "    }\n",
       "\n",
       "    .dataframe thead th {\n",
       "        text-align: right;\n",
       "    }\n",
       "</style>\n",
       "<table border=\"1\" class=\"dataframe\">\n",
       "  <thead>\n",
       "    <tr style=\"text-align: right;\">\n",
       "      <th></th>\n",
       "      <th>St</th>\n",
       "      <th>Ht</th>\n",
       "      <th>Fy</th>\n",
       "      <th>Fr</th>\n",
       "      <th>Ot</th>\n",
       "      <th>Sp</th>\n",
       "    </tr>\n",
       "  </thead>\n",
       "  <tbody>\n",
       "    <tr>\n",
       "      <th>0</th>\n",
       "      <td>100</td>\n",
       "      <td>56</td>\n",
       "      <td>396</td>\n",
       "      <td>462</td>\n",
       "      <td>559</td>\n",
       "      <td>20</td>\n",
       "    </tr>\n",
       "  </tbody>\n",
       "</table>\n",
       "</div>"
      ],
      "text/plain": [
       "    St  Ht   Fy   Fr   Ot  Sp\n",
       "0  100  56  396  462  559  20"
      ]
     },
     "execution_count": 37,
     "metadata": {},
     "output_type": "execute_result"
    }
   ],
   "source": [
    "best_solution_CA, graph = hill_climbing_CA(female_df)\n",
    "\n",
    "frequency = Counter(best_solution_CA)\n",
    "\n",
    "best_solution_CA_dict = {i:j for i,j in frequency.items()}\n",
    "\n",
    "show = pd.DataFrame()\n",
    "for i in frequency: show[i] = [frequency[i]]\n",
    "show.head()"
   ]
  },
  {
   "cell_type": "code",
   "execution_count": 38,
   "metadata": {},
   "outputs": [
    {
     "data": {
      "image/png": "[encoded data removed]",
      "text/plain": [
       "<Figure size 540x360 with 1 Axes>"
      ]
     },
     "metadata": {
      "needs_background": "light"
     },
     "output_type": "display_data"
    }
   ],
   "source": [
    "plt.figure(dpi = 90)\n",
    "plt.title(\"Frequency value  VS  Number of iteration\")\n",
    "plt.xlabel('Number of Iterations')\n",
    "plt.ylabel('Fitness value')\n",
    "plt.plot(list(graph.keys()), list(graph.values()))\n",
    "plt.show()"
   ]
  },
  {
   "cell_type": "markdown",
   "metadata": {},
   "source": [
    "#### **Hill Climbing optimized solution- Hall Allocation (HA) FEMALE APPLICANTS**"
   ]
  },
  {
   "cell_type": "code",
   "execution_count": 40,
   "metadata": {},
   "outputs": [
    {
     "name": "stdout",
     "output_type": "stream",
     "text": [
      "Iteration 0 ------ cost:- 4818\n",
      "Iteration 2 ------ Found a better solution with cost:- 5220\n",
      "Iteration 18 ------ Found a better solution with cost:- 5250\n",
      "\n",
      " Time taken - 62.4948308467865seconds\n",
      " Best Fitness value - 5250\n"
     ]
    },
    {
     "data": {
      "text/html": [
       "<div>\n",
       "<style scoped>\n",
       "    .dataframe tbody tr th:only-of-type {\n",
       "        vertical-align: middle;\n",
       "    }\n",
       "\n",
       "    .dataframe tbody tr th {\n",
       "        vertical-align: top;\n",
       "    }\n",
       "\n",
       "    .dataframe thead th {\n",
       "        text-align: right;\n",
       "    }\n",
       "</style>\n",
       "<table border=\"1\" class=\"dataframe\">\n",
       "  <thead>\n",
       "    <tr style=\"text-align: right;\">\n",
       "      <th></th>\n",
       "      <th>New Female Hostel</th>\n",
       "      <th>Jadesola</th>\n",
       "      <th>Jibowu(Main)</th>\n",
       "      <th>Jibowu Annex 1</th>\n",
       "      <th>Jibowu Annex 2</th>\n",
       "      <th>Jibowu Annex 3</th>\n",
       "    </tr>\n",
       "  </thead>\n",
       "  <tbody>\n",
       "    <tr>\n",
       "      <th>Fy</th>\n",
       "      <td>189</td>\n",
       "      <td>54</td>\n",
       "      <td>90</td>\n",
       "      <td>20</td>\n",
       "      <td>21</td>\n",
       "      <td>22</td>\n",
       "    </tr>\n",
       "    <tr>\n",
       "      <th>Fr</th>\n",
       "      <td>239</td>\n",
       "      <td>68</td>\n",
       "      <td>90</td>\n",
       "      <td>24</td>\n",
       "      <td>20</td>\n",
       "      <td>21</td>\n",
       "    </tr>\n",
       "    <tr>\n",
       "      <th>Ht</th>\n",
       "      <td>28</td>\n",
       "      <td>10</td>\n",
       "      <td>10</td>\n",
       "      <td>2</td>\n",
       "      <td>5</td>\n",
       "      <td>1</td>\n",
       "    </tr>\n",
       "    <tr>\n",
       "      <th>Sp</th>\n",
       "      <td>7</td>\n",
       "      <td>6</td>\n",
       "      <td>4</td>\n",
       "      <td>1</td>\n",
       "      <td>1</td>\n",
       "      <td>1</td>\n",
       "    </tr>\n",
       "    <tr>\n",
       "      <th>St</th>\n",
       "      <td>47</td>\n",
       "      <td>11</td>\n",
       "      <td>25</td>\n",
       "      <td>5</td>\n",
       "      <td>6</td>\n",
       "      <td>6</td>\n",
       "    </tr>\n",
       "    <tr>\n",
       "      <th>Ot</th>\n",
       "      <td>282</td>\n",
       "      <td>80</td>\n",
       "      <td>113</td>\n",
       "      <td>28</td>\n",
       "      <td>27</td>\n",
       "      <td>29</td>\n",
       "    </tr>\n",
       "  </tbody>\n",
       "</table>\n",
       "</div>"
      ],
      "text/plain": [
       "    New Female Hostel  Jadesola  Jibowu(Main)  Jibowu Annex 1  Jibowu Annex 2  \\\n",
       "Fy                189        54            90              20              21   \n",
       "Fr                239        68            90              24              20   \n",
       "Ht                 28        10            10               2               5   \n",
       "Sp                  7         6             4               1               1   \n",
       "St                 47        11            25               5               6   \n",
       "Ot                282        80           113              28              27   \n",
       "\n",
       "    Jibowu Annex 3  \n",
       "Fy              22  \n",
       "Fr              21  \n",
       "Ht               1  \n",
       "Sp               1  \n",
       "St               6  \n",
       "Ot              29  "
      ]
     },
     "execution_count": 40,
     "metadata": {},
     "output_type": "execute_result"
    }
   ],
   "source": [
    "result, graph = hill_climbing_HA(200) \n",
    "show = pd.DataFrame(result,\n",
    "                    columns = ['New Female Hostel', 'Jadesola', 'Jibowu(Main)', 'Jibowu Annex 1', 'Jibowu Annex 2','Jibowu Annex 3'],\n",
    "                    index = ['Fy','Fr','Ht','Sp','St','Ot'])\n",
    "\n",
    "show"
   ]
  },
  {
   "cell_type": "code",
   "execution_count": 41,
   "metadata": {},
   "outputs": [
    {
     "data": {
      "image/png": "[encoded data removed]",
      "text/plain": [
       "<Figure size 540x360 with 1 Axes>"
      ]
     },
     "metadata": {
      "needs_background": "light"
     },
     "output_type": "display_data"
    }
   ],
   "source": [
    "plt.figure(dpi = 90)\n",
    "plt.title(\"Frequency value  VS  Number of iteration\")\n",
    "plt.xlabel('Number of Iterations')\n",
    "plt.ylabel('Fitness value')\n",
    "plt.plot(list(graph.keys()), list(graph.values()))\n",
    "plt.show()"
   ]
  },
  {
   "cell_type": "code",
   "execution_count": null,
   "metadata": {},
   "outputs": [],
   "source": []
  }
 ],
 "metadata": {
  "kernelspec": {
   "display_name": "Python 3",
   "language": "python",
   "name": "python3"
  },
  "language_info": {
   "codemirror_mode": {
    "name": "ipython",
    "version": 3
   },
   "file_extension": ".py",
   "mimetype": "text/x-python",
   "name": "python",
   "nbconvert_exporter": "python",
   "pygments_lexer": "ipython3",
   "version": "3.7.6"
  }
 },
 "nbformat": 4,
 "nbformat_minor": 4
}
