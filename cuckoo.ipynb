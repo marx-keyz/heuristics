{
 "cells": [
  {
   "cell_type": "code",
   "execution_count": 1,
   "metadata": {},
   "outputs": [],
   "source": [
    "import pandas as pd\n",
    "import random as rd\n",
    "from collections import Counter\n",
    "import time\n",
    "import numpy as np\n",
    "import matplotlib\n",
    "import matplotlib.pyplot as plt\n",
    "%matplotlib inline"
   ]
  },
  {
   "cell_type": "code",
   "execution_count": 2,
   "metadata": {},
   "outputs": [],
   "source": [
    "def generate_random_solution(df):\n",
    "    category = df.category.values.tolist()\n",
    "    np.random.shuffle(category)\n",
    "    category_copy = category.copy()\n",
    "    hard_constrait = []\n",
    "    for cand in category_copy:\n",
    "        if cand == 'Ht' or cand == 'St':\n",
    "            hard_constrait.append(cand)\n",
    "            category.remove(cand)\n",
    "\n",
    "    empty_space = total - len(hard_constrait)\n",
    "\n",
    "    soft_constrait = []\n",
    "    for cand in range(empty_space):\n",
    "        soft_constrait.append(np.random.choice(category))\n",
    "\n",
    "    solution = hard_constrait + soft_constrait\n",
    "    \n",
    "    return solution, hard_constrait, category"
   ]
  },
  {
   "cell_type": "code",
   "execution_count": 3,
   "metadata": {},
   "outputs": [],
   "source": [
    "def evaluate_solution(solution, weight):\n",
    "    frequency = Counter(solution)\n",
    "    loss = 0\n",
    "    for category in solution: loss += weight[category] * frequency[category]\n",
    "    return loss"
   ]
  },
  {
   "cell_type": "code",
   "execution_count": 4,
   "metadata": {},
   "outputs": [],
   "source": [
    "def levyFlight(empty_space, category):\n",
    "    \"\"\"this will allow us jump over long distances 10% of the time and ...\n",
    "    add all the next seven categories in front as the short distance search\"\"\"\n",
    "    soft_constrait = []\n",
    "    while len(soft_constrait) < empty_space:\n",
    "        choice_idx = np.random.choice(empty_space)\n",
    "        if choice_idx < 175:\n",
    "            soft_constrait += category[choice_idx:choice_idx+7]\n",
    "        else: soft_constrait.append(category[choice_idx])\n",
    "    soft_constrait = soft_constrait[:empty_space+1]\n",
    "    return soft_constrait"
   ]
  },
  {
   "cell_type": "code",
   "execution_count": 5,
   "metadata": {},
   "outputs": [],
   "source": [
    "def mutate_solution(hard_constrait, category):\n",
    "#   mutate the solution by generating new soft constrait solution\n",
    "    empty_space = total - len(hard_constrait)\n",
    "\n",
    "    soft_constrait = levyFlight(empty_space, category)\n",
    "    solution = hard_constrait + soft_constrait    \n",
    "    return solution"
   ]
  },
  {
   "cell_type": "code",
   "execution_count": 6,
   "metadata": {},
   "outputs": [],
   "source": [
    "def cuckoo_CA(df, num_itr = 200, num_nests = 4):\n",
    "    start_time = time.time()\n",
    "    record = {}\n",
    "#     create nests and insert one solution in each\n",
    "    nests = {}\n",
    "    for nest in range(num_nests):\n",
    "        solution = generate_random_solution(df)\n",
    "        new_category = solution[-1].copy()\n",
    "        cost = evaluate_solution(solution[0], weight)\n",
    "        solution = list(solution[:-1])\n",
    "        solution.append(cost)\n",
    "        nests[nest] = solution\n",
    "        \n",
    "    \n",
    "#     create a cuckoo solution\n",
    "    cuckoo_solution, hard_sol, _ = nests[0]\n",
    "    cuckoo_solution = mutate_solution(hard_sol, new_category)\n",
    "    cost = evaluate_solution(cuckoo_solution, weight) # calculate the fitness function of the cuckoo solution\n",
    "    record[0] = cost\n",
    "\n",
    "# compare cuckoo solution with another solution a random nest\n",
    "    idx_c_nest = np.random.choice(list(nests.keys()))\n",
    "    if cost > nests[idx_c_nest][-1]:\n",
    "        nests[idx_c_nest] = (cuckoo_solution, hard_sol, cost)\n",
    "        print(\"Iteration 0.... cuckoo solution replaces solution at nest {} with cost {}\".format(idx_c_nest+1, cost))\n",
    "        \n",
    "    for itr in range(num_itr):\n",
    "        cuckoo_solution = mutate_solution(hard_sol, new_category)\n",
    "        cost = evaluate_solution(cuckoo_solution, weight) # calculate the fitness function of the cuckoo solution\n",
    "        \n",
    "        idx_c_nest = np.random.choice(list(nests.keys()))\n",
    "        if cost > nests[idx_c_nest][-1]:\n",
    "            nests[idx_c_nest] = (cuckoo_solution, hard_sol, cost)\n",
    "            record[itr] = cost\n",
    "            print(\"Iteration {}.... cuckoo solution replaces solution at nest {} with cost {}\".format(itr, idx_c_nest+1, cost))\n",
    "    \n",
    "#     select the best solution within all nests\n",
    "    nests = {v[-1]:v[0] for k,v in nests.items()}\n",
    "    best_cost = max(list(nests.keys()))\n",
    "    best_solution = nests[best_cost]\n",
    "    \n",
    "    end_time = time.time()\n",
    "    print(\"\\n Time taken - {}seconds\".format(end_time-start_time))\n",
    "    return best_solution, record"
   ]
  },
  {
   "cell_type": "code",
   "execution_count": 7,
   "metadata": {},
   "outputs": [],
   "source": [
    "def generate_random_solution_HA(CA, HA_stat):\n",
    "    np.random.shuffle(CA)\n",
    "    generated = {}\n",
    "    CA_copy = CA.copy()\n",
    "    for hall in HA_stat:\n",
    "        candidates = []\n",
    "        for count in range(HA_stat[hall]):\n",
    "            student = np.random.choice(CA_copy)\n",
    "            candidates.append(student)\n",
    "            CA_copy.remove(student)\n",
    "        generated[hall] = candidates\n",
    "    \n",
    "    generated = list(generated.values())\n",
    "    \n",
    "    matrix_solution = []\n",
    "    for hall in generated:\n",
    "        solution = []\n",
    "        \n",
    "        frequency = Counter(hall) #count each category in each hall\n",
    "        for category in order:\n",
    "            solution.append(frequency[category]) #append count of each category in each hall\n",
    "        \n",
    "        matrix_solution.append(solution) # concatenate solutions of all categories in all halls together\n",
    "    \n",
    "#     transpose solution to allow rows represent each category and column represent each hall\n",
    "    matrix_solution = np.array(matrix_solution).transpose()\n",
    "    return matrix_solution"
   ]
  },
  {
   "cell_type": "code",
   "execution_count": 8,
   "metadata": {},
   "outputs": [],
   "source": [
    "def evaluate_solution_HA(solution, data):\n",
    "    solution = {i:j for i,j in zip(data, solution)}\n",
    "    cost = 0\n",
    "    for cat in solution: #loop through each category \n",
    "        proportion = data[cat] - (max(solution[cat]) - min(solution[cat]))\n",
    "        N = sum(solution[cat] > 0 ) #number of halls that have some students of i-th category\n",
    "        cost += proportion * N\n",
    "    return cost"
   ]
  },
  {
   "cell_type": "code",
   "execution_count": 9,
   "metadata": {},
   "outputs": [],
   "source": [
    "\n",
    "def levyFlight_HA(empty_space, CA):\n",
    "    \"\"\"this will allow us jump over long distances 10% of the time and ...\n",
    "    add all the next seven categories in front as the short distance search\"\"\"\n",
    "    space = empty_space\n",
    "    soft_constrait = []\n",
    "    while len(soft_constrait) < space:\n",
    "            \n",
    "        choice_idx = np.random.choice(empty_space)\n",
    "        picker = np.random.choice(np.linspace(0.1, 0.8, 8))\n",
    "        \n",
    "        if picker*empty_space < choice_idx <= ((picker+0.1)*empty_space): #10% probability\n",
    "            if choice_idx+3 > len(CA) and len(CA) > 3:\n",
    "                soft_constrait += CA[choice_idx-3:choice_idx]\n",
    "                del CA[choice_idx-3:choice_idx]\n",
    "                empty_space -= len(CA[choice_idx-3:choice_idx])\n",
    "            \n",
    "            elif len(CA) <= 3:\n",
    "                soft_constrait += CA[:]\n",
    "                del CA[:]\n",
    "                empty_space -= len(CA[:])\n",
    "                \n",
    "            else:\n",
    "                soft_constrait += CA[choice_idx:choice_idx+3]\n",
    "                del CA[choice_idx:choice_idx+3]\n",
    "                empty_space -= len(CA[choice_idx:choice_idx+3])\n",
    "        \n",
    "        elif choice_idx < len(CA):\n",
    "            soft_constrait.append(CA[choice_idx-1])\n",
    "            empty_space -= 1\n",
    "            CA.remove(CA[choice_idx-1])\n",
    "            \n",
    "    CA += soft_constrait[space:]  \n",
    "    soft_constrait = soft_constrait[:space]\n",
    "\n",
    "    return soft_constrait, CA"
   ]
  },
  {
   "cell_type": "code",
   "execution_count": 10,
   "metadata": {},
   "outputs": [],
   "source": [
    "def mutate_solution_HA(CA, HA_stat):\n",
    "    generated = {}\n",
    "    CA_copy = CA.copy()\n",
    "    for hall in HA_stat:\n",
    "        candidates, CA_copy = levyFlight_HA(HA_stat[hall], CA_copy)\n",
    "        generated[hall] = candidates        \n",
    "        \n",
    "    generated = list(generated.values())\n",
    "    \n",
    "    matrix_solution = []\n",
    "    for hall in generated:\n",
    "        solution = []\n",
    "        \n",
    "        frequency = Counter(hall) #count each category in each hall\n",
    "        for category in order:\n",
    "            solution.append(frequency[category]) #append count of each category in each hall\n",
    "        \n",
    "        matrix_solution.append(solution) # concatenate solutions of all categories in all halls together\n",
    "    \n",
    "#     transpose solution to allow rows represent each category and column represent each hall\n",
    "    matrix_solution = np.array(matrix_solution).transpose()\n",
    "    return matrix_solution"
   ]
  },
  {
   "cell_type": "code",
   "execution_count": 11,
   "metadata": {},
   "outputs": [],
   "source": [
    "def cuckoo_HA(df, num_itr = 200, num_nests = 4):\n",
    "    start_time = time.time()\n",
    "    record = {}\n",
    "# create nests and insert a solution into each of them\n",
    "    nests = {}\n",
    "    for nest in range(num_nests):\n",
    "        solution = generate_random_solution_HA(best_solution_CA, HA_data)\n",
    "        cost = evaluate_solution_HA(solution, best_solution_CA_dict)\n",
    "        nests[nest] = (solution, cost)\n",
    "        \n",
    "# create a cuckoo solution\n",
    "    cuckoo_solution = mutate_solution_HA(best_solution_CA, HA_data)\n",
    "    cost = evaluate_solution_HA(cuckoo_solution, best_solution_CA_dict)\n",
    "    record[0] = cost\n",
    "    \n",
    "# compare cuckoo solution with another solution a random nest\n",
    "    idx_c_nest = np.random.choice(list(nests.keys()))\n",
    "    if cost > nests[idx_c_nest][-1]:\n",
    "        nests[idx_c_nest] = (cuckoo_solution, cost)\n",
    "        print(\"Iteration 0.... cuckoo solution replaces solution at nest {} with cost {}\".format(idx_c_nest+1, cost))\n",
    "        \n",
    "    for itr in range(num_itr):\n",
    "        cuckoo_solution = mutate_solution_HA(best_solution_CA, HA_data)\n",
    "        cost = evaluate_solution_HA(cuckoo_solution, best_solution_CA_dict)\n",
    "        \n",
    "        idx_c_nest = np.random.choice(list(nests.keys()))\n",
    "        if cost > nests[idx_c_nest][-1]:\n",
    "            nests[idx_c_nest] = (cuckoo_solution, cost)\n",
    "            record[itr] = cost\n",
    "            print(\"Iteration {}.... cuckoo solution replaces solution at nest {} with cost {}\".format(itr, idx_c_nest+1, cost))\n",
    "            \n",
    "#     select the best solution within all nests\n",
    "    nests = {v[-1]:v[0] for k,v in nests.items()}\n",
    "    best_cost = max(list(nests.keys()))\n",
    "    best_solution = nests[best_cost]\n",
    "    \n",
    "    end_time = time.time()\n",
    "    \n",
    "    print(\"\\n Time taken - {}seconds\".format(end_time-start_time))\n",
    "    print(' Best Fitness value -', best_cost)\n",
    "    return best_solution, record"
   ]
  },
  {
   "cell_type": "markdown",
   "metadata": {},
   "source": [
    "## **Implementation - Male applicants**"
   ]
  },
  {
   "cell_type": "code",
   "execution_count": 12,
   "metadata": {},
   "outputs": [],
   "source": [
    "male_df = pd.read_csv('male_applicants.csv')"
   ]
  },
  {
   "cell_type": "code",
   "execution_count": 13,
   "metadata": {},
   "outputs": [
    {
     "data": {
      "text/html": [
       "<div>\n",
       "<style scoped>\n",
       "    .dataframe tbody tr th:only-of-type {\n",
       "        vertical-align: middle;\n",
       "    }\n",
       "\n",
       "    .dataframe tbody tr th {\n",
       "        vertical-align: top;\n",
       "    }\n",
       "\n",
       "    .dataframe thead th {\n",
       "        text-align: right;\n",
       "    }\n",
       "</style>\n",
       "<table border=\"1\" class=\"dataframe\">\n",
       "  <thead>\n",
       "    <tr style=\"text-align: right;\">\n",
       "      <th></th>\n",
       "      <th>names</th>\n",
       "      <th>category</th>\n",
       "      <th>weight</th>\n",
       "    </tr>\n",
       "  </thead>\n",
       "  <tbody>\n",
       "    <tr>\n",
       "      <th>0</th>\n",
       "      <td>rqtttt</td>\n",
       "      <td>Ot</td>\n",
       "      <td>0.5</td>\n",
       "    </tr>\n",
       "    <tr>\n",
       "      <th>1</th>\n",
       "      <td>zhuztd</td>\n",
       "      <td>Ot</td>\n",
       "      <td>0.5</td>\n",
       "    </tr>\n",
       "    <tr>\n",
       "      <th>2</th>\n",
       "      <td>hqxfqg</td>\n",
       "      <td>Ot</td>\n",
       "      <td>0.5</td>\n",
       "    </tr>\n",
       "    <tr>\n",
       "      <th>3</th>\n",
       "      <td>sanjtt</td>\n",
       "      <td>Fy</td>\n",
       "      <td>0.5</td>\n",
       "    </tr>\n",
       "    <tr>\n",
       "      <th>4</th>\n",
       "      <td>mjbgpk</td>\n",
       "      <td>Ot</td>\n",
       "      <td>0.5</td>\n",
       "    </tr>\n",
       "    <tr>\n",
       "      <th>...</th>\n",
       "      <td>...</td>\n",
       "      <td>...</td>\n",
       "      <td>...</td>\n",
       "    </tr>\n",
       "    <tr>\n",
       "      <th>7361</th>\n",
       "      <td>bpgonl</td>\n",
       "      <td>Fr</td>\n",
       "      <td>0.5</td>\n",
       "    </tr>\n",
       "    <tr>\n",
       "      <th>7362</th>\n",
       "      <td>cvflwj</td>\n",
       "      <td>Fy</td>\n",
       "      <td>0.5</td>\n",
       "    </tr>\n",
       "    <tr>\n",
       "      <th>7363</th>\n",
       "      <td>carssw</td>\n",
       "      <td>Ot</td>\n",
       "      <td>0.5</td>\n",
       "    </tr>\n",
       "    <tr>\n",
       "      <th>7364</th>\n",
       "      <td>vtofrz</td>\n",
       "      <td>St</td>\n",
       "      <td>1.0</td>\n",
       "    </tr>\n",
       "    <tr>\n",
       "      <th>7365</th>\n",
       "      <td>mvogms</td>\n",
       "      <td>Fy</td>\n",
       "      <td>0.5</td>\n",
       "    </tr>\n",
       "  </tbody>\n",
       "</table>\n",
       "<p>7366 rows × 3 columns</p>\n",
       "</div>"
      ],
      "text/plain": [
       "       names category  weight\n",
       "0     rqtttt       Ot     0.5\n",
       "1     zhuztd       Ot     0.5\n",
       "2     hqxfqg       Ot     0.5\n",
       "3     sanjtt       Fy     0.5\n",
       "4     mjbgpk       Ot     0.5\n",
       "...      ...      ...     ...\n",
       "7361  bpgonl       Fr     0.5\n",
       "7362  cvflwj       Fy     0.5\n",
       "7363  carssw       Ot     0.5\n",
       "7364  vtofrz       St     1.0\n",
       "7365  mvogms       Fy     0.5\n",
       "\n",
       "[7366 rows x 3 columns]"
      ]
     },
     "execution_count": 13,
     "metadata": {},
     "output_type": "execute_result"
    }
   ],
   "source": [
    "male_df"
   ]
  },
  {
   "cell_type": "code",
   "execution_count": 14,
   "metadata": {},
   "outputs": [
    {
     "name": "stdout",
     "output_type": "stream",
     "text": [
      "{'Fy': 0.8072015877516303, 'Fr': 0.7646725262262546, 'Ht': 1, 'Sp': 0.9588885738588036, 'St': 1, 'Ot': 0.47037142047065494}\n"
     ]
    }
   ],
   "source": [
    "#this represents the amount of student that applied for each category\n",
    "male_data = {'Fy': 1360, 'Fr':1660, 'Ht':60, 'Sp':290, 'St':260, 'Ot':3736} \n",
    "\n",
    "#total amount of students that can be taken by all male hostels\n",
    "total = 2072 \n",
    "\n",
    "#total amount of students that belong to the soft constrait group\n",
    "soft_constr_weight = 1368 + 1660 + 290 + 3736 \n",
    "\n",
    "#weight the population of the soft constrait group based the amount of people that applied\n",
    "weight = {'Fy': 1 - (1360/soft_constr_weight), 'Fr': 1-(1660/soft_constr_weight), 'Ht':1, 'Sp':1- (290/soft_constr_weight), 'St':1, 'Ot': 1- (3736/soft_constr_weight)}\n",
    "print(weight)"
   ]
  },
  {
   "cell_type": "code",
   "execution_count": 15,
   "metadata": {},
   "outputs": [],
   "source": [
    "#amount of students that can be allocated to each male hostel\n",
    "HA_data = {'Akindeko': 625, 'Abiola':356, 'Adeniyi':195, 'New Male Hostel':792, 'Bisi Balogun':104}\n",
    "order = ['Fy','Fr','Ht','Sp','St','Ot']"
   ]
  },
  {
   "cell_type": "markdown",
   "metadata": {},
   "source": [
    "#### **Generate a random solution - Category Allocation (CA): MALE APPLICANTS**m"
   ]
  },
  {
   "cell_type": "code",
   "execution_count": 16,
   "metadata": {},
   "outputs": [
    {
     "data": {
      "text/html": [
       "<div>\n",
       "<style scoped>\n",
       "    .dataframe tbody tr th:only-of-type {\n",
       "        vertical-align: middle;\n",
       "    }\n",
       "\n",
       "    .dataframe tbody tr th {\n",
       "        vertical-align: top;\n",
       "    }\n",
       "\n",
       "    .dataframe thead th {\n",
       "        text-align: right;\n",
       "    }\n",
       "</style>\n",
       "<table border=\"1\" class=\"dataframe\">\n",
       "  <thead>\n",
       "    <tr style=\"text-align: right;\">\n",
       "      <th></th>\n",
       "      <th>St</th>\n",
       "      <th>Ht</th>\n",
       "      <th>Ot</th>\n",
       "      <th>Fy</th>\n",
       "      <th>Fr</th>\n",
       "      <th>Sp</th>\n",
       "    </tr>\n",
       "  </thead>\n",
       "  <tbody>\n",
       "    <tr>\n",
       "      <th>0</th>\n",
       "      <td>260</td>\n",
       "      <td>60</td>\n",
       "      <td>920</td>\n",
       "      <td>328</td>\n",
       "      <td>436</td>\n",
       "      <td>68</td>\n",
       "    </tr>\n",
       "  </tbody>\n",
       "</table>\n",
       "</div>"
      ],
      "text/plain": [
       "    St  Ht   Ot   Fy   Fr  Sp\n",
       "0  260  60  920  328  436  68"
      ]
     },
     "execution_count": 16,
     "metadata": {},
     "output_type": "execute_result"
    }
   ],
   "source": [
    "solution, _ , _= generate_random_solution(male_df)\n",
    "frequency = Counter(solution)\n",
    "\n",
    "show = pd.DataFrame()\n",
    "for i in frequency: show[i] = [frequency[i]]\n",
    "show.head()"
   ]
  },
  {
   "cell_type": "markdown",
   "metadata": {},
   "source": [
    "#### **Cuckoo optimized solution - Category Allocation (CA) MALE APPLICANTS**"
   ]
  },
  {
   "cell_type": "code",
   "execution_count": 25,
   "metadata": {},
   "outputs": [
    {
     "name": "stdout",
     "output_type": "stream",
     "text": [
      "Iteration 0.... cuckoo solution replaces solution at nest 1 with cost 725379.4984406009\n",
      "Iteration 1.... cuckoo solution replaces solution at nest 4 with cost 733373.1746526825\n",
      "Iteration 2.... cuckoo solution replaces solution at nest 3 with cost 722770.9050184416\n",
      "Iteration 3.... cuckoo solution replaces solution at nest 3 with cost 727068.9123901286\n",
      "Iteration 12.... cuckoo solution replaces solution at nest 2 with cost 730007.776013605\n",
      "Iteration 19.... cuckoo solution replaces solution at nest 1 with cost 725969.9997164812\n",
      "Iteration 20.... cuckoo solution replaces solution at nest 1 with cost 733376.4927700494\n",
      "Iteration 21.... cuckoo solution replaces solution at nest 4 with cost 733727.579529347\n",
      "Iteration 25.... cuckoo solution replaces solution at nest 2 with cost 732085.3260561286\n",
      "Iteration 26.... cuckoo solution replaces solution at nest 4 with cost 737010.5154522036\n",
      "Iteration 30.... cuckoo solution replaces solution at nest 3 with cost 737535.7745959675\n",
      "Iteration 41.... cuckoo solution replaces solution at nest 1 with cost 739426.7283810683\n",
      "Iteration 45.... cuckoo solution replaces solution at nest 2 with cost 737276.4930535748\n",
      "Iteration 51.... cuckoo solution replaces solution at nest 4 with cost 743103.1910972457\n",
      "Iteration 55.... cuckoo solution replaces solution at nest 1 with cost 747451.7377374443\n",
      "Iteration 58.... cuckoo solution replaces solution at nest 3 with cost 741633.4193365565\n",
      "Iteration 72.... cuckoo solution replaces solution at nest 4 with cost 743308.1199319467\n",
      "Iteration 77.... cuckoo solution replaces solution at nest 2 with cost 751538.3379642711\n",
      "Iteration 157.... cuckoo solution replaces solution at nest 4 with cost 743667.1119932047\n",
      "Iteration 159.... cuckoo solution replaces solution at nest 4 with cost 751424.6674227535\n",
      "Iteration 196.... cuckoo solution replaces solution at nest 3 with cost 749818.9342217348\n",
      "\n",
      " Time taken - 6.38957953453064seconds\n"
     ]
    },
    {
     "data": {
      "text/html": [
       "<div>\n",
       "<style scoped>\n",
       "    .dataframe tbody tr th:only-of-type {\n",
       "        vertical-align: middle;\n",
       "    }\n",
       "\n",
       "    .dataframe tbody tr th {\n",
       "        vertical-align: top;\n",
       "    }\n",
       "\n",
       "    .dataframe thead th {\n",
       "        text-align: right;\n",
       "    }\n",
       "</style>\n",
       "<table border=\"1\" class=\"dataframe\">\n",
       "  <thead>\n",
       "    <tr style=\"text-align: right;\">\n",
       "      <th></th>\n",
       "      <th>St</th>\n",
       "      <th>Ht</th>\n",
       "      <th>Fr</th>\n",
       "      <th>Ot</th>\n",
       "      <th>Fy</th>\n",
       "      <th>Sp</th>\n",
       "    </tr>\n",
       "  </thead>\n",
       "  <tbody>\n",
       "    <tr>\n",
       "      <th>0</th>\n",
       "      <td>260</td>\n",
       "      <td>60</td>\n",
       "      <td>354</td>\n",
       "      <td>1038</td>\n",
       "      <td>304</td>\n",
       "      <td>57</td>\n",
       "    </tr>\n",
       "  </tbody>\n",
       "</table>\n",
       "</div>"
      ],
      "text/plain": [
       "    St  Ht   Fr    Ot   Fy  Sp\n",
       "0  260  60  354  1038  304  57"
      ]
     },
     "execution_count": 25,
     "metadata": {},
     "output_type": "execute_result"
    }
   ],
   "source": [
    "best_solution_CA, graph = cuckoo_CA(male_df)\n",
    "\n",
    "frequency = Counter(best_solution_CA)\n",
    "\n",
    "best_solution_CA_dict = {i:j for i,j in frequency.items()}\n",
    "\n",
    "show = pd.DataFrame()\n",
    "for i in frequency: show[i] = [frequency[i]]\n",
    "show.head()"
   ]
  },
  {
   "cell_type": "code",
   "execution_count": 26,
   "metadata": {},
   "outputs": [
    {
     "data": {
      "image/png": "[encoded data removed]",
      "text/plain": [
       "<Figure size 540x360 with 1 Axes>"
      ]
     },
     "metadata": {
      "needs_background": "light"
     },
     "output_type": "display_data"
    }
   ],
   "source": [
    "plt.figure(dpi = 90)\n",
    "plt.title(\"Frequency value  VS  Number of iteration\")\n",
    "plt.xlabel('Number of Iterations')\n",
    "plt.ylabel('Fitness value')\n",
    "plt.plot(list(graph.keys()), list(graph.values()))\n",
    "plt.show()"
   ]
  },
  {
   "cell_type": "markdown",
   "metadata": {},
   "source": [
    "#### **Generate a random solution- Hall Allocation (HA) MALE APPLICANTS**"
   ]
  },
  {
   "cell_type": "code",
   "execution_count": 27,
   "metadata": {},
   "outputs": [
    {
     "data": {
      "text/html": [
       "<div>\n",
       "<style scoped>\n",
       "    .dataframe tbody tr th:only-of-type {\n",
       "        vertical-align: middle;\n",
       "    }\n",
       "\n",
       "    .dataframe tbody tr th {\n",
       "        vertical-align: top;\n",
       "    }\n",
       "\n",
       "    .dataframe thead th {\n",
       "        text-align: right;\n",
       "    }\n",
       "</style>\n",
       "<table border=\"1\" class=\"dataframe\">\n",
       "  <thead>\n",
       "    <tr style=\"text-align: right;\">\n",
       "      <th></th>\n",
       "      <th>Akindeko</th>\n",
       "      <th>Abiola</th>\n",
       "      <th>Adeniyi</th>\n",
       "      <th>New Male Hostel</th>\n",
       "      <th>Bisi Balogun</th>\n",
       "    </tr>\n",
       "  </thead>\n",
       "  <tbody>\n",
       "    <tr>\n",
       "      <th>Fy</th>\n",
       "      <td>85</td>\n",
       "      <td>48</td>\n",
       "      <td>25</td>\n",
       "      <td>125</td>\n",
       "      <td>21</td>\n",
       "    </tr>\n",
       "    <tr>\n",
       "      <th>Fr</th>\n",
       "      <td>115</td>\n",
       "      <td>57</td>\n",
       "      <td>38</td>\n",
       "      <td>125</td>\n",
       "      <td>19</td>\n",
       "    </tr>\n",
       "    <tr>\n",
       "      <th>Ht</th>\n",
       "      <td>18</td>\n",
       "      <td>14</td>\n",
       "      <td>4</td>\n",
       "      <td>21</td>\n",
       "      <td>3</td>\n",
       "    </tr>\n",
       "    <tr>\n",
       "      <th>Sp</th>\n",
       "      <td>11</td>\n",
       "      <td>10</td>\n",
       "      <td>9</td>\n",
       "      <td>22</td>\n",
       "      <td>5</td>\n",
       "    </tr>\n",
       "    <tr>\n",
       "      <th>St</th>\n",
       "      <td>59</td>\n",
       "      <td>49</td>\n",
       "      <td>26</td>\n",
       "      <td>104</td>\n",
       "      <td>21</td>\n",
       "    </tr>\n",
       "    <tr>\n",
       "      <th>Ot</th>\n",
       "      <td>337</td>\n",
       "      <td>178</td>\n",
       "      <td>93</td>\n",
       "      <td>395</td>\n",
       "      <td>35</td>\n",
       "    </tr>\n",
       "  </tbody>\n",
       "</table>\n",
       "</div>"
      ],
      "text/plain": [
       "    Akindeko  Abiola  Adeniyi  New Male Hostel  Bisi Balogun\n",
       "Fy        85      48       25              125            21\n",
       "Fr       115      57       38              125            19\n",
       "Ht        18      14        4               21             3\n",
       "Sp        11      10        9               22             5\n",
       "St        59      49       26              104            21\n",
       "Ot       337     178       93              395            35"
      ]
     },
     "execution_count": 27,
     "metadata": {},
     "output_type": "execute_result"
    }
   ],
   "source": [
    "solution_HA = generate_random_solution_HA(best_solution_CA, HA_data)\n",
    "\n",
    "show = pd.DataFrame(solution_HA,\n",
    "                    columns = ['Akindeko', 'Abiola', 'Adeniyi', 'New Male Hostel', 'Bisi Balogun'],\n",
    "                    index = ['Fy','Fr','Ht','Sp','St','Ot'])\n",
    "\n",
    "show"
   ]
  },
  {
   "cell_type": "markdown",
   "metadata": {},
   "source": [
    "#### **Cuckoo optimized solution- Hall Allocation (HA) MALE APPLICANTS**"
   ]
  },
  {
   "cell_type": "code",
   "execution_count": 28,
   "metadata": {},
   "outputs": [
    {
     "name": "stdout",
     "output_type": "stream",
     "text": [
      "Iteration 28.... cuckoo solution replaces solution at nest 4 with cost 6920\n",
      "\n",
      " Time taken - 34.89301514625549seconds\n",
      " Best Fitness value - 6925\n"
     ]
    },
    {
     "data": {
      "text/html": [
       "<div>\n",
       "<style scoped>\n",
       "    .dataframe tbody tr th:only-of-type {\n",
       "        vertical-align: middle;\n",
       "    }\n",
       "\n",
       "    .dataframe tbody tr th {\n",
       "        vertical-align: top;\n",
       "    }\n",
       "\n",
       "    .dataframe thead th {\n",
       "        text-align: right;\n",
       "    }\n",
       "</style>\n",
       "<table border=\"1\" class=\"dataframe\">\n",
       "  <thead>\n",
       "    <tr style=\"text-align: right;\">\n",
       "      <th></th>\n",
       "      <th>Akindeko</th>\n",
       "      <th>Abiola</th>\n",
       "      <th>Adeniyi</th>\n",
       "      <th>New Male Hostel</th>\n",
       "      <th>Bisi Balogun</th>\n",
       "    </tr>\n",
       "  </thead>\n",
       "  <tbody>\n",
       "    <tr>\n",
       "      <th>Fy</th>\n",
       "      <td>92</td>\n",
       "      <td>54</td>\n",
       "      <td>24</td>\n",
       "      <td>120</td>\n",
       "      <td>14</td>\n",
       "    </tr>\n",
       "    <tr>\n",
       "      <th>Fr</th>\n",
       "      <td>109</td>\n",
       "      <td>63</td>\n",
       "      <td>30</td>\n",
       "      <td>144</td>\n",
       "      <td>8</td>\n",
       "    </tr>\n",
       "    <tr>\n",
       "      <th>Ht</th>\n",
       "      <td>23</td>\n",
       "      <td>7</td>\n",
       "      <td>5</td>\n",
       "      <td>23</td>\n",
       "      <td>2</td>\n",
       "    </tr>\n",
       "    <tr>\n",
       "      <th>Sp</th>\n",
       "      <td>19</td>\n",
       "      <td>11</td>\n",
       "      <td>3</td>\n",
       "      <td>21</td>\n",
       "      <td>3</td>\n",
       "    </tr>\n",
       "    <tr>\n",
       "      <th>St</th>\n",
       "      <td>80</td>\n",
       "      <td>42</td>\n",
       "      <td>27</td>\n",
       "      <td>91</td>\n",
       "      <td>20</td>\n",
       "    </tr>\n",
       "    <tr>\n",
       "      <th>Ot</th>\n",
       "      <td>302</td>\n",
       "      <td>179</td>\n",
       "      <td>106</td>\n",
       "      <td>393</td>\n",
       "      <td>57</td>\n",
       "    </tr>\n",
       "  </tbody>\n",
       "</table>\n",
       "</div>"
      ],
      "text/plain": [
       "    Akindeko  Abiola  Adeniyi  New Male Hostel  Bisi Balogun\n",
       "Fy        92      54       24              120            14\n",
       "Fr       109      63       30              144             8\n",
       "Ht        23       7        5               23             2\n",
       "Sp        19      11        3               21             3\n",
       "St        80      42       27               91            20\n",
       "Ot       302     179      106              393            57"
      ]
     },
     "execution_count": 28,
     "metadata": {},
     "output_type": "execute_result"
    }
   ],
   "source": [
    "result, graph = cuckoo_HA(male_df) \n",
    "show = pd.DataFrame(result,\n",
    "                    columns = ['Akindeko', 'Abiola', 'Adeniyi', 'New Male Hostel', 'Bisi Balogun'],\n",
    "                    index = ['Fy','Fr','Ht','Sp','St','Ot'])\n",
    "\n",
    "show"
   ]
  },
  {
   "cell_type": "code",
   "execution_count": 29,
   "metadata": {},
   "outputs": [
    {
     "data": {
      "image/png": "[encoded data removed]",
      "text/plain": [
       "<Figure size 540x360 with 1 Axes>"
      ]
     },
     "metadata": {
      "needs_background": "light"
     },
     "output_type": "display_data"
    }
   ],
   "source": [
    "plt.figure(dpi = 90)\n",
    "plt.title(\"Frequency value  VS  Number of iteration\")\n",
    "plt.xlabel('Number of Iterations')\n",
    "plt.ylabel('Fitness value')\n",
    "plt.plot(list(graph.keys()), list(graph.values()))\n",
    "plt.show()"
   ]
  },
  {
   "cell_type": "markdown",
   "metadata": {},
   "source": [
    "## **Implementation - Female applicants**"
   ]
  },
  {
   "cell_type": "code",
   "execution_count": 12,
   "metadata": {},
   "outputs": [
    {
     "data": {
      "text/html": [
       "<div>\n",
       "<style scoped>\n",
       "    .dataframe tbody tr th:only-of-type {\n",
       "        vertical-align: middle;\n",
       "    }\n",
       "\n",
       "    .dataframe tbody tr th {\n",
       "        vertical-align: top;\n",
       "    }\n",
       "\n",
       "    .dataframe thead th {\n",
       "        text-align: right;\n",
       "    }\n",
       "</style>\n",
       "<table border=\"1\" class=\"dataframe\">\n",
       "  <thead>\n",
       "    <tr style=\"text-align: right;\">\n",
       "      <th></th>\n",
       "      <th>names</th>\n",
       "      <th>category</th>\n",
       "    </tr>\n",
       "  </thead>\n",
       "  <tbody>\n",
       "    <tr>\n",
       "      <th>0</th>\n",
       "      <td>ymguns</td>\n",
       "      <td>Fy</td>\n",
       "    </tr>\n",
       "    <tr>\n",
       "      <th>1</th>\n",
       "      <td>xhvcdk</td>\n",
       "      <td>Fy</td>\n",
       "    </tr>\n",
       "    <tr>\n",
       "      <th>2</th>\n",
       "      <td>vdnszo</td>\n",
       "      <td>Ot</td>\n",
       "    </tr>\n",
       "    <tr>\n",
       "      <th>3</th>\n",
       "      <td>vbcnxs</td>\n",
       "      <td>Ot</td>\n",
       "    </tr>\n",
       "    <tr>\n",
       "      <th>4</th>\n",
       "      <td>wcdduo</td>\n",
       "      <td>Ot</td>\n",
       "    </tr>\n",
       "  </tbody>\n",
       "</table>\n",
       "</div>"
      ],
      "text/plain": [
       "    names category\n",
       "0  ymguns       Fy\n",
       "1  xhvcdk       Fy\n",
       "2  vdnszo       Ot\n",
       "3  vbcnxs       Ot\n",
       "4  wcdduo       Ot"
      ]
     },
     "execution_count": 12,
     "metadata": {},
     "output_type": "execute_result"
    }
   ],
   "source": [
    "# Read in data\n",
    "female_df = pd.read_csv('female_applicants.csv')\n",
    "female_df.head()"
   ]
  },
  {
   "cell_type": "code",
   "execution_count": 13,
   "metadata": {},
   "outputs": [
    {
     "name": "stdout",
     "output_type": "stream",
     "text": [
      "{'Fy': 0.7246474143720618, 'Fr': 0.6783075889858965, 'Ht': 1, 'Sp': 0.9731363331094695, 'St': 1, 'Ot': 0.6239086635325721}\n"
     ]
    }
   ],
   "source": [
    "#this represents the amount of student that applied for each category\n",
    "female_data = {'Fy': 820, 'Fr':958, 'Ht':56, 'Sp':80, 'St':100, 'Ot':1120} \n",
    "\n",
    "#total amount of students that can be taken by all male hostels\n",
    "total = 1593\n",
    "\n",
    "#total amount of students that belong to the soft constrait group\n",
    "soft_constr_weight = 820 + 958 + 80 + 1120 \n",
    "\n",
    "#weight the population of the soft constrait group based the amount of people that applied\n",
    "weight = {'Fy': 1 - (820/soft_constr_weight), 'Fr': 1-(958/soft_constr_weight), 'Ht':1, 'Sp':1- (80/soft_constr_weight), 'St':1, 'Ot': 1- (1120/soft_constr_weight)}\n",
    "print(weight)"
   ]
  },
  {
   "cell_type": "code",
   "execution_count": 14,
   "metadata": {},
   "outputs": [],
   "source": [
    "#amount of students that can be allocated to each male hostel\n",
    "HA_data = {'New Female Hostel': 792, 'Jadesola':229, 'Jibowu(Main)':332, 'Jibowu Annex 1':80, 'Jibowu Annex 2':80,'Jibowu Annex 3':80}\n",
    "order = ['Fy','Fr','Ht','Sp','St','Ot']"
   ]
  },
  {
   "cell_type": "markdown",
   "metadata": {},
   "source": [
    "#### **Generate a random solution - Category Allocation (CA): FEMALE APPLICANTS**"
   ]
  },
  {
   "cell_type": "code",
   "execution_count": 15,
   "metadata": {},
   "outputs": [
    {
     "data": {
      "text/html": [
       "<div>\n",
       "<style scoped>\n",
       "    .dataframe tbody tr th:only-of-type {\n",
       "        vertical-align: middle;\n",
       "    }\n",
       "\n",
       "    .dataframe tbody tr th {\n",
       "        vertical-align: top;\n",
       "    }\n",
       "\n",
       "    .dataframe thead th {\n",
       "        text-align: right;\n",
       "    }\n",
       "</style>\n",
       "<table border=\"1\" class=\"dataframe\">\n",
       "  <thead>\n",
       "    <tr style=\"text-align: right;\">\n",
       "      <th></th>\n",
       "      <th>Ht</th>\n",
       "      <th>St</th>\n",
       "      <th>Ot</th>\n",
       "      <th>Fr</th>\n",
       "      <th>Fy</th>\n",
       "      <th>Sp</th>\n",
       "    </tr>\n",
       "  </thead>\n",
       "  <tbody>\n",
       "    <tr>\n",
       "      <th>0</th>\n",
       "      <td>56</td>\n",
       "      <td>100</td>\n",
       "      <td>529</td>\n",
       "      <td>434</td>\n",
       "      <td>439</td>\n",
       "      <td>35</td>\n",
       "    </tr>\n",
       "  </tbody>\n",
       "</table>\n",
       "</div>"
      ],
      "text/plain": [
       "   Ht   St   Ot   Fr   Fy  Sp\n",
       "0  56  100  529  434  439  35"
      ]
     },
     "execution_count": 15,
     "metadata": {},
     "output_type": "execute_result"
    }
   ],
   "source": [
    "solution, _ , _= generate_random_solution(female_df)\n",
    "frequency = Counter(solution)\n",
    "\n",
    "show = pd.DataFrame()\n",
    "for i in frequency: show[i] = [frequency[i]]\n",
    "show.head()"
   ]
  },
  {
   "cell_type": "markdown",
   "metadata": {},
   "source": [
    "#### **Cuckoo optimized solution - Category Allocation (CA) FEMALE APPLICANTS**"
   ]
  },
  {
   "cell_type": "code",
   "execution_count": 16,
   "metadata": {},
   "outputs": [
    {
     "name": "stdout",
     "output_type": "stream",
     "text": [
      "Iteration 0.... cuckoo solution replaces solution at nest 1 with cost 460760.49563465314\n",
      "Iteration 0.... cuckoo solution replaces solution at nest 1 with cost 461476.3774345163\n",
      "Iteration 1.... cuckoo solution replaces solution at nest 3 with cost 462092.27871053864\n",
      "Iteration 2.... cuckoo solution replaces solution at nest 2 with cost 463998.44526528\n",
      "Iteration 3.... cuckoo solution replaces solution at nest 1 with cost 462562.09939557343\n",
      "Iteration 4.... cuckoo solution replaces solution at nest 1 with cost 463449.97918065236\n",
      "Iteration 7.... cuckoo solution replaces solution at nest 4 with cost 461079.2478173291\n",
      "Iteration 8.... cuckoo solution replaces solution at nest 3 with cost 464028.8844862217\n",
      "Iteration 10.... cuckoo solution replaces solution at nest 4 with cost 461646.89926124946\n",
      "Iteration 14.... cuckoo solution replaces solution at nest 4 with cost 465870.71994628\n",
      "Iteration 15.... cuckoo solution replaces solution at nest 1 with cost 467537.3673606323\n",
      "Iteration 20.... cuckoo solution replaces solution at nest 4 with cost 469127.07186031196\n",
      "Iteration 22.... cuckoo solution replaces solution at nest 2 with cost 468894.1269308267\n",
      "Iteration 42.... cuckoo solution replaces solution at nest 3 with cost 464966.79449294927\n",
      "Iteration 48.... cuckoo solution replaces solution at nest 1 with cost 467872.2350570892\n",
      "Iteration 49.... cuckoo solution replaces solution at nest 3 with cost 465475.8878441824\n",
      "Iteration 76.... cuckoo solution replaces solution at nest 2 with cost 470310.9583613175\n",
      "Iteration 77.... cuckoo solution replaces solution at nest 2 with cost 470695.7824043057\n",
      "Iteration 80.... cuckoo solution replaces solution at nest 1 with cost 469615.8562793847\n",
      "Iteration 90.... cuckoo solution replaces solution at nest 3 with cost 467424.1893888559\n",
      "Iteration 171.... cuckoo solution replaces solution at nest 3 with cost 469934.96977836796\n",
      "\n",
      " Time taken - 3.0735511779785156seconds\n"
     ]
    },
    {
     "data": {
      "text/html": [
       "<div>\n",
       "<style scoped>\n",
       "    .dataframe tbody tr th:only-of-type {\n",
       "        vertical-align: middle;\n",
       "    }\n",
       "\n",
       "    .dataframe tbody tr th {\n",
       "        vertical-align: top;\n",
       "    }\n",
       "\n",
       "    .dataframe thead th {\n",
       "        text-align: right;\n",
       "    }\n",
       "</style>\n",
       "<table border=\"1\" class=\"dataframe\">\n",
       "  <thead>\n",
       "    <tr style=\"text-align: right;\">\n",
       "      <th></th>\n",
       "      <th>St</th>\n",
       "      <th>Ht</th>\n",
       "      <th>Ot</th>\n",
       "      <th>Fy</th>\n",
       "      <th>Fr</th>\n",
       "      <th>Sp</th>\n",
       "    </tr>\n",
       "  </thead>\n",
       "  <tbody>\n",
       "    <tr>\n",
       "      <th>0</th>\n",
       "      <td>100</td>\n",
       "      <td>56</td>\n",
       "      <td>566</td>\n",
       "      <td>353</td>\n",
       "      <td>496</td>\n",
       "      <td>23</td>\n",
       "    </tr>\n",
       "  </tbody>\n",
       "</table>\n",
       "</div>"
      ],
      "text/plain": [
       "    St  Ht   Ot   Fy   Fr  Sp\n",
       "0  100  56  566  353  496  23"
      ]
     },
     "execution_count": 16,
     "metadata": {},
     "output_type": "execute_result"
    }
   ],
   "source": [
    "best_solution_CA, graph = cuckoo_CA(female_df)\n",
    "\n",
    "frequency = Counter(best_solution_CA)\n",
    "\n",
    "best_solution_CA_dict = {i:j for i,j in frequency.items()}\n",
    "\n",
    "show = pd.DataFrame()\n",
    "for i in frequency: show[i] = [frequency[i]]\n",
    "show.head()"
   ]
  },
  {
   "cell_type": "code",
   "execution_count": 18,
   "metadata": {},
   "outputs": [
    {
     "data": {
      "image/png": "[encoded data removed]",
      "text/plain": [
       "<Figure size 540x360 with 1 Axes>"
      ]
     },
     "metadata": {
      "needs_background": "light"
     },
     "output_type": "display_data"
    }
   ],
   "source": [
    "plt.figure(dpi = 90)\n",
    "plt.title(\"Frequency value  VS  Number of iteration\")\n",
    "plt.xlabel('Number of Iterations')\n",
    "plt.ylabel('Fitness value')\n",
    "plt.plot(list(graph.keys()), list(graph.values()))\n",
    "plt.show()"
   ]
  },
  {
   "cell_type": "markdown",
   "metadata": {},
   "source": [
    "#### **Cuckoo optimized solution- Hall Allocation (HA) FEMALE APPLICANTS**"
   ]
  },
  {
   "cell_type": "code",
   "execution_count": 21,
   "metadata": {},
   "outputs": [
    {
     "name": "stdout",
     "output_type": "stream",
     "text": [
      "Iteration 0.... cuckoo solution replaces solution at nest 1 with cost 5196\n",
      "Iteration 0.... cuckoo solution replaces solution at nest 4 with cost 5190\n",
      "Iteration 5.... cuckoo solution replaces solution at nest 2 with cost 5196\n",
      "Iteration 6.... cuckoo solution replaces solution at nest 1 with cost 5208\n",
      "Iteration 10.... cuckoo solution replaces solution at nest 4 with cost 5214\n",
      "Iteration 11.... cuckoo solution replaces solution at nest 1 with cost 5226\n",
      "Iteration 17.... cuckoo solution replaces solution at nest 2 with cost 5214\n",
      "Iteration 26.... cuckoo solution replaces solution at nest 4 with cost 5220\n",
      "Iteration 60.... cuckoo solution replaces solution at nest 2 with cost 5220\n",
      "Iteration 139.... cuckoo solution replaces solution at nest 3 with cost 5226\n",
      "\n",
      " Time taken - 25.963905096054077seconds\n",
      " Best Fitness value - 5226\n"
     ]
    },
    {
     "data": {
      "text/html": [
       "<div>\n",
       "<style scoped>\n",
       "    .dataframe tbody tr th:only-of-type {\n",
       "        vertical-align: middle;\n",
       "    }\n",
       "\n",
       "    .dataframe tbody tr th {\n",
       "        vertical-align: top;\n",
       "    }\n",
       "\n",
       "    .dataframe thead th {\n",
       "        text-align: right;\n",
       "    }\n",
       "</style>\n",
       "<table border=\"1\" class=\"dataframe\">\n",
       "  <thead>\n",
       "    <tr style=\"text-align: right;\">\n",
       "      <th></th>\n",
       "      <th>New Female Hostel</th>\n",
       "      <th>Jadesola</th>\n",
       "      <th>Jibowu(Main)</th>\n",
       "      <th>Jibowu Annex 1</th>\n",
       "      <th>Jibowu Annex 2</th>\n",
       "      <th>Jibowu Annex 3</th>\n",
       "    </tr>\n",
       "  </thead>\n",
       "  <tbody>\n",
       "    <tr>\n",
       "      <th>Fy</th>\n",
       "      <td>180</td>\n",
       "      <td>44</td>\n",
       "      <td>75</td>\n",
       "      <td>18</td>\n",
       "      <td>22</td>\n",
       "      <td>14</td>\n",
       "    </tr>\n",
       "    <tr>\n",
       "      <th>Fr</th>\n",
       "      <td>255</td>\n",
       "      <td>75</td>\n",
       "      <td>94</td>\n",
       "      <td>26</td>\n",
       "      <td>21</td>\n",
       "      <td>25</td>\n",
       "    </tr>\n",
       "    <tr>\n",
       "      <th>Ht</th>\n",
       "      <td>30</td>\n",
       "      <td>8</td>\n",
       "      <td>12</td>\n",
       "      <td>1</td>\n",
       "      <td>2</td>\n",
       "      <td>2</td>\n",
       "    </tr>\n",
       "    <tr>\n",
       "      <th>Sp</th>\n",
       "      <td>12</td>\n",
       "      <td>1</td>\n",
       "      <td>5</td>\n",
       "      <td>1</td>\n",
       "      <td>2</td>\n",
       "      <td>2</td>\n",
       "    </tr>\n",
       "    <tr>\n",
       "      <th>St</th>\n",
       "      <td>48</td>\n",
       "      <td>15</td>\n",
       "      <td>20</td>\n",
       "      <td>5</td>\n",
       "      <td>6</td>\n",
       "      <td>6</td>\n",
       "    </tr>\n",
       "    <tr>\n",
       "      <th>Ot</th>\n",
       "      <td>267</td>\n",
       "      <td>86</td>\n",
       "      <td>126</td>\n",
       "      <td>29</td>\n",
       "      <td>27</td>\n",
       "      <td>31</td>\n",
       "    </tr>\n",
       "  </tbody>\n",
       "</table>\n",
       "</div>"
      ],
      "text/plain": [
       "    New Female Hostel  Jadesola  Jibowu(Main)  Jibowu Annex 1  Jibowu Annex 2  \\\n",
       "Fy                180        44            75              18              22   \n",
       "Fr                255        75            94              26              21   \n",
       "Ht                 30         8            12               1               2   \n",
       "Sp                 12         1             5               1               2   \n",
       "St                 48        15            20               5               6   \n",
       "Ot                267        86           126              29              27   \n",
       "\n",
       "    Jibowu Annex 3  \n",
       "Fy              14  \n",
       "Fr              25  \n",
       "Ht               2  \n",
       "Sp               2  \n",
       "St               6  \n",
       "Ot              31  "
      ]
     },
     "execution_count": 21,
     "metadata": {},
     "output_type": "execute_result"
    }
   ],
   "source": [
    "result, graph = cuckoo_HA(200) \n",
    "show = pd.DataFrame(result,\n",
    "                    columns = ['New Female Hostel', 'Jadesola', 'Jibowu(Main)', 'Jibowu Annex 1', 'Jibowu Annex 2','Jibowu Annex 3'],\n",
    "                    index = ['Fy','Fr','Ht','Sp','St','Ot'])\n",
    "\n",
    "show"
   ]
  },
  {
   "cell_type": "code",
   "execution_count": 22,
   "metadata": {},
   "outputs": [
    {
     "data": {
      "image/png": "[encoded data removed]",
      "text/plain": [
       "<Figure size 540x360 with 1 Axes>"
      ]
     },
     "metadata": {
      "needs_background": "light"
     },
     "output_type": "display_data"
    }
   ],
   "source": [
    "plt.figure(dpi = 90)\n",
    "plt.title(\"Frequency value  VS  Number of iteration\")\n",
    "plt.xlabel('Number of Iterations')\n",
    "plt.ylabel('Fitness value')\n",
    "plt.plot(list(graph.keys()), list(graph.values()))\n",
    "plt.show()"
   ]
  },
  {
   "cell_type": "code",
   "execution_count": null,
   "metadata": {},
   "outputs": [],
   "source": []
  }
 ],
 "metadata": {
  "kernelspec": {
   "display_name": "Python 3",
   "language": "python",
   "name": "python3"
  },
  "language_info": {
   "codemirror_mode": {
    "name": "ipython",
    "version": 3
   },
   "file_extension": ".py",
   "mimetype": "text/x-python",
   "name": "python",
   "nbconvert_exporter": "python",
   "pygments_lexer": "ipython3",
   "version": "3.7.6"
  }
 },
 "nbformat": 4,
 "nbformat_minor": 4
}
