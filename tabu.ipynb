{
 "cells": [
  {
   "cell_type": "code",
   "execution_count": 40,
   "metadata": {},
   "outputs": [],
   "source": [
    "import pandas as pd\n",
    "import random as rd\n",
    "from collections import Counter\n",
    "import time\n",
    "import numpy as np\n",
    "import matplotlib\n",
    "import matplotlib.pyplot as plt\n",
    "%matplotlib inline"
   ]
  },
  {
   "cell_type": "code",
   "execution_count": 48,
   "metadata": {},
   "outputs": [],
   "source": [
    "def generate_random_solution(df):\n",
    "    category = df.category.values.tolist()\n",
    "    category_copy = category.copy()\n",
    "    hard_constrait = []\n",
    "    for cand in category_copy:\n",
    "        if cand == 'Ht' or cand == 'St':\n",
    "            hard_constrait.append(cand)\n",
    "            category.remove(cand)\n",
    "\n",
    "    empty_space = total - len(hard_constrait)\n",
    "\n",
    "    soft_constrait = []\n",
    "    for cand in range(empty_space):\n",
    "        soft_constrait.append(np.random.choice(category))\n",
    "\n",
    "    solution = hard_constrait + soft_constrait\n",
    "    \n",
    "    return solution, hard_constrait, category"
   ]
  },
  {
   "cell_type": "code",
   "execution_count": 42,
   "metadata": {},
   "outputs": [],
   "source": [
    "def evaluate_solution(solution, weight):\n",
    "    frequency = Counter(solution)\n",
    "    loss = 0\n",
    "    for category in solution: loss += weight[category] * frequency[category]\n",
    "    return loss"
   ]
  },
  {
   "cell_type": "code",
   "execution_count": 43,
   "metadata": {},
   "outputs": [],
   "source": [
    "def mutate_solution(hard_constrait, category):\n",
    "#   mutate the solution by generating new soft constrait solution\n",
    "    empty_space = total - len(hard_constrait)\n",
    "\n",
    "    soft_constrait = []\n",
    "    for cand in range(empty_space):\n",
    "        soft_constrait.append(np.random.choice(np.array(category)))\n",
    "\n",
    "    solution = hard_constrait + soft_constrait\n",
    "    \n",
    "    return solution"
   ]
  },
  {
   "cell_type": "code",
   "execution_count": 44,
   "metadata": {},
   "outputs": [],
   "source": [
    "def tabu_search_CA(df, num_itr = 200):\n",
    "    start_time = time.time()\n",
    "    record = {}\n",
    "    \n",
    "    solution, hard_sol, soft_cat = generate_random_solution(df)\n",
    "    cost = evaluate_solution(solution, weight)\n",
    "    \n",
    "    best_solution = solution\n",
    "    cost_best_solution = cost\n",
    "    \n",
    "    tabu_list = {cost_best_solution: best_solution}\n",
    "    record[0] = cost\n",
    "    print(\"Iteration 0 ------ cost:- {}\".format(cost))    \n",
    "    \n",
    "    for itr in range(1, num_itr+1):\n",
    "        solution = mutate_solution(hard_sol, soft_cat)\n",
    "        \n",
    "#         check if new solution is in tabu list\n",
    "        for i in range(50):\n",
    "            if solution in tabu_list.values():\n",
    "                solution = mutate_solution(hard_sol, soft_cat)\n",
    "            else: break\n",
    "                \n",
    "        cost = evaluate_solution(solution, weight)\n",
    "\n",
    "#         update second item of tabu list\n",
    "        if cost > cost_best_solution and len(tabu_list) == 1:\n",
    "            print(\"Iteration {} ------ Found a better solution with cost:- {}. (Added to tabu list)\".format(itr, cost))\n",
    "            best_solution = solution\n",
    "            cost_best_solution = cost\n",
    "            tabu_list[cost_best_solution] = best_solution\n",
    "            record[itr] = cost\n",
    "        \n",
    "        elif cost > cost_best_solution and solution not in tabu_list.values():\n",
    "            print(\"Iteration {} ------ Found a good solution with cost:- {}. (Added to tabu list)\".format(itr, cost))\n",
    "            best_solution = solution\n",
    "            cost_best_solution = cost\n",
    "            \n",
    "            del tabu_list[min(tabu_list)]\n",
    "            tabu_list[cost_best_solution] = best_solution\n",
    "            record[itr] = cost\n",
    "            \n",
    "    end_time = time.time()\n",
    "    \n",
    "    print(\"\\n Time taken - {}seconds\".format(end_time-start_time))\n",
    "    return best_solution, record    "
   ]
  },
  {
   "cell_type": "code",
   "execution_count": 45,
   "metadata": {},
   "outputs": [],
   "source": [
    "def generate_random_solution_HA(CA, HA_stat):\n",
    "    generated = {}\n",
    "    CA_copy = CA.copy()\n",
    "    for hall in HA_stat:\n",
    "        candidates = []\n",
    "        for count in range(HA_stat[hall]):\n",
    "            student = np.random.choice(CA_copy)\n",
    "            candidates.append(student)\n",
    "            CA_copy.remove(student)\n",
    "        generated[hall] = candidates\n",
    "    \n",
    "    generated = list(generated.values())\n",
    "    \n",
    "    matrix_solution = []\n",
    "    for hall in generated:\n",
    "        solution = []\n",
    "        \n",
    "        frequency = Counter(hall) #count each category in each hall\n",
    "        for category in order:\n",
    "            solution.append(frequency[category]) #append count of each category in each hall\n",
    "        \n",
    "        matrix_solution.append(solution) # concatenate solutions of all categories in all halls together\n",
    "    \n",
    "#     transpose solution to allow rows represent each category and column represent each hall\n",
    "    matrix_solution = np.array(matrix_solution).transpose()\n",
    "    return matrix_solution"
   ]
  },
  {
   "cell_type": "code",
   "execution_count": 46,
   "metadata": {},
   "outputs": [],
   "source": [
    "def evaluate_solution_FA(solution, data):\n",
    "    solution = {i:j for i,j in zip(data, solution)}\n",
    "    cost = 0\n",
    "    for cat in solution: #loop through each category \n",
    "        proportion = data[cat] - (max(solution[cat]) - min(solution[cat]))\n",
    "        N = sum(solution[cat] > 0 ) #number of halls that have some students of i-th category\n",
    "        cost += proportion * N\n",
    "    return cost"
   ]
  },
  {
   "cell_type": "code",
   "execution_count": 47,
   "metadata": {},
   "outputs": [],
   "source": [
    "def tabu_HA(df, num_itr = 200):\n",
    "    start_time = time.time()\n",
    "    \n",
    "    record = {}\n",
    "    solution = generate_random_solution_HA(best_solution_CA, HA_data)\n",
    "    cost = evaluate_solution_FA(solution, best_solution_CA_dict)\n",
    "    \n",
    "    best_solution = solution\n",
    "    cost_best_solution = cost\n",
    "    \n",
    "    tabu_list = {cost_best_solution: best_solution}\n",
    "#     print(type(tabu_list.values()[0]))\n",
    "    print(\"Iteration 0 ------ cost:- {}\".format(cost))\n",
    "    record[0] = cost\n",
    "    \n",
    "    for itr in range(1, num_itr+ 1):\n",
    "        solution = generate_random_solution_HA(best_solution_CA, HA_data)\n",
    "        \n",
    "        for i in range(50):\n",
    "            if solution.flatten().tolist() in [i.flatten().tolist() for i in tabu_list.values()]:\n",
    "                solution = generate_random_solution_HA(best_solution_CA, HA_data)\n",
    "            else: break\n",
    "                \n",
    "        cost = evaluate_solution_FA(solution, best_solution_CA_dict)\n",
    "        \n",
    "        if cost > cost_best_solution and len(tabu_list) == 1:\n",
    "            print(\"Iteration {} ------ Found a better solution with cost:- {}. (Added to tabu list)\".format(itr, cost))\n",
    "            best_solution = solution\n",
    "            cost_best_solution = cost\n",
    "            tabu_list[cost_best_solution] = best_solution\n",
    "            record[itr] = cost_best_solution\n",
    "        \n",
    "        elif cost > cost_best_solution and solution.flatten().tolist() not in [i.flatten().tolist() for i in tabu_list.values()]:\n",
    "            print(\"Iteration {} ------ Found a good solution with cost:- {}. (Added to tabu list)\".format(itr, cost))\n",
    "            best_solution = solution\n",
    "            cost_best_solution = cost\n",
    "            \n",
    "            del tabu_list[min(tabu_list)]\n",
    "            tabu_list[cost_best_solution] = best_solution\n",
    "            record[itr] = cost_best_solution\n",
    "            \n",
    "    end_time = time.time()\n",
    "    \n",
    "    print(\"\\n Time taken - {}seconds\".format(end_time-start_time))\n",
    "    return best_solution, record"
   ]
  },
  {
   "cell_type": "markdown",
   "metadata": {},
   "source": [
    "## **Implementation - Male applicants**"
   ]
  },
  {
   "cell_type": "code",
   "execution_count": 9,
   "metadata": {},
   "outputs": [],
   "source": [
    "male_df = pd.read_csv('male_applicants.csv')"
   ]
  },
  {
   "cell_type": "code",
   "execution_count": 10,
   "metadata": {},
   "outputs": [
    {
     "data": {
      "text/html": [
       "<div>\n",
       "<style scoped>\n",
       "    .dataframe tbody tr th:only-of-type {\n",
       "        vertical-align: middle;\n",
       "    }\n",
       "\n",
       "    .dataframe tbody tr th {\n",
       "        vertical-align: top;\n",
       "    }\n",
       "\n",
       "    .dataframe thead th {\n",
       "        text-align: right;\n",
       "    }\n",
       "</style>\n",
       "<table border=\"1\" class=\"dataframe\">\n",
       "  <thead>\n",
       "    <tr style=\"text-align: right;\">\n",
       "      <th></th>\n",
       "      <th>names</th>\n",
       "      <th>category</th>\n",
       "      <th>weight</th>\n",
       "    </tr>\n",
       "  </thead>\n",
       "  <tbody>\n",
       "    <tr>\n",
       "      <th>0</th>\n",
       "      <td>rqtttt</td>\n",
       "      <td>Ot</td>\n",
       "      <td>0.5</td>\n",
       "    </tr>\n",
       "    <tr>\n",
       "      <th>1</th>\n",
       "      <td>zhuztd</td>\n",
       "      <td>Ot</td>\n",
       "      <td>0.5</td>\n",
       "    </tr>\n",
       "    <tr>\n",
       "      <th>2</th>\n",
       "      <td>hqxfqg</td>\n",
       "      <td>Ot</td>\n",
       "      <td>0.5</td>\n",
       "    </tr>\n",
       "    <tr>\n",
       "      <th>3</th>\n",
       "      <td>sanjtt</td>\n",
       "      <td>Fy</td>\n",
       "      <td>0.5</td>\n",
       "    </tr>\n",
       "    <tr>\n",
       "      <th>4</th>\n",
       "      <td>mjbgpk</td>\n",
       "      <td>Ot</td>\n",
       "      <td>0.5</td>\n",
       "    </tr>\n",
       "    <tr>\n",
       "      <th>...</th>\n",
       "      <td>...</td>\n",
       "      <td>...</td>\n",
       "      <td>...</td>\n",
       "    </tr>\n",
       "    <tr>\n",
       "      <th>7361</th>\n",
       "      <td>bpgonl</td>\n",
       "      <td>Fr</td>\n",
       "      <td>0.5</td>\n",
       "    </tr>\n",
       "    <tr>\n",
       "      <th>7362</th>\n",
       "      <td>cvflwj</td>\n",
       "      <td>Fy</td>\n",
       "      <td>0.5</td>\n",
       "    </tr>\n",
       "    <tr>\n",
       "      <th>7363</th>\n",
       "      <td>carssw</td>\n",
       "      <td>Ot</td>\n",
       "      <td>0.5</td>\n",
       "    </tr>\n",
       "    <tr>\n",
       "      <th>7364</th>\n",
       "      <td>vtofrz</td>\n",
       "      <td>St</td>\n",
       "      <td>1.0</td>\n",
       "    </tr>\n",
       "    <tr>\n",
       "      <th>7365</th>\n",
       "      <td>mvogms</td>\n",
       "      <td>Fy</td>\n",
       "      <td>0.5</td>\n",
       "    </tr>\n",
       "  </tbody>\n",
       "</table>\n",
       "<p>7366 rows × 3 columns</p>\n",
       "</div>"
      ],
      "text/plain": [
       "       names category  weight\n",
       "0     rqtttt       Ot     0.5\n",
       "1     zhuztd       Ot     0.5\n",
       "2     hqxfqg       Ot     0.5\n",
       "3     sanjtt       Fy     0.5\n",
       "4     mjbgpk       Ot     0.5\n",
       "...      ...      ...     ...\n",
       "7361  bpgonl       Fr     0.5\n",
       "7362  cvflwj       Fy     0.5\n",
       "7363  carssw       Ot     0.5\n",
       "7364  vtofrz       St     1.0\n",
       "7365  mvogms       Fy     0.5\n",
       "\n",
       "[7366 rows x 3 columns]"
      ]
     },
     "execution_count": 10,
     "metadata": {},
     "output_type": "execute_result"
    }
   ],
   "source": [
    "male_df"
   ]
  },
  {
   "cell_type": "code",
   "execution_count": 11,
   "metadata": {},
   "outputs": [
    {
     "name": "stdout",
     "output_type": "stream",
     "text": [
      "{'Fy': 0.8072015877516303, 'Fr': 0.7646725262262546, 'Ht': 1, 'Sp': 0.9588885738588036, 'St': 1, 'Ot': 0.47037142047065494}\n"
     ]
    }
   ],
   "source": [
    "#this represents the amount of student that applied for each category\n",
    "male_data = {'Fy': 1360, 'Fr':1660, 'Ht':60, 'Sp':290, 'St':260, 'Ot':3736} \n",
    "\n",
    "#total amount of students that can be taken by all male hostels\n",
    "total = 2072 \n",
    "\n",
    "#total amount of students that belong to the soft constrait group\n",
    "soft_constr_weight = 1368 + 1660 + 290 + 3736 \n",
    "\n",
    "#weight the population of the soft constrait group based the amount of people that applied\n",
    "weight = {'Fy': 1 - (1360/soft_constr_weight), 'Fr': 1-(1660/soft_constr_weight), 'Ht':1, 'Sp':1- (290/soft_constr_weight), 'St':1, 'Ot': 1- (3736/soft_constr_weight)}\n",
    "print(weight)"
   ]
  },
  {
   "cell_type": "code",
   "execution_count": 12,
   "metadata": {},
   "outputs": [],
   "source": [
    "HA_data = {'Akindeko': 625, 'Abiola':356, 'Adeniyi':195, 'New Male Hostel':792, 'Bisi Balogun':104}\n",
    "order = ['Fy','Fr','Ht','Sp','St','Ot']"
   ]
  },
  {
   "cell_type": "markdown",
   "metadata": {},
   "source": [
    "#### **Generate a random solution - Category Allocation (CA): MALE APPLICANTS**"
   ]
  },
  {
   "cell_type": "code",
   "execution_count": 13,
   "metadata": {},
   "outputs": [
    {
     "data": {
      "text/html": [
       "<div>\n",
       "<style scoped>\n",
       "    .dataframe tbody tr th:only-of-type {\n",
       "        vertical-align: middle;\n",
       "    }\n",
       "\n",
       "    .dataframe tbody tr th {\n",
       "        vertical-align: top;\n",
       "    }\n",
       "\n",
       "    .dataframe thead th {\n",
       "        text-align: right;\n",
       "    }\n",
       "</style>\n",
       "<table border=\"1\" class=\"dataframe\">\n",
       "  <thead>\n",
       "    <tr style=\"text-align: right;\">\n",
       "      <th></th>\n",
       "      <th>St</th>\n",
       "      <th>Ht</th>\n",
       "      <th>Ot</th>\n",
       "      <th>Fy</th>\n",
       "      <th>Fr</th>\n",
       "      <th>Sp</th>\n",
       "    </tr>\n",
       "  </thead>\n",
       "  <tbody>\n",
       "    <tr>\n",
       "      <th>0</th>\n",
       "      <td>260</td>\n",
       "      <td>60</td>\n",
       "      <td>873</td>\n",
       "      <td>376</td>\n",
       "      <td>423</td>\n",
       "      <td>80</td>\n",
       "    </tr>\n",
       "  </tbody>\n",
       "</table>\n",
       "</div>"
      ],
      "text/plain": [
       "    St  Ht   Ot   Fy   Fr  Sp\n",
       "0  260  60  873  376  423  80"
      ]
     },
     "execution_count": 13,
     "metadata": {},
     "output_type": "execute_result"
    }
   ],
   "source": [
    "solution, _ , _= generate_random_solution(male_df)\n",
    "frequency = Counter(solution)\n",
    "\n",
    "show = pd.DataFrame()\n",
    "for i in frequency: show[i] = [frequency[i]]\n",
    "show.head()"
   ]
  },
  {
   "cell_type": "markdown",
   "metadata": {},
   "source": [
    "#### **Tabu optimized solution - Category Allocation (CA) MALE APPLICANTS**"
   ]
  },
  {
   "cell_type": "code",
   "execution_count": 14,
   "metadata": {},
   "outputs": [
    {
     "name": "stdout",
     "output_type": "stream",
     "text": [
      "Iteration 0 ------ cost:- 706344.8715622408\n",
      "Iteration 1 ------ Found a better solution with cost:- 723620.0895945593. (Added to tabu list)\n",
      "Iteration 54 ------ Found a good solution with cost:- 724514.0113410992. (Added to tabu list)\n",
      "\n",
      " Time taken - 228.55096077919006seconds\n"
     ]
    },
    {
     "data": {
      "text/html": [
       "<div>\n",
       "<style scoped>\n",
       "    .dataframe tbody tr th:only-of-type {\n",
       "        vertical-align: middle;\n",
       "    }\n",
       "\n",
       "    .dataframe tbody tr th {\n",
       "        vertical-align: top;\n",
       "    }\n",
       "\n",
       "    .dataframe thead th {\n",
       "        text-align: right;\n",
       "    }\n",
       "</style>\n",
       "<table border=\"1\" class=\"dataframe\">\n",
       "  <thead>\n",
       "    <tr style=\"text-align: right;\">\n",
       "      <th></th>\n",
       "      <th>St</th>\n",
       "      <th>Ht</th>\n",
       "      <th>Ot</th>\n",
       "      <th>Fr</th>\n",
       "      <th>Sp</th>\n",
       "      <th>Fy</th>\n",
       "    </tr>\n",
       "  </thead>\n",
       "  <tbody>\n",
       "    <tr>\n",
       "      <th>0</th>\n",
       "      <td>260</td>\n",
       "      <td>60</td>\n",
       "      <td>977</td>\n",
       "      <td>406</td>\n",
       "      <td>66</td>\n",
       "      <td>303</td>\n",
       "    </tr>\n",
       "  </tbody>\n",
       "</table>\n",
       "</div>"
      ],
      "text/plain": [
       "    St  Ht   Ot   Fr  Sp   Fy\n",
       "0  260  60  977  406  66  303"
      ]
     },
     "execution_count": 14,
     "metadata": {},
     "output_type": "execute_result"
    }
   ],
   "source": [
    "best_solution_CA, graph = tabu_search_CA(male_df)\n",
    "\n",
    "frequency = Counter(best_solution_CA)\n",
    "\n",
    "best_solution_CA_dict = {i:j for i,j in frequency.items()}\n",
    "\n",
    "show = pd.DataFrame()\n",
    "for i in frequency: show[i] = [frequency[i]]\n",
    "show.head()"
   ]
  },
  {
   "cell_type": "code",
   "execution_count": 15,
   "metadata": {},
   "outputs": [
    {
     "data": {
      "image/png": "[encoded data removed]",
      "text/plain": [
       "<Figure size 540x360 with 1 Axes>"
      ]
     },
     "metadata": {
      "needs_background": "light"
     },
     "output_type": "display_data"
    }
   ],
   "source": [
    "plt.figure(dpi = 90)\n",
    "plt.title(\"Frequency value  VS  Number of iteration\")\n",
    "plt.xlabel('Number of Iterations')\n",
    "plt.ylabel('Fitness value')\n",
    "plt.plot(list(graph.keys()), list(graph.values()))\n",
    "plt.show()"
   ]
  },
  {
   "cell_type": "markdown",
   "metadata": {},
   "source": [
    "#### **Generate a random solution- Hall Allocation (HA) MALE APPLICANTS**"
   ]
  },
  {
   "cell_type": "code",
   "execution_count": 16,
   "metadata": {},
   "outputs": [
    {
     "data": {
      "text/html": [
       "<div>\n",
       "<style scoped>\n",
       "    .dataframe tbody tr th:only-of-type {\n",
       "        vertical-align: middle;\n",
       "    }\n",
       "\n",
       "    .dataframe tbody tr th {\n",
       "        vertical-align: top;\n",
       "    }\n",
       "\n",
       "    .dataframe thead th {\n",
       "        text-align: right;\n",
       "    }\n",
       "</style>\n",
       "<table border=\"1\" class=\"dataframe\">\n",
       "  <thead>\n",
       "    <tr style=\"text-align: right;\">\n",
       "      <th></th>\n",
       "      <th>Akindeko</th>\n",
       "      <th>Abiola</th>\n",
       "      <th>Adeniyi</th>\n",
       "      <th>New Male Hostel</th>\n",
       "      <th>Bisi Balogun</th>\n",
       "    </tr>\n",
       "  </thead>\n",
       "  <tbody>\n",
       "    <tr>\n",
       "      <th>Fy</th>\n",
       "      <td>83</td>\n",
       "      <td>59</td>\n",
       "      <td>29</td>\n",
       "      <td>115</td>\n",
       "      <td>17</td>\n",
       "    </tr>\n",
       "    <tr>\n",
       "      <th>Fr</th>\n",
       "      <td>121</td>\n",
       "      <td>70</td>\n",
       "      <td>42</td>\n",
       "      <td>157</td>\n",
       "      <td>16</td>\n",
       "    </tr>\n",
       "    <tr>\n",
       "      <th>Ht</th>\n",
       "      <td>16</td>\n",
       "      <td>7</td>\n",
       "      <td>6</td>\n",
       "      <td>27</td>\n",
       "      <td>4</td>\n",
       "    </tr>\n",
       "    <tr>\n",
       "      <th>Sp</th>\n",
       "      <td>27</td>\n",
       "      <td>3</td>\n",
       "      <td>7</td>\n",
       "      <td>24</td>\n",
       "      <td>5</td>\n",
       "    </tr>\n",
       "    <tr>\n",
       "      <th>St</th>\n",
       "      <td>84</td>\n",
       "      <td>39</td>\n",
       "      <td>23</td>\n",
       "      <td>102</td>\n",
       "      <td>12</td>\n",
       "    </tr>\n",
       "    <tr>\n",
       "      <th>Ot</th>\n",
       "      <td>294</td>\n",
       "      <td>178</td>\n",
       "      <td>88</td>\n",
       "      <td>367</td>\n",
       "      <td>50</td>\n",
       "    </tr>\n",
       "  </tbody>\n",
       "</table>\n",
       "</div>"
      ],
      "text/plain": [
       "    Akindeko  Abiola  Adeniyi  New Male Hostel  Bisi Balogun\n",
       "Fy        83      59       29              115            17\n",
       "Fr       121      70       42              157            16\n",
       "Ht        16       7        6               27             4\n",
       "Sp        27       3        7               24             5\n",
       "St        84      39       23              102            12\n",
       "Ot       294     178       88              367            50"
      ]
     },
     "execution_count": 16,
     "metadata": {},
     "output_type": "execute_result"
    }
   ],
   "source": [
    "solution_HA = generate_random_solution_HA(best_solution_CA, HA_data)\n",
    "\n",
    "show = pd.DataFrame(solution_HA,\n",
    "                    columns = ['Akindeko', 'Abiola', 'Adeniyi', 'New Male Hostel', 'Bisi Balogun'],\n",
    "                    index = ['Fy','Fr','Ht','Sp','St','Ot'])\n",
    "\n",
    "show"
   ]
  },
  {
   "cell_type": "markdown",
   "metadata": {},
   "source": [
    "#### **Tabu optimized solution- Hall Allocation (HA) MALE APPLICANTS**"
   ]
  },
  {
   "cell_type": "code",
   "execution_count": 22,
   "metadata": {},
   "outputs": [
    {
     "name": "stdout",
     "output_type": "stream",
     "text": [
      "Iteration 0 ------ cost:- 6920\n",
      "\n",
      " Time taken - 98.11895608901978seconds\n"
     ]
    },
    {
     "data": {
      "text/html": [
       "<div>\n",
       "<style scoped>\n",
       "    .dataframe tbody tr th:only-of-type {\n",
       "        vertical-align: middle;\n",
       "    }\n",
       "\n",
       "    .dataframe tbody tr th {\n",
       "        vertical-align: top;\n",
       "    }\n",
       "\n",
       "    .dataframe thead th {\n",
       "        text-align: right;\n",
       "    }\n",
       "</style>\n",
       "<table border=\"1\" class=\"dataframe\">\n",
       "  <thead>\n",
       "    <tr style=\"text-align: right;\">\n",
       "      <th></th>\n",
       "      <th>Akindeko</th>\n",
       "      <th>Abiola</th>\n",
       "      <th>Adeniyi</th>\n",
       "      <th>New Male Hostel</th>\n",
       "      <th>Bisi Balogun</th>\n",
       "    </tr>\n",
       "  </thead>\n",
       "  <tbody>\n",
       "    <tr>\n",
       "      <th>Fy</th>\n",
       "      <td>88</td>\n",
       "      <td>55</td>\n",
       "      <td>31</td>\n",
       "      <td>117</td>\n",
       "      <td>12</td>\n",
       "    </tr>\n",
       "    <tr>\n",
       "      <th>Fr</th>\n",
       "      <td>117</td>\n",
       "      <td>75</td>\n",
       "      <td>40</td>\n",
       "      <td>154</td>\n",
       "      <td>20</td>\n",
       "    </tr>\n",
       "    <tr>\n",
       "      <th>Ht</th>\n",
       "      <td>16</td>\n",
       "      <td>14</td>\n",
       "      <td>7</td>\n",
       "      <td>19</td>\n",
       "      <td>4</td>\n",
       "    </tr>\n",
       "    <tr>\n",
       "      <th>Sp</th>\n",
       "      <td>17</td>\n",
       "      <td>13</td>\n",
       "      <td>8</td>\n",
       "      <td>23</td>\n",
       "      <td>5</td>\n",
       "    </tr>\n",
       "    <tr>\n",
       "      <th>St</th>\n",
       "      <td>78</td>\n",
       "      <td>40</td>\n",
       "      <td>23</td>\n",
       "      <td>107</td>\n",
       "      <td>12</td>\n",
       "    </tr>\n",
       "    <tr>\n",
       "      <th>Ot</th>\n",
       "      <td>309</td>\n",
       "      <td>159</td>\n",
       "      <td>86</td>\n",
       "      <td>372</td>\n",
       "      <td>51</td>\n",
       "    </tr>\n",
       "  </tbody>\n",
       "</table>\n",
       "</div>"
      ],
      "text/plain": [
       "    Akindeko  Abiola  Adeniyi  New Male Hostel  Bisi Balogun\n",
       "Fy        88      55       31              117            12\n",
       "Fr       117      75       40              154            20\n",
       "Ht        16      14        7               19             4\n",
       "Sp        17      13        8               23             5\n",
       "St        78      40       23              107            12\n",
       "Ot       309     159       86              372            51"
      ]
     },
     "execution_count": 22,
     "metadata": {},
     "output_type": "execute_result"
    }
   ],
   "source": [
    "result, graph = tabu_HA(male_df)\n",
    "show = pd.DataFrame(result,\n",
    "                    columns = ['Akindeko', 'Abiola', 'Adeniyi', 'New Male Hostel', 'Bisi Balogun'],\n",
    "                    index = ['Fy','Fr','Ht','Sp','St','Ot'])\n",
    "\n",
    "show"
   ]
  },
  {
   "cell_type": "markdown",
   "metadata": {},
   "source": [
    "## **Implementation - Female applicants**"
   ]
  },
  {
   "cell_type": "code",
   "execution_count": 49,
   "metadata": {},
   "outputs": [
    {
     "data": {
      "text/html": [
       "<div>\n",
       "<style scoped>\n",
       "    .dataframe tbody tr th:only-of-type {\n",
       "        vertical-align: middle;\n",
       "    }\n",
       "\n",
       "    .dataframe tbody tr th {\n",
       "        vertical-align: top;\n",
       "    }\n",
       "\n",
       "    .dataframe thead th {\n",
       "        text-align: right;\n",
       "    }\n",
       "</style>\n",
       "<table border=\"1\" class=\"dataframe\">\n",
       "  <thead>\n",
       "    <tr style=\"text-align: right;\">\n",
       "      <th></th>\n",
       "      <th>names</th>\n",
       "      <th>category</th>\n",
       "    </tr>\n",
       "  </thead>\n",
       "  <tbody>\n",
       "    <tr>\n",
       "      <th>0</th>\n",
       "      <td>ymguns</td>\n",
       "      <td>Fy</td>\n",
       "    </tr>\n",
       "    <tr>\n",
       "      <th>1</th>\n",
       "      <td>xhvcdk</td>\n",
       "      <td>Fy</td>\n",
       "    </tr>\n",
       "    <tr>\n",
       "      <th>2</th>\n",
       "      <td>vdnszo</td>\n",
       "      <td>Ot</td>\n",
       "    </tr>\n",
       "    <tr>\n",
       "      <th>3</th>\n",
       "      <td>vbcnxs</td>\n",
       "      <td>Ot</td>\n",
       "    </tr>\n",
       "    <tr>\n",
       "      <th>4</th>\n",
       "      <td>wcdduo</td>\n",
       "      <td>Ot</td>\n",
       "    </tr>\n",
       "  </tbody>\n",
       "</table>\n",
       "</div>"
      ],
      "text/plain": [
       "    names category\n",
       "0  ymguns       Fy\n",
       "1  xhvcdk       Fy\n",
       "2  vdnszo       Ot\n",
       "3  vbcnxs       Ot\n",
       "4  wcdduo       Ot"
      ]
     },
     "execution_count": 49,
     "metadata": {},
     "output_type": "execute_result"
    }
   ],
   "source": [
    "# Read in data\n",
    "female_df = pd.read_csv('female_applicants.csv')\n",
    "female_df.head()"
   ]
  },
  {
   "cell_type": "code",
   "execution_count": 50,
   "metadata": {},
   "outputs": [
    {
     "name": "stdout",
     "output_type": "stream",
     "text": [
      "{'Fy': 0.7246474143720618, 'Fr': 0.6783075889858965, 'Ht': 1, 'Sp': 0.9731363331094695, 'St': 1, 'Ot': 0.6239086635325721}\n"
     ]
    }
   ],
   "source": [
    "#this represents the amount of student that applied for each category\n",
    "female_data = {'Fy': 820, 'Fr':958, 'Ht':56, 'Sp':80, 'St':100, 'Ot':1120} \n",
    "\n",
    "#total amount of students that can be taken by all male hostels\n",
    "total = 1593\n",
    "\n",
    "#total amount of students that belong to the soft constrait group\n",
    "soft_constr_weight = 820 + 958 + 80 + 1120 \n",
    "\n",
    "#weight the population of the soft constrait group based the amount of people that applied\n",
    "weight = {'Fy': 1 - (820/soft_constr_weight), 'Fr': 1-(958/soft_constr_weight), 'Ht':1, 'Sp':1- (80/soft_constr_weight), 'St':1, 'Ot': 1- (1120/soft_constr_weight)}\n",
    "print(weight)"
   ]
  },
  {
   "cell_type": "code",
   "execution_count": 51,
   "metadata": {},
   "outputs": [],
   "source": [
    "#amount of students that can be allocated to each male hostel\n",
    "HA_data = {'New Female Hostel': 792, 'Jadesola':229, 'Jibowu(Main)':332, 'Jibowu Annex 1':80, 'Jibowu Annex 2':80,'Jibowu Annex 3':80}\n",
    "order = ['Fy','Fr','Ht','Sp','St','Ot']"
   ]
  },
  {
   "cell_type": "markdown",
   "metadata": {},
   "source": [
    "#### **Generate a random solution - Category Allocation (CA): FEMALE APPLICANTS**"
   ]
  },
  {
   "cell_type": "code",
   "execution_count": 52,
   "metadata": {},
   "outputs": [
    {
     "data": {
      "text/html": [
       "<div>\n",
       "<style scoped>\n",
       "    .dataframe tbody tr th:only-of-type {\n",
       "        vertical-align: middle;\n",
       "    }\n",
       "\n",
       "    .dataframe tbody tr th {\n",
       "        vertical-align: top;\n",
       "    }\n",
       "\n",
       "    .dataframe thead th {\n",
       "        text-align: right;\n",
       "    }\n",
       "</style>\n",
       "<table border=\"1\" class=\"dataframe\">\n",
       "  <thead>\n",
       "    <tr style=\"text-align: right;\">\n",
       "      <th></th>\n",
       "      <th>St</th>\n",
       "      <th>Ht</th>\n",
       "      <th>Fr</th>\n",
       "      <th>Ot</th>\n",
       "      <th>Fy</th>\n",
       "      <th>Sp</th>\n",
       "    </tr>\n",
       "  </thead>\n",
       "  <tbody>\n",
       "    <tr>\n",
       "      <th>0</th>\n",
       "      <td>100</td>\n",
       "      <td>56</td>\n",
       "      <td>458</td>\n",
       "      <td>524</td>\n",
       "      <td>408</td>\n",
       "      <td>47</td>\n",
       "    </tr>\n",
       "  </tbody>\n",
       "</table>\n",
       "</div>"
      ],
      "text/plain": [
       "    St  Ht   Fr   Ot   Fy  Sp\n",
       "0  100  56  458  524  408  47"
      ]
     },
     "execution_count": 52,
     "metadata": {},
     "output_type": "execute_result"
    }
   ],
   "source": [
    "solution, _ , _= generate_random_solution(female_df)\n",
    "frequency = Counter(solution)\n",
    "\n",
    "show = pd.DataFrame()\n",
    "for i in frequency: show[i] = [frequency[i]]\n",
    "show.head()"
   ]
  },
  {
   "cell_type": "markdown",
   "metadata": {},
   "source": [
    "#### **Tabu optimized solution - Category Allocation (CA) FEMALE APPLICANTS**"
   ]
  },
  {
   "cell_type": "code",
   "execution_count": 53,
   "metadata": {},
   "outputs": [
    {
     "name": "stdout",
     "output_type": "stream",
     "text": [
      "Iteration 0 ------ cost:- 458510.73807924223\n",
      "Iteration 3 ------ Found a better solution with cost:- 461638.64002686465. (Added to tabu list)\n",
      "Iteration 18 ------ Found a good solution with cost:- 464460.5352585497. (Added to tabu list)\n",
      "Iteration 34 ------ Found a good solution with cost:- 467436.81799865596. (Added to tabu list)\n",
      "\n",
      " Time taken - 80.88703203201294seconds\n"
     ]
    },
    {
     "data": {
      "text/html": [
       "<div>\n",
       "<style scoped>\n",
       "    .dataframe tbody tr th:only-of-type {\n",
       "        vertical-align: middle;\n",
       "    }\n",
       "\n",
       "    .dataframe tbody tr th {\n",
       "        vertical-align: top;\n",
       "    }\n",
       "\n",
       "    .dataframe thead th {\n",
       "        text-align: right;\n",
       "    }\n",
       "</style>\n",
       "<table border=\"1\" class=\"dataframe\">\n",
       "  <thead>\n",
       "    <tr style=\"text-align: right;\">\n",
       "      <th></th>\n",
       "      <th>St</th>\n",
       "      <th>Ht</th>\n",
       "      <th>Fy</th>\n",
       "      <th>Fr</th>\n",
       "      <th>Ot</th>\n",
       "      <th>Sp</th>\n",
       "    </tr>\n",
       "  </thead>\n",
       "  <tbody>\n",
       "    <tr>\n",
       "      <th>0</th>\n",
       "      <td>100</td>\n",
       "      <td>56</td>\n",
       "      <td>359</td>\n",
       "      <td>459</td>\n",
       "      <td>590</td>\n",
       "      <td>29</td>\n",
       "    </tr>\n",
       "  </tbody>\n",
       "</table>\n",
       "</div>"
      ],
      "text/plain": [
       "    St  Ht   Fy   Fr   Ot  Sp\n",
       "0  100  56  359  459  590  29"
      ]
     },
     "execution_count": 53,
     "metadata": {},
     "output_type": "execute_result"
    }
   ],
   "source": [
    "best_solution_CA, graph = tabu_search_CA(female_df)\n",
    "\n",
    "frequency = Counter(best_solution_CA)\n",
    "\n",
    "best_solution_CA_dict = {i:j for i,j in frequency.items()}\n",
    "\n",
    "show = pd.DataFrame()\n",
    "for i in frequency: show[i] = [frequency[i]]\n",
    "show.head()"
   ]
  },
  {
   "cell_type": "code",
   "execution_count": 54,
   "metadata": {},
   "outputs": [
    {
     "data": {
      "image/png": "[encoded data removed]",
      "text/plain": [
       "<Figure size 540x360 with 1 Axes>"
      ]
     },
     "metadata": {
      "needs_background": "light"
     },
     "output_type": "display_data"
    }
   ],
   "source": [
    "plt.figure(dpi = 90)\n",
    "plt.title(\"Frequency value  VS  Number of iteration\")\n",
    "plt.xlabel('Number of Iterations')\n",
    "plt.ylabel('Fitness value')\n",
    "plt.plot(list(graph.keys()), list(graph.values()))\n",
    "plt.show()"
   ]
  },
  {
   "cell_type": "markdown",
   "metadata": {},
   "source": [
    "#### **Tabu optimized solution- Hall Allocation (HA) FEMALE APPLICANTS**"
   ]
  },
  {
   "cell_type": "code",
   "execution_count": 55,
   "metadata": {},
   "outputs": [
    {
     "name": "stdout",
     "output_type": "stream",
     "text": [
      "Iteration 0 ------ cost:- 5184\n",
      "Iteration 5 ------ Found a better solution with cost:- 5208. (Added to tabu list)\n",
      "Iteration 13 ------ Found a good solution with cost:- 5220. (Added to tabu list)\n",
      "Iteration 38 ------ Found a good solution with cost:- 5244. (Added to tabu list)\n",
      "\n",
      " Time taken - 63.246687173843384seconds\n"
     ]
    },
    {
     "data": {
      "text/html": [
       "<div>\n",
       "<style scoped>\n",
       "    .dataframe tbody tr th:only-of-type {\n",
       "        vertical-align: middle;\n",
       "    }\n",
       "\n",
       "    .dataframe tbody tr th {\n",
       "        vertical-align: top;\n",
       "    }\n",
       "\n",
       "    .dataframe thead th {\n",
       "        text-align: right;\n",
       "    }\n",
       "</style>\n",
       "<table border=\"1\" class=\"dataframe\">\n",
       "  <thead>\n",
       "    <tr style=\"text-align: right;\">\n",
       "      <th></th>\n",
       "      <th>New Female Hostel</th>\n",
       "      <th>Jadesola</th>\n",
       "      <th>Jibowu(Main)</th>\n",
       "      <th>Jibowu Annex 1</th>\n",
       "      <th>Jibowu Annex 2</th>\n",
       "      <th>Jibowu Annex 3</th>\n",
       "    </tr>\n",
       "  </thead>\n",
       "  <tbody>\n",
       "    <tr>\n",
       "      <th>Fy</th>\n",
       "      <td>175</td>\n",
       "      <td>39</td>\n",
       "      <td>83</td>\n",
       "      <td>22</td>\n",
       "      <td>20</td>\n",
       "      <td>20</td>\n",
       "    </tr>\n",
       "    <tr>\n",
       "      <th>Fr</th>\n",
       "      <td>239</td>\n",
       "      <td>61</td>\n",
       "      <td>88</td>\n",
       "      <td>25</td>\n",
       "      <td>24</td>\n",
       "      <td>22</td>\n",
       "    </tr>\n",
       "    <tr>\n",
       "      <th>Ht</th>\n",
       "      <td>24</td>\n",
       "      <td>15</td>\n",
       "      <td>12</td>\n",
       "      <td>3</td>\n",
       "      <td>1</td>\n",
       "      <td>1</td>\n",
       "    </tr>\n",
       "    <tr>\n",
       "      <th>Sp</th>\n",
       "      <td>15</td>\n",
       "      <td>4</td>\n",
       "      <td>5</td>\n",
       "      <td>1</td>\n",
       "      <td>2</td>\n",
       "      <td>2</td>\n",
       "    </tr>\n",
       "    <tr>\n",
       "      <th>St</th>\n",
       "      <td>49</td>\n",
       "      <td>14</td>\n",
       "      <td>21</td>\n",
       "      <td>5</td>\n",
       "      <td>5</td>\n",
       "      <td>6</td>\n",
       "    </tr>\n",
       "    <tr>\n",
       "      <th>Ot</th>\n",
       "      <td>290</td>\n",
       "      <td>96</td>\n",
       "      <td>123</td>\n",
       "      <td>24</td>\n",
       "      <td>28</td>\n",
       "      <td>29</td>\n",
       "    </tr>\n",
       "  </tbody>\n",
       "</table>\n",
       "</div>"
      ],
      "text/plain": [
       "    New Female Hostel  Jadesola  Jibowu(Main)  Jibowu Annex 1  Jibowu Annex 2  \\\n",
       "Fy                175        39            83              22              20   \n",
       "Fr                239        61            88              25              24   \n",
       "Ht                 24        15            12               3               1   \n",
       "Sp                 15         4             5               1               2   \n",
       "St                 49        14            21               5               5   \n",
       "Ot                290        96           123              24              28   \n",
       "\n",
       "    Jibowu Annex 3  \n",
       "Fy              20  \n",
       "Fr              22  \n",
       "Ht               1  \n",
       "Sp               2  \n",
       "St               6  \n",
       "Ot              29  "
      ]
     },
     "execution_count": 55,
     "metadata": {},
     "output_type": "execute_result"
    }
   ],
   "source": [
    "result, graph = tabu_HA(female_df) \n",
    "show = pd.DataFrame(result,\n",
    "                    columns = ['New Female Hostel', 'Jadesola', 'Jibowu(Main)', 'Jibowu Annex 1', 'Jibowu Annex 2','Jibowu Annex 3'],\n",
    "                    index = ['Fy','Fr','Ht','Sp','St','Ot'])\n",
    "\n",
    "show"
   ]
  },
  {
   "cell_type": "code",
   "execution_count": 56,
   "metadata": {},
   "outputs": [
    {
     "data": {
      "image/png": "[encoded data removed]",
      "text/plain": [
       "<Figure size 540x360 with 1 Axes>"
      ]
     },
     "metadata": {
      "needs_background": "light"
     },
     "output_type": "display_data"
    }
   ],
   "source": [
    "plt.figure(dpi = 90)\n",
    "plt.title(\"Frequency value  VS  Number of iteration\")\n",
    "plt.xlabel('Number of Iterations')\n",
    "plt.ylabel('Fitness value')\n",
    "plt.plot(list(graph.keys()), list(graph.values()))\n",
    "plt.show()"
   ]
  },
  {
   "cell_type": "code",
   "execution_count": null,
   "metadata": {},
   "outputs": [],
   "source": []
  }
 ],
 "metadata": {
  "kernelspec": {
   "display_name": "Python 3",
   "language": "python",
   "name": "python3"
  },
  "language_info": {
   "codemirror_mode": {
    "name": "ipython",
    "version": 3
   },
   "file_extension": ".py",
   "mimetype": "text/x-python",
   "name": "python",
   "nbconvert_exporter": "python",
   "pygments_lexer": "ipython3",
   "version": "3.7.6"
  }
 },
 "nbformat": 4,
 "nbformat_minor": 4
}
