{
 "cells": [
  {
   "cell_type": "code",
   "execution_count": 1,
   "metadata": {},
   "outputs": [],
   "source": [
    "import pandas as pd\n",
    "import random as rd\n",
    "from collections import Counter\n",
    "import time\n",
    "import numpy as np\n",
    "import matplotlib\n",
    "import matplotlib.pyplot as plt\n",
    "%matplotlib inline"
   ]
  },
  {
   "cell_type": "code",
   "execution_count": 2,
   "metadata": {},
   "outputs": [],
   "source": [
    "def generate_random_solution(df):\n",
    "    category = df.category.values.tolist()\n",
    "    np.random.shuffle(category)\n",
    "    category_copy = category.copy()\n",
    "    hard_constrait = []\n",
    "    for cand in category_copy:\n",
    "        if cand == 'Ht' or cand == 'St':\n",
    "            hard_constrait.append(cand)\n",
    "            category.remove(cand)\n",
    "\n",
    "    empty_space = total - len(hard_constrait)\n",
    "\n",
    "    soft_constrait = []\n",
    "    for cand in range(empty_space):\n",
    "        soft_constrait.append(np.random.choice(category))\n",
    "\n",
    "    solution = hard_constrait + soft_constrait\n",
    "    \n",
    "    return solution, hard_constrait, category"
   ]
  },
  {
   "cell_type": "code",
   "execution_count": 3,
   "metadata": {},
   "outputs": [],
   "source": [
    "def evaluate_solution(solution, weight):\n",
    "    frequency = Counter(solution)\n",
    "    loss = 0\n",
    "    for category in solution: loss += weight[category] * frequency[category]\n",
    "    return loss"
   ]
  },
  {
   "cell_type": "code",
   "execution_count": 4,
   "metadata": {},
   "outputs": [],
   "source": [
    "def levyFlight(empty_space, category):\n",
    "    \"\"\"this will allow us jump over long distances 10% of the time and ...\n",
    "    add all the next seven categories in front as the short distance search\"\"\"\n",
    "    soft_constrait = []\n",
    "    while len(soft_constrait) <= empty_space:\n",
    "        choice_idx = np.random.choice(empty_space)\n",
    "        picker = np.random.choice(np.linspace(0.1, 0.7, 7)) #levy flight location probability constrait\n",
    "        if picker*total < choice_idx <= (picker+0.1)*total:\n",
    "            soft_constrait += category[choice_idx:choice_idx+7]\n",
    "        else: soft_constrait.append(category[choice_idx])\n",
    "    soft_constrait = soft_constrait[:empty_space]\n",
    "    return soft_constrait"
   ]
  },
  {
   "cell_type": "code",
   "execution_count": 5,
   "metadata": {},
   "outputs": [],
   "source": [
    "def mutate_solution(hard_constrait, category):\n",
    "#   mutate the solution by generating new soft constrait solution\n",
    "    empty_space = total - len(hard_constrait)\n",
    "\n",
    "    soft_constrait = levyFlight(empty_space, category)\n",
    "    solution = hard_constrait + soft_constrait    \n",
    "    return solution"
   ]
  },
  {
   "cell_type": "code",
   "execution_count": 6,
   "metadata": {},
   "outputs": [],
   "source": [
    "def check_tabu(tabu, solution):\n",
    "    tenure = 0\n",
    "    while solution in tabu.values() and tenure < tabu_tenure:\n",
    "        solution  = mutate_solution(hard_sol, new_category)\n",
    "        tenure += 1\n",
    "    \n",
    "    cost = evaluate_solution(solution, weight)\n",
    "        \n",
    "    tabu_copy = tabu.copy()\n",
    "    for val in tabu.keys():\n",
    "        if cost > val:\n",
    "            del tabu_copy[val]\n",
    "            tabu_copy[cost] = solution\n",
    "            \n",
    "    return solution, cost, tabu_copy"
   ]
  },
  {
   "cell_type": "code",
   "execution_count": 7,
   "metadata": {},
   "outputs": [],
   "source": [
    "def cuckoo_tabu_CA(df, num_itr = 200, num_nests = 4, tabu_length = 2, tabu_tenure = 50):\n",
    "    start_time = time.time()\n",
    "    \n",
    "    record = {}\n",
    "#     initialize tabu_list\n",
    "    tabu_list = {}\n",
    "#     create nests and insert one solution in each\n",
    "    nests = { }\n",
    "    for nest in range(num_nests):\n",
    "        solution = generate_random_solution(df)\n",
    "        new_category = solution[-1].copy()\n",
    "        \n",
    "        tabu_tenure_c = 0\n",
    "        while solution[0] in tabu_list.values() and tabu_tenure_c < tabu_tenure:            \n",
    "            solution = generate_random_solution(df)\n",
    "            tabu_tenure += 1\n",
    "\n",
    "        cost = evaluate_solution(solution[0], weight)\n",
    "\n",
    "        # check if generated solution is in tabu_list\n",
    "        if len(tabu_list) < tabu_length: tabu_list[cost] = solution[0] #add to tabu\n",
    "            \n",
    "        solution = list(solution[:-1])\n",
    "        solution.append(cost)\n",
    "        nests[nest] = solution #add to nests\n",
    "        \n",
    "#     create a cuckoo solution\n",
    "    cuckoo_solution, hard_sol, _ = nests[0]\n",
    "    cuckoo_solution = mutate_solution(hard_sol, new_category)\n",
    "    cuckoo_solution, cost, tabu_list = check_tabu(tabu_list, cuckoo_solution)\n",
    "    record[0] = cost\n",
    "    \n",
    "    idx_c_nest = np.random.choice(list(nests.keys()))\n",
    "    if cost > nests[idx_c_nest][-1]:\n",
    "        nests[idx_c_nest] = (cuckoo_solution, hard_sol, cost)\n",
    "        print(\"Iteration 0.... cuckoo solution replaces solution at nest {} with cost {}\".format(idx_c_nest+1, cost))\n",
    "        \n",
    "    for itr in range(num_itr):\n",
    "        cuckoo_solution = mutate_solution(hard_sol, new_category)\n",
    "        cuckoo_solution, cost, tabu_list = check_tabu(tabu_list, cuckoo_solution)\n",
    "        \n",
    "        idx_c_nest = np.random.choice(list(nests.keys()))\n",
    "        if cost > nests[idx_c_nest][-1]:\n",
    "            nests[idx_c_nest] = (cuckoo_solution, hard_sol, cost)\n",
    "            record[itr] = cost\n",
    "            print(\"Iteration {}.... cuckoo solution replaces solution at nest {} with cost {}\".format(itr, idx_c_nest+1, cost))\n",
    "            \n",
    "#         select the best solution within all nests\n",
    "    nests = {v[-1]:v[0] for k,v in nests.items()}\n",
    "    best_cost = min(list(nests.keys()))\n",
    "    best_solution = nests[best_cost]\n",
    "    \n",
    "    end_time = time.time()\n",
    "    print(\"\\n Time taken - {}seconds\".format(end_time-start_time))\n",
    "    return best_solution, record"
   ]
  },
  {
   "cell_type": "code",
   "execution_count": 8,
   "metadata": {},
   "outputs": [],
   "source": [
    "def generate_random_solution_HA(CA, HA_stat):\n",
    "    np.random.shuffle(CA)\n",
    "    generated = {}\n",
    "    CA_copy = CA.copy()\n",
    "    for hall in HA_stat:\n",
    "        candidates = []\n",
    "        for count in range(HA_stat[hall]):\n",
    "            student = np.random.choice(CA_copy)\n",
    "            candidates.append(student)\n",
    "            CA_copy.remove(student)\n",
    "        generated[hall] = candidates\n",
    "    \n",
    "    generated = list(generated.values())\n",
    "    \n",
    "    matrix_solution = []\n",
    "    for hall in generated:\n",
    "        solution = []\n",
    "        \n",
    "        frequency = Counter(hall) #count each category in each hall\n",
    "        for category in order:\n",
    "            solution.append(frequency[category]) #append count of each category in each hall\n",
    "        \n",
    "        matrix_solution.append(solution) # concatenate solutions of all categories in all halls together\n",
    "    \n",
    "#     transpose solution to allow rows represent each category and column represent each hall\n",
    "    matrix_solution = np.array(matrix_solution).transpose()\n",
    "    return matrix_solution"
   ]
  },
  {
   "cell_type": "code",
   "execution_count": 9,
   "metadata": {},
   "outputs": [],
   "source": [
    "def evaluate_solution_HA(solution, data):\n",
    "    solution = {i:j for i,j in zip(data, solution)}\n",
    "    cost = 0\n",
    "    for cat in solution: #loop through each category \n",
    "        proportion = data[cat] - (max(solution[cat]) - min(solution[cat]))\n",
    "        N = sum(solution[cat] > 0 ) #number of halls that have some students of i-th category\n",
    "        cost += proportion * N\n",
    "    return cost"
   ]
  },
  {
   "cell_type": "code",
   "execution_count": 10,
   "metadata": {},
   "outputs": [],
   "source": [
    "def levyFlight_HA(empty_space, CA):\n",
    "    \"\"\"this will allow us jump over long distances 10% of the time and ...\n",
    "    add all the next seven categories in front as the short distance search\"\"\"\n",
    "    space = empty_space\n",
    "    soft_constrait = []\n",
    "    while len(soft_constrait) < space:\n",
    "            \n",
    "        choice_idx = np.random.choice(empty_space)\n",
    "        picker = np.random.choice(np.linspace(0.1, 0.8, 8))\n",
    "        \n",
    "        if picker*empty_space < choice_idx <= ((picker+0.1)*empty_space): #10% probability\n",
    "            if choice_idx+3 > len(CA) and len(CA) > 3:\n",
    "                soft_constrait += CA[choice_idx-3:choice_idx]\n",
    "                del CA[choice_idx-3:choice_idx]\n",
    "                empty_space -= len(CA[choice_idx-3:choice_idx])\n",
    "            \n",
    "            elif len(CA) <= 3:\n",
    "                soft_constrait += CA[:]\n",
    "                del CA[:]\n",
    "                empty_space -= len(CA[:])\n",
    "                \n",
    "            else:\n",
    "                soft_constrait += CA[choice_idx:choice_idx+3]\n",
    "                del CA[choice_idx:choice_idx+3]\n",
    "                empty_space -= len(CA[choice_idx:choice_idx+3])\n",
    "        \n",
    "        elif choice_idx < len(CA):\n",
    "            soft_constrait.append(CA[choice_idx-1])\n",
    "            empty_space -= 1\n",
    "            CA.remove(CA[choice_idx-1])\n",
    "            \n",
    "    CA += soft_constrait[space:]  \n",
    "    soft_constrait = soft_constrait[:space]\n",
    "\n",
    "    return soft_constrait, CA"
   ]
  },
  {
   "cell_type": "code",
   "execution_count": 11,
   "metadata": {},
   "outputs": [],
   "source": [
    "def mutate_solution_HA(CA, HA_stat):\n",
    "    generated = {}\n",
    "    CA_copy = CA.copy()\n",
    "    for hall in HA_stat:\n",
    "        candidates, CA_copy = levyFlight_HA(HA_stat[hall], CA_copy)\n",
    "        generated[hall] = candidates        \n",
    "        \n",
    "    generated = list(generated.values())\n",
    "    \n",
    "    matrix_solution = []\n",
    "    for hall in generated:\n",
    "        solution = []\n",
    "        \n",
    "        frequency = Counter(hall) #count each category in each hall\n",
    "        for category in order:\n",
    "            solution.append(frequency[category]) #append count of each category in each hall\n",
    "        \n",
    "        matrix_solution.append(solution) # concatenate solutions of all categories in all halls together\n",
    "    \n",
    "#     transpose solution to allow rows represent each category and column represent each hall\n",
    "    matrix_solution = np.array(matrix_solution).transpose()\n",
    "    return matrix_solution"
   ]
  },
  {
   "cell_type": "code",
   "execution_count": 12,
   "metadata": {},
   "outputs": [],
   "source": [
    "def check_tabu_HA(tabu, solution):\n",
    "    tenure = 0\n",
    "    while solution.flatten().tolist() in [i.flatten().tolist() for i in tabu.values()] and tenure < tabu_tenure:\n",
    "        solution  = mutate_solution_HA(best_solution_CA, HA_data)\n",
    "        tenure += 1\n",
    "    \n",
    "    cost = evaluate_solution_HA(solution, best_solution_CA_dict)\n",
    "        \n",
    "    tabu_copy = tabu.copy()\n",
    "    for val in tabu.keys():\n",
    "        if cost > val:\n",
    "            del tabu_copy[val]\n",
    "            tabu_copy[cost] = solution\n",
    "            \n",
    "    return solution, cost, tabu_copy"
   ]
  },
  {
   "cell_type": "code",
   "execution_count": 13,
   "metadata": {},
   "outputs": [],
   "source": [
    "def cuckoo_tabu_HA(df, num_itr = 200, num_nests = 4, tabu_length = 2, tabu_tenure = 50):\n",
    "    start_time = time.time()\n",
    "\n",
    "    record = {}\n",
    "#     initialize tabu_list\n",
    "    tabu_list = {}\n",
    "    \n",
    "#     create nests and insert one solution in each\n",
    "    nests = { }\n",
    "    for nest in range(num_nests):\n",
    "        solution = generate_random_solution_HA(best_solution_CA, HA_data)\n",
    "        \n",
    "        tabu_tenure_c = 0\n",
    "        while solution.flatten().tolist() in [i.flatten().tolist() for i in tabu_list.values()] and tabu_tenure_c < tabu_tenure:            \n",
    "            solution = generate_random_solution_HA(best_solution_CA, HA_data)\n",
    "            tabu_tenure_c += 1\n",
    "\n",
    "        cost = evaluate_solution_HA(solution, best_solution_CA_dict)\n",
    "\n",
    "        # check if generated solution is in tabu_list\n",
    "        if len(tabu_list) < tabu_length: tabu_list[cost] = solution #add to tabu\n",
    "            \n",
    "        nests[nest] = (solution, cost) #add to nests\n",
    "        \n",
    "#     create a cuckoo solution\n",
    "    cuckoo_solution = mutate_solution_HA(best_solution_CA, HA_data)\n",
    "    cuckoo_solution, cost, tabu_list = check_tabu_HA(tabu_list, cuckoo_solution)\n",
    "    record[0] = cost\n",
    "    idx_c_nest = np.random.choice(list(nests.keys()))\n",
    "    if cost > nests[idx_c_nest][-1]:\n",
    "        nests[idx_c_nest] = (cuckoo_solution, cost)\n",
    "        print(\"Iteration 0.... cuckoo solution replaces solution at nest {} with cost {}\".format(idx_c_nest+1, cost))\n",
    "        \n",
    "    for itr in range(num_itr):\n",
    "        cuckoo_solution = mutate_solution_HA(best_solution_CA, HA_data)\n",
    "        cuckoo_solution, cost, tabu_list = check_tabu_HA(tabu_list, cuckoo_solution)\n",
    "            \n",
    "        idx_c_nest = np.random.choice(list(nests.keys()))\n",
    "        if cost > nests[idx_c_nest][-1]:\n",
    "            nests[idx_c_nest] = (cuckoo_solution, cost)\n",
    "            record[itr] = cost\n",
    "            print(\"Iteration {}.... cuckoo solution replaces solution at nest {} with cost {}\".format(itr, idx_c_nest+1, cost))\n",
    "                        \n",
    "#         select the best solution within all nests\n",
    "    nests = {v[-1]:v[0] for k,v in nests.items()}\n",
    "    best_cost = max(list(nests.keys()))\n",
    "    best_solution = nests[best_cost]\n",
    "    \n",
    "    end_time = time.time()\n",
    "    print(\"\\n Time taken - {}seconds\".format(end_time-start_time))\n",
    "    print(' Best Fitness value -', best_cost)\n",
    "    return best_solution, record"
   ]
  },
  {
   "cell_type": "markdown",
   "metadata": {},
   "source": [
    "## **Implementation - Male applicants**"
   ]
  },
  {
   "cell_type": "code",
   "execution_count": 14,
   "metadata": {},
   "outputs": [
    {
     "data": {
      "text/html": [
       "<div>\n",
       "<style scoped>\n",
       "    .dataframe tbody tr th:only-of-type {\n",
       "        vertical-align: middle;\n",
       "    }\n",
       "\n",
       "    .dataframe tbody tr th {\n",
       "        vertical-align: top;\n",
       "    }\n",
       "\n",
       "    .dataframe thead th {\n",
       "        text-align: right;\n",
       "    }\n",
       "</style>\n",
       "<table border=\"1\" class=\"dataframe\">\n",
       "  <thead>\n",
       "    <tr style=\"text-align: right;\">\n",
       "      <th></th>\n",
       "      <th>names</th>\n",
       "      <th>category</th>\n",
       "      <th>weight</th>\n",
       "    </tr>\n",
       "  </thead>\n",
       "  <tbody>\n",
       "    <tr>\n",
       "      <th>0</th>\n",
       "      <td>rqtttt</td>\n",
       "      <td>Ot</td>\n",
       "      <td>0.5</td>\n",
       "    </tr>\n",
       "    <tr>\n",
       "      <th>1</th>\n",
       "      <td>zhuztd</td>\n",
       "      <td>Ot</td>\n",
       "      <td>0.5</td>\n",
       "    </tr>\n",
       "    <tr>\n",
       "      <th>2</th>\n",
       "      <td>hqxfqg</td>\n",
       "      <td>Ot</td>\n",
       "      <td>0.5</td>\n",
       "    </tr>\n",
       "    <tr>\n",
       "      <th>3</th>\n",
       "      <td>sanjtt</td>\n",
       "      <td>Fy</td>\n",
       "      <td>0.5</td>\n",
       "    </tr>\n",
       "    <tr>\n",
       "      <th>4</th>\n",
       "      <td>mjbgpk</td>\n",
       "      <td>Ot</td>\n",
       "      <td>0.5</td>\n",
       "    </tr>\n",
       "  </tbody>\n",
       "</table>\n",
       "</div>"
      ],
      "text/plain": [
       "    names category  weight\n",
       "0  rqtttt       Ot     0.5\n",
       "1  zhuztd       Ot     0.5\n",
       "2  hqxfqg       Ot     0.5\n",
       "3  sanjtt       Fy     0.5\n",
       "4  mjbgpk       Ot     0.5"
      ]
     },
     "execution_count": 14,
     "metadata": {},
     "output_type": "execute_result"
    }
   ],
   "source": [
    "# Read in data\n",
    "male_df = pd.read_csv('male_applicants.csv')\n",
    "male_df.head()"
   ]
  },
  {
   "cell_type": "code",
   "execution_count": 15,
   "metadata": {},
   "outputs": [
    {
     "name": "stdout",
     "output_type": "stream",
     "text": [
      "{'Fy': 0.8072015877516303, 'Fr': 0.7646725262262546, 'Ht': 1, 'Sp': 0.9588885738588036, 'St': 1, 'Ot': 0.47037142047065494}\n"
     ]
    }
   ],
   "source": [
    "#this represents the amount of student that applied for each category\n",
    "male_data = {'Fy': 1360, 'Fr':1660, 'Ht':60, 'Sp':290, 'St':260, 'Ot':3736} \n",
    "\n",
    "#total amount of students that can be taken by all male hostels\n",
    "total = 2072 \n",
    "\n",
    "#total amount of students that belong to the soft constrait group\n",
    "soft_constr_weight = 1368 + 1660 + 290 + 3736 \n",
    "\n",
    "#weight the population of the soft constrait group based the amount of people that applied\n",
    "weight = {'Fy': 1 - (1360/soft_constr_weight), 'Fr': 1-(1660/soft_constr_weight), 'Ht':1, 'Sp':1- (290/soft_constr_weight), 'St':1, 'Ot': 1- (3736/soft_constr_weight)}\n",
    "print(weight)"
   ]
  },
  {
   "cell_type": "code",
   "execution_count": 16,
   "metadata": {},
   "outputs": [],
   "source": [
    "#amount of students that can be allocated to each male hostel\n",
    "HA_data = {'Akindeko': 625, 'Abiola':356, 'Adeniyi':195, 'New Male Hostel':792, 'Bisi Balogun':104}\n",
    "order = ['Fy','Fr','Ht','Sp','St','Ot']"
   ]
  },
  {
   "cell_type": "markdown",
   "metadata": {},
   "source": [
    "#### **Generate a random solution - Category Allocation (CA): MALE APPLICANTS**"
   ]
  },
  {
   "cell_type": "code",
   "execution_count": 17,
   "metadata": {},
   "outputs": [
    {
     "data": {
      "text/html": [
       "<div>\n",
       "<style scoped>\n",
       "    .dataframe tbody tr th:only-of-type {\n",
       "        vertical-align: middle;\n",
       "    }\n",
       "\n",
       "    .dataframe tbody tr th {\n",
       "        vertical-align: top;\n",
       "    }\n",
       "\n",
       "    .dataframe thead th {\n",
       "        text-align: right;\n",
       "    }\n",
       "</style>\n",
       "<table border=\"1\" class=\"dataframe\">\n",
       "  <thead>\n",
       "    <tr style=\"text-align: right;\">\n",
       "      <th></th>\n",
       "      <th>St</th>\n",
       "      <th>Ht</th>\n",
       "      <th>Ot</th>\n",
       "      <th>Fy</th>\n",
       "      <th>Fr</th>\n",
       "      <th>Sp</th>\n",
       "    </tr>\n",
       "  </thead>\n",
       "  <tbody>\n",
       "    <tr>\n",
       "      <th>0</th>\n",
       "      <td>260</td>\n",
       "      <td>60</td>\n",
       "      <td>915</td>\n",
       "      <td>335</td>\n",
       "      <td>433</td>\n",
       "      <td>69</td>\n",
       "    </tr>\n",
       "  </tbody>\n",
       "</table>\n",
       "</div>"
      ],
      "text/plain": [
       "    St  Ht   Ot   Fy   Fr  Sp\n",
       "0  260  60  915  335  433  69"
      ]
     },
     "execution_count": 17,
     "metadata": {},
     "output_type": "execute_result"
    }
   ],
   "source": [
    "solution, _ , _= generate_random_solution(male_df)\n",
    "frequency = Counter(solution)\n",
    "\n",
    "show = pd.DataFrame()\n",
    "for i in frequency: show[i] = [frequency[i]]\n",
    "show.head()"
   ]
  },
  {
   "cell_type": "markdown",
   "metadata": {},
   "source": [
    "#### **HHybridized Cuckoo_Tabu optimized solution - Category Allocation (CA) MALE APPLICANTS**"
   ]
  },
  {
   "cell_type": "code",
   "execution_count": 24,
   "metadata": {},
   "outputs": [
    {
     "name": "stdout",
     "output_type": "stream",
     "text": [
      "Iteration 0.... cuckoo solution replaces solution at nest 1 with cost 712932.8786504266\n",
      "Iteration 0.... cuckoo solution replaces solution at nest 3 with cost 716266.8661752259\n",
      "Iteration 2.... cuckoo solution replaces solution at nest 1 with cost 725157.6932236922\n",
      "Iteration 3.... cuckoo solution replaces solution at nest 4 with cost 722665.1930819363\n",
      "Iteration 4.... cuckoo solution replaces solution at nest 2 with cost 723094.3717040122\n",
      "Iteration 7.... cuckoo solution replaces solution at nest 4 with cost 723104.104054447\n",
      "Iteration 16.... cuckoo solution replaces solution at nest 3 with cost 725148.798412256\n",
      "Iteration 21.... cuckoo solution replaces solution at nest 1 with cost 730040.669123886\n",
      "Iteration 23.... cuckoo solution replaces solution at nest 4 with cost 726012.494754761\n",
      "Iteration 24.... cuckoo solution replaces solution at nest 4 with cost 727753.3853132811\n",
      "Iteration 26.... cuckoo solution replaces solution at nest 2 with cost 726939.051034876\n",
      "Iteration 34.... cuckoo solution replaces solution at nest 4 with cost 732175.1134108542\n",
      "Iteration 45.... cuckoo solution replaces solution at nest 3 with cost 726011.5602495214\n",
      "Iteration 50.... cuckoo solution replaces solution at nest 4 with cost 734583.1996030613\n",
      "Iteration 56.... cuckoo solution replaces solution at nest 2 with cost 732186.9279841273\n",
      "Iteration 61.... cuckoo solution replaces solution at nest 1 with cost 732326.5917209968\n",
      "Iteration 80.... cuckoo solution replaces solution at nest 3 with cost 726221.859654113\n",
      "Iteration 84.... cuckoo solution replaces solution at nest 2 with cost 739801.0391267226\n",
      "Iteration 86.... cuckoo solution replaces solution at nest 3 with cost 727861.8236461482\n",
      "Iteration 93.... cuckoo solution replaces solution at nest 4 with cost 739480.3107456672\n",
      "Iteration 102.... cuckoo solution replaces solution at nest 3 with cost 730167.5554295477\n",
      "Iteration 113.... cuckoo solution replaces solution at nest 1 with cost 733322.8103203857\n",
      "Iteration 132.... cuckoo solution replaces solution at nest 4 with cost 743448.4780266572\n",
      "Iteration 140.... cuckoo solution replaces solution at nest 3 with cost 732354.4958888717\n",
      "Iteration 154.... cuckoo solution replaces solution at nest 1 with cost 741969.5358661794\n",
      "Iteration 171.... cuckoo solution replaces solution at nest 3 with cost 743326.5131839935\n",
      "\n",
      " Time taken - 23.93868637084961seconds\n"
     ]
    },
    {
     "data": {
      "text/html": [
       "<div>\n",
       "<style scoped>\n",
       "    .dataframe tbody tr th:only-of-type {\n",
       "        vertical-align: middle;\n",
       "    }\n",
       "\n",
       "    .dataframe tbody tr th {\n",
       "        vertical-align: top;\n",
       "    }\n",
       "\n",
       "    .dataframe thead th {\n",
       "        text-align: right;\n",
       "    }\n",
       "</style>\n",
       "<table border=\"1\" class=\"dataframe\">\n",
       "  <thead>\n",
       "    <tr style=\"text-align: right;\">\n",
       "      <th></th>\n",
       "      <th>St</th>\n",
       "      <th>Ht</th>\n",
       "      <th>Ot</th>\n",
       "      <th>Fy</th>\n",
       "      <th>Fr</th>\n",
       "      <th>Sp</th>\n",
       "    </tr>\n",
       "  </thead>\n",
       "  <tbody>\n",
       "    <tr>\n",
       "      <th>0</th>\n",
       "      <td>260</td>\n",
       "      <td>60</td>\n",
       "      <td>985</td>\n",
       "      <td>313</td>\n",
       "      <td>415</td>\n",
       "      <td>39</td>\n",
       "    </tr>\n",
       "  </tbody>\n",
       "</table>\n",
       "</div>"
      ],
      "text/plain": [
       "    St  Ht   Ot   Fy   Fr  Sp\n",
       "0  260  60  985  313  415  39"
      ]
     },
     "execution_count": 24,
     "metadata": {},
     "output_type": "execute_result"
    }
   ],
   "source": [
    "best_solution_CA, graph = cuckoo_tabu_CA(male_df)\n",
    "\n",
    "frequency = Counter(best_solution_CA)\n",
    "\n",
    "best_solution_CA_dict = {i:j for i,j in frequency.items()}\n",
    "\n",
    "show = pd.DataFrame()\n",
    "for i in frequency: show[i] = [frequency[i]]\n",
    "show.head()"
   ]
  },
  {
   "cell_type": "code",
   "execution_count": 25,
   "metadata": {},
   "outputs": [
    {
     "data": {
      "image/png": "[encoded data removed]",
      "text/plain": [
       "<Figure size 540x360 with 1 Axes>"
      ]
     },
     "metadata": {
      "needs_background": "light"
     },
     "output_type": "display_data"
    }
   ],
   "source": [
    "plt.figure(dpi = 90)\n",
    "plt.title(\"Frequency value  VS  Number of iteration\")\n",
    "plt.xlabel('Number of Iterations')\n",
    "plt.ylabel('Fitness value')\n",
    "plt.plot(list(graph.keys()), list(graph.values()))\n",
    "plt.show()"
   ]
  },
  {
   "cell_type": "markdown",
   "metadata": {},
   "source": [
    "#### **Generate a random solution- Hall Allocation (HA) MALE APPLICANTS**"
   ]
  },
  {
   "cell_type": "code",
   "execution_count": 26,
   "metadata": {},
   "outputs": [
    {
     "data": {
      "text/html": [
       "<div>\n",
       "<style scoped>\n",
       "    .dataframe tbody tr th:only-of-type {\n",
       "        vertical-align: middle;\n",
       "    }\n",
       "\n",
       "    .dataframe tbody tr th {\n",
       "        vertical-align: top;\n",
       "    }\n",
       "\n",
       "    .dataframe thead th {\n",
       "        text-align: right;\n",
       "    }\n",
       "</style>\n",
       "<table border=\"1\" class=\"dataframe\">\n",
       "  <thead>\n",
       "    <tr style=\"text-align: right;\">\n",
       "      <th></th>\n",
       "      <th>Akindeko</th>\n",
       "      <th>Abiola</th>\n",
       "      <th>Adeniyi</th>\n",
       "      <th>New Male Hostel</th>\n",
       "      <th>Bisi Balogun</th>\n",
       "    </tr>\n",
       "  </thead>\n",
       "  <tbody>\n",
       "    <tr>\n",
       "      <th>Fy</th>\n",
       "      <td>97</td>\n",
       "      <td>56</td>\n",
       "      <td>32</td>\n",
       "      <td>114</td>\n",
       "      <td>14</td>\n",
       "    </tr>\n",
       "    <tr>\n",
       "      <th>Fr</th>\n",
       "      <td>132</td>\n",
       "      <td>78</td>\n",
       "      <td>35</td>\n",
       "      <td>151</td>\n",
       "      <td>19</td>\n",
       "    </tr>\n",
       "    <tr>\n",
       "      <th>Ht</th>\n",
       "      <td>13</td>\n",
       "      <td>9</td>\n",
       "      <td>11</td>\n",
       "      <td>24</td>\n",
       "      <td>3</td>\n",
       "    </tr>\n",
       "    <tr>\n",
       "      <th>Sp</th>\n",
       "      <td>14</td>\n",
       "      <td>5</td>\n",
       "      <td>2</td>\n",
       "      <td>17</td>\n",
       "      <td>1</td>\n",
       "    </tr>\n",
       "    <tr>\n",
       "      <th>St</th>\n",
       "      <td>70</td>\n",
       "      <td>51</td>\n",
       "      <td>25</td>\n",
       "      <td>104</td>\n",
       "      <td>10</td>\n",
       "    </tr>\n",
       "    <tr>\n",
       "      <th>Ot</th>\n",
       "      <td>299</td>\n",
       "      <td>157</td>\n",
       "      <td>90</td>\n",
       "      <td>382</td>\n",
       "      <td>57</td>\n",
       "    </tr>\n",
       "  </tbody>\n",
       "</table>\n",
       "</div>"
      ],
      "text/plain": [
       "    Akindeko  Abiola  Adeniyi  New Male Hostel  Bisi Balogun\n",
       "Fy        97      56       32              114            14\n",
       "Fr       132      78       35              151            19\n",
       "Ht        13       9       11               24             3\n",
       "Sp        14       5        2               17             1\n",
       "St        70      51       25              104            10\n",
       "Ot       299     157       90              382            57"
      ]
     },
     "execution_count": 26,
     "metadata": {},
     "output_type": "execute_result"
    }
   ],
   "source": [
    "solution_HA = generate_random_solution_HA(best_solution_CA, HA_data)\n",
    "\n",
    "show = pd.DataFrame(solution_HA,\n",
    "                    columns = ['Akindeko', 'Abiola', 'Adeniyi', 'New Male Hostel', 'Bisi Balogun'],\n",
    "                    index = ['Fy','Fr','Ht','Sp','St','Ot'])\n",
    "\n",
    "show"
   ]
  },
  {
   "cell_type": "markdown",
   "metadata": {},
   "source": [
    "#### **Hybridized Cuckoo_Tabu optimized solution- Hall Allocation (HA) MALE APPLICANTS**"
   ]
  },
  {
   "cell_type": "code",
   "execution_count": 31,
   "metadata": {},
   "outputs": [
    {
     "name": "stdout",
     "output_type": "stream",
     "text": [
      "Iteration 2.... cuckoo solution replaces solution at nest 4 with cost 6920\n",
      "Iteration 5.... cuckoo solution replaces solution at nest 1 with cost 6920\n",
      "\n",
      " Time taken - 32.932154178619385seconds\n",
      " Best Fitness value - 6920\n"
     ]
    },
    {
     "data": {
      "text/html": [
       "<div>\n",
       "<style scoped>\n",
       "    .dataframe tbody tr th:only-of-type {\n",
       "        vertical-align: middle;\n",
       "    }\n",
       "\n",
       "    .dataframe tbody tr th {\n",
       "        vertical-align: top;\n",
       "    }\n",
       "\n",
       "    .dataframe thead th {\n",
       "        text-align: right;\n",
       "    }\n",
       "</style>\n",
       "<table border=\"1\" class=\"dataframe\">\n",
       "  <thead>\n",
       "    <tr style=\"text-align: right;\">\n",
       "      <th></th>\n",
       "      <th>Akindeko</th>\n",
       "      <th>Abiola</th>\n",
       "      <th>Adeniyi</th>\n",
       "      <th>New Male Hostel</th>\n",
       "      <th>Bisi Balogun</th>\n",
       "    </tr>\n",
       "  </thead>\n",
       "  <tbody>\n",
       "    <tr>\n",
       "      <th>Fy</th>\n",
       "      <td>97</td>\n",
       "      <td>48</td>\n",
       "      <td>29</td>\n",
       "      <td>124</td>\n",
       "      <td>15</td>\n",
       "    </tr>\n",
       "    <tr>\n",
       "      <th>Fr</th>\n",
       "      <td>127</td>\n",
       "      <td>62</td>\n",
       "      <td>47</td>\n",
       "      <td>161</td>\n",
       "      <td>18</td>\n",
       "    </tr>\n",
       "    <tr>\n",
       "      <th>Ht</th>\n",
       "      <td>22</td>\n",
       "      <td>8</td>\n",
       "      <td>4</td>\n",
       "      <td>22</td>\n",
       "      <td>4</td>\n",
       "    </tr>\n",
       "    <tr>\n",
       "      <th>Sp</th>\n",
       "      <td>8</td>\n",
       "      <td>7</td>\n",
       "      <td>5</td>\n",
       "      <td>14</td>\n",
       "      <td>5</td>\n",
       "    </tr>\n",
       "    <tr>\n",
       "      <th>St</th>\n",
       "      <td>65</td>\n",
       "      <td>39</td>\n",
       "      <td>28</td>\n",
       "      <td>116</td>\n",
       "      <td>12</td>\n",
       "    </tr>\n",
       "    <tr>\n",
       "      <th>Ot</th>\n",
       "      <td>306</td>\n",
       "      <td>192</td>\n",
       "      <td>82</td>\n",
       "      <td>355</td>\n",
       "      <td>50</td>\n",
       "    </tr>\n",
       "  </tbody>\n",
       "</table>\n",
       "</div>"
      ],
      "text/plain": [
       "    Akindeko  Abiola  Adeniyi  New Male Hostel  Bisi Balogun\n",
       "Fy        97      48       29              124            15\n",
       "Fr       127      62       47              161            18\n",
       "Ht        22       8        4               22             4\n",
       "Sp         8       7        5               14             5\n",
       "St        65      39       28              116            12\n",
       "Ot       306     192       82              355            50"
      ]
     },
     "execution_count": 31,
     "metadata": {},
     "output_type": "execute_result"
    }
   ],
   "source": [
    "result, graph = cuckoo_tabu_HA(200) \n",
    "show = pd.DataFrame(result,\n",
    "                    columns = ['Akindeko', 'Abiola', 'Adeniyi', 'New Male Hostel', 'Bisi Balogun'],\n",
    "                    index = ['Fy','Fr','Ht','Sp','St','Ot'])\n",
    "\n",
    "show"
   ]
  },
  {
   "cell_type": "code",
   "execution_count": 32,
   "metadata": {},
   "outputs": [
    {
     "data": {
      "image/png": "[encoded data removed]",
      "text/plain": [
       "<Figure size 540x360 with 1 Axes>"
      ]
     },
     "metadata": {
      "needs_background": "light"
     },
     "output_type": "display_data"
    }
   ],
   "source": [
    "plt.figure(dpi = 90)\n",
    "plt.title(\"Frequency value  VS  Number of iteration\")\n",
    "plt.xlabel('Number of Iterations')\n",
    "plt.ylabel('Fitness value')\n",
    "plt.plot(list(graph.keys()), list(graph.values()))\n",
    "plt.show()"
   ]
  },
  {
   "cell_type": "code",
   "execution_count": null,
   "metadata": {},
   "outputs": [],
   "source": []
  },
  {
   "cell_type": "markdown",
   "metadata": {},
   "source": [
    "## **Implementation - Female applicants**"
   ]
  },
  {
   "cell_type": "code",
   "execution_count": 33,
   "metadata": {},
   "outputs": [
    {
     "data": {
      "text/html": [
       "<div>\n",
       "<style scoped>\n",
       "    .dataframe tbody tr th:only-of-type {\n",
       "        vertical-align: middle;\n",
       "    }\n",
       "\n",
       "    .dataframe tbody tr th {\n",
       "        vertical-align: top;\n",
       "    }\n",
       "\n",
       "    .dataframe thead th {\n",
       "        text-align: right;\n",
       "    }\n",
       "</style>\n",
       "<table border=\"1\" class=\"dataframe\">\n",
       "  <thead>\n",
       "    <tr style=\"text-align: right;\">\n",
       "      <th></th>\n",
       "      <th>names</th>\n",
       "      <th>category</th>\n",
       "    </tr>\n",
       "  </thead>\n",
       "  <tbody>\n",
       "    <tr>\n",
       "      <th>0</th>\n",
       "      <td>ymguns</td>\n",
       "      <td>Fy</td>\n",
       "    </tr>\n",
       "    <tr>\n",
       "      <th>1</th>\n",
       "      <td>xhvcdk</td>\n",
       "      <td>Fy</td>\n",
       "    </tr>\n",
       "    <tr>\n",
       "      <th>2</th>\n",
       "      <td>vdnszo</td>\n",
       "      <td>Ot</td>\n",
       "    </tr>\n",
       "    <tr>\n",
       "      <th>3</th>\n",
       "      <td>vbcnxs</td>\n",
       "      <td>Ot</td>\n",
       "    </tr>\n",
       "    <tr>\n",
       "      <th>4</th>\n",
       "      <td>wcdduo</td>\n",
       "      <td>Ot</td>\n",
       "    </tr>\n",
       "  </tbody>\n",
       "</table>\n",
       "</div>"
      ],
      "text/plain": [
       "    names category\n",
       "0  ymguns       Fy\n",
       "1  xhvcdk       Fy\n",
       "2  vdnszo       Ot\n",
       "3  vbcnxs       Ot\n",
       "4  wcdduo       Ot"
      ]
     },
     "execution_count": 33,
     "metadata": {},
     "output_type": "execute_result"
    }
   ],
   "source": [
    "# Read in data\n",
    "female_df = pd.read_csv('female_applicants.csv')\n",
    "female_df.head()"
   ]
  },
  {
   "cell_type": "code",
   "execution_count": 34,
   "metadata": {},
   "outputs": [
    {
     "name": "stdout",
     "output_type": "stream",
     "text": [
      "{'Fy': 0.7246474143720618, 'Fr': 0.6783075889858965, 'Ht': 1, 'Sp': 0.9731363331094695, 'St': 1, 'Ot': 0.6239086635325721}\n"
     ]
    }
   ],
   "source": [
    "#this represents the amount of student that applied for each category\n",
    "female_data = {'Fy': 820, 'Fr':958, 'Ht':56, 'Sp':80, 'St':100, 'Ot':1120} \n",
    "\n",
    "#total amount of students that can be taken by all female hostels\n",
    "total = 1593\n",
    "\n",
    "#total amount of students that belong to the soft constrait group\n",
    "soft_constr_weight = 820 + 958 + 80 + 1120 \n",
    "\n",
    "#weight the population of the soft constrait group based the amount of people that applied\n",
    "weight = {'Fy': 1 - (820/soft_constr_weight), 'Fr': 1-(958/soft_constr_weight), 'Ht':1, 'Sp':1- (80/soft_constr_weight), 'St':1, 'Ot': 1- (1120/soft_constr_weight)}\n",
    "print(weight)"
   ]
  },
  {
   "cell_type": "code",
   "execution_count": 35,
   "metadata": {},
   "outputs": [],
   "source": [
    "#amount of students that can be allocated to each male hostel\n",
    "HA_data = {'New Female Hostel': 792, 'Jadesola':229, 'Jibowu(Main)':332, 'Jibowu Annex 1':80, 'Jibowu Annex 2':80,'Jibowu Annex 3':80}\n",
    "order = ['Fy','Fr','Ht','Sp','St','Ot']"
   ]
  },
  {
   "cell_type": "markdown",
   "metadata": {},
   "source": [
    "#### **Generate a random solution - Category Allocation (CA): FEMALE APPLICANTS**"
   ]
  },
  {
   "cell_type": "code",
   "execution_count": 36,
   "metadata": {},
   "outputs": [
    {
     "data": {
      "text/html": [
       "<div>\n",
       "<style scoped>\n",
       "    .dataframe tbody tr th:only-of-type {\n",
       "        vertical-align: middle;\n",
       "    }\n",
       "\n",
       "    .dataframe tbody tr th {\n",
       "        vertical-align: top;\n",
       "    }\n",
       "\n",
       "    .dataframe thead th {\n",
       "        text-align: right;\n",
       "    }\n",
       "</style>\n",
       "<table border=\"1\" class=\"dataframe\">\n",
       "  <thead>\n",
       "    <tr style=\"text-align: right;\">\n",
       "      <th></th>\n",
       "      <th>Ht</th>\n",
       "      <th>St</th>\n",
       "      <th>Ot</th>\n",
       "      <th>Sp</th>\n",
       "      <th>Fr</th>\n",
       "      <th>Fy</th>\n",
       "    </tr>\n",
       "  </thead>\n",
       "  <tbody>\n",
       "    <tr>\n",
       "      <th>0</th>\n",
       "      <td>56</td>\n",
       "      <td>100</td>\n",
       "      <td>547</td>\n",
       "      <td>33</td>\n",
       "      <td>456</td>\n",
       "      <td>401</td>\n",
       "    </tr>\n",
       "  </tbody>\n",
       "</table>\n",
       "</div>"
      ],
      "text/plain": [
       "   Ht   St   Ot  Sp   Fr   Fy\n",
       "0  56  100  547  33  456  401"
      ]
     },
     "execution_count": 36,
     "metadata": {},
     "output_type": "execute_result"
    }
   ],
   "source": [
    "solution, _ , _= generate_random_solution(female_df)\n",
    "frequency = Counter(solution)\n",
    "\n",
    "show = pd.DataFrame()\n",
    "for i in frequency: show[i] = [frequency[i]]\n",
    "show.head()"
   ]
  },
  {
   "cell_type": "markdown",
   "metadata": {},
   "source": [
    "#### **Hybridized Cuckoo_Tabu optimized solution - Category Allocation (CA) FEMALE APPLICANTS**"
   ]
  },
  {
   "cell_type": "code",
   "execution_count": 39,
   "metadata": {},
   "outputs": [
    {
     "name": "stdout",
     "output_type": "stream",
     "text": [
      "Iteration 0.... cuckoo solution replaces solution at nest 3 with cost 454067.4775016873\n",
      "Iteration 0.... cuckoo solution replaces solution at nest 2 with cost 461487.550033578\n",
      "Iteration 1.... cuckoo solution replaces solution at nest 3 with cost 461247.4022834057\n",
      "Iteration 2.... cuckoo solution replaces solution at nest 1 with cost 467429.5204835469\n",
      "Iteration 3.... cuckoo solution replaces solution at nest 3 with cost 464764.1282740129\n",
      "Iteration 4.... cuckoo solution replaces solution at nest 2 with cost 462197.4479516525\n",
      "Iteration 5.... cuckoo solution replaces solution at nest 4 with cost 464257.5513767724\n",
      "Iteration 14.... cuckoo solution replaces solution at nest 2 with cost 463777.2955003379\n",
      "Iteration 38.... cuckoo solution replaces solution at nest 4 with cost 466798.5413028922\n",
      "Iteration 41.... cuckoo solution replaces solution at nest 3 with cost 464831.0879784985\n",
      "Iteration 74.... cuckoo solution replaces solution at nest 3 with cost 466366.8509066509\n",
      "Iteration 78.... cuckoo solution replaces solution at nest 2 with cost 464881.7112155817\n",
      "Iteration 146.... cuckoo solution replaces solution at nest 4 with cost 468097.755540632\n",
      "Iteration 160.... cuckoo solution replaces solution at nest 2 with cost 465240.8159838813\n",
      "Iteration 174.... cuckoo solution replaces solution at nest 2 with cost 466233.7394224458\n",
      "Iteration 185.... cuckoo solution replaces solution at nest 2 with cost 467212.39556750417\n",
      "Iteration 186.... cuckoo solution replaces solution at nest 2 with cost 470589.1893888474\n",
      "Iteration 190.... cuckoo solution replaces solution at nest 1 with cost 468091.8858294129\n",
      "\n",
      " Time taken - 17.933655261993408seconds\n"
     ]
    },
    {
     "data": {
      "text/html": [
       "<div>\n",
       "<style scoped>\n",
       "    .dataframe tbody tr th:only-of-type {\n",
       "        vertical-align: middle;\n",
       "    }\n",
       "\n",
       "    .dataframe tbody tr th {\n",
       "        vertical-align: top;\n",
       "    }\n",
       "\n",
       "    .dataframe thead th {\n",
       "        text-align: right;\n",
       "    }\n",
       "</style>\n",
       "<table border=\"1\" class=\"dataframe\">\n",
       "  <thead>\n",
       "    <tr style=\"text-align: right;\">\n",
       "      <th></th>\n",
       "      <th>St</th>\n",
       "      <th>Ht</th>\n",
       "      <th>Ot</th>\n",
       "      <th>Sp</th>\n",
       "      <th>Fy</th>\n",
       "      <th>Fr</th>\n",
       "    </tr>\n",
       "  </thead>\n",
       "  <tbody>\n",
       "    <tr>\n",
       "      <th>0</th>\n",
       "      <td>100</td>\n",
       "      <td>56</td>\n",
       "      <td>556</td>\n",
       "      <td>31</td>\n",
       "      <td>344</td>\n",
       "      <td>506</td>\n",
       "    </tr>\n",
       "  </tbody>\n",
       "</table>\n",
       "</div>"
      ],
      "text/plain": [
       "    St  Ht   Ot  Sp   Fy   Fr\n",
       "0  100  56  556  31  344  506"
      ]
     },
     "execution_count": 39,
     "metadata": {},
     "output_type": "execute_result"
    }
   ],
   "source": [
    "best_solution_CA, graph = cuckoo_tabu_CA(female_df)\n",
    "\n",
    "frequency = Counter(best_solution_CA)\n",
    "\n",
    "best_solution_CA_dict = {i:j for i,j in frequency.items()}\n",
    "\n",
    "show = pd.DataFrame()\n",
    "for i in frequency: show[i] = [frequency[i]]\n",
    "show.head()"
   ]
  },
  {
   "cell_type": "code",
   "execution_count": 40,
   "metadata": {},
   "outputs": [
    {
     "data": {
      "image/png": "[encoded data removed]",
      "text/plain": [
       "<Figure size 540x360 with 1 Axes>"
      ]
     },
     "metadata": {
      "needs_background": "light"
     },
     "output_type": "display_data"
    }
   ],
   "source": [
    "plt.figure(dpi = 90)\n",
    "plt.title(\"Category Allocation (Female) -  Cuckoo_Tabu(HU)\")\n",
    "plt.xlabel('Number of Iterations')\n",
    "plt.ylabel('Fitness value')\n",
    "plt.plot(list(graph.keys()), list(graph.values()))\n",
    "plt.show()"
   ]
  },
  {
   "cell_type": "markdown",
   "metadata": {},
   "source": [
    "#### **Hybridized Cuckoo_Tabu optimized solution- Hall Allocation (HA) FEMALE APPLICANTS**"
   ]
  },
  {
   "cell_type": "code",
   "execution_count": 43,
   "metadata": {},
   "outputs": [
    {
     "name": "stdout",
     "output_type": "stream",
     "text": [
      "Iteration 1.... cuckoo solution replaces solution at nest 3 with cost 5190\n",
      "Iteration 5.... cuckoo solution replaces solution at nest 3 with cost 5202\n",
      "Iteration 9.... cuckoo solution replaces solution at nest 4 with cost 5202\n",
      "Iteration 12.... cuckoo solution replaces solution at nest 1 with cost 5220\n",
      "Iteration 17.... cuckoo solution replaces solution at nest 3 with cost 5232\n",
      "Iteration 26.... cuckoo solution replaces solution at nest 4 with cost 5208\n",
      "Iteration 30.... cuckoo solution replaces solution at nest 4 with cost 5226\n",
      "Iteration 43.... cuckoo solution replaces solution at nest 2 with cost 5226\n",
      "\n",
      " Time taken - 26.0325288772583seconds\n",
      " Best Fitness value - 5232\n"
     ]
    },
    {
     "data": {
      "text/html": [
       "<div>\n",
       "<style scoped>\n",
       "    .dataframe tbody tr th:only-of-type {\n",
       "        vertical-align: middle;\n",
       "    }\n",
       "\n",
       "    .dataframe tbody tr th {\n",
       "        vertical-align: top;\n",
       "    }\n",
       "\n",
       "    .dataframe thead th {\n",
       "        text-align: right;\n",
       "    }\n",
       "</style>\n",
       "<table border=\"1\" class=\"dataframe\">\n",
       "  <thead>\n",
       "    <tr style=\"text-align: right;\">\n",
       "      <th></th>\n",
       "      <th>New Female Hostel</th>\n",
       "      <th>Jadesola</th>\n",
       "      <th>Jibowu(Main)</th>\n",
       "      <th>Jibowu Annex 1</th>\n",
       "      <th>Jibowu Annex 2</th>\n",
       "      <th>Jibowu Annex 3</th>\n",
       "    </tr>\n",
       "  </thead>\n",
       "  <tbody>\n",
       "    <tr>\n",
       "      <th>Fy</th>\n",
       "      <td>176</td>\n",
       "      <td>55</td>\n",
       "      <td>71</td>\n",
       "      <td>17</td>\n",
       "      <td>15</td>\n",
       "      <td>10</td>\n",
       "    </tr>\n",
       "    <tr>\n",
       "      <th>Fr</th>\n",
       "      <td>233</td>\n",
       "      <td>81</td>\n",
       "      <td>101</td>\n",
       "      <td>28</td>\n",
       "      <td>31</td>\n",
       "      <td>32</td>\n",
       "    </tr>\n",
       "    <tr>\n",
       "      <th>Ht</th>\n",
       "      <td>25</td>\n",
       "      <td>8</td>\n",
       "      <td>14</td>\n",
       "      <td>3</td>\n",
       "      <td>3</td>\n",
       "      <td>3</td>\n",
       "    </tr>\n",
       "    <tr>\n",
       "      <th>Sp</th>\n",
       "      <td>17</td>\n",
       "      <td>5</td>\n",
       "      <td>4</td>\n",
       "      <td>3</td>\n",
       "      <td>1</td>\n",
       "      <td>1</td>\n",
       "    </tr>\n",
       "    <tr>\n",
       "      <th>St</th>\n",
       "      <td>52</td>\n",
       "      <td>11</td>\n",
       "      <td>24</td>\n",
       "      <td>4</td>\n",
       "      <td>4</td>\n",
       "      <td>5</td>\n",
       "    </tr>\n",
       "    <tr>\n",
       "      <th>Ot</th>\n",
       "      <td>289</td>\n",
       "      <td>69</td>\n",
       "      <td>118</td>\n",
       "      <td>25</td>\n",
       "      <td>26</td>\n",
       "      <td>29</td>\n",
       "    </tr>\n",
       "  </tbody>\n",
       "</table>\n",
       "</div>"
      ],
      "text/plain": [
       "    New Female Hostel  Jadesola  Jibowu(Main)  Jibowu Annex 1  Jibowu Annex 2  \\\n",
       "Fy                176        55            71              17              15   \n",
       "Fr                233        81           101              28              31   \n",
       "Ht                 25         8            14               3               3   \n",
       "Sp                 17         5             4               3               1   \n",
       "St                 52        11            24               4               4   \n",
       "Ot                289        69           118              25              26   \n",
       "\n",
       "    Jibowu Annex 3  \n",
       "Fy              10  \n",
       "Fr              32  \n",
       "Ht               3  \n",
       "Sp               1  \n",
       "St               5  \n",
       "Ot              29  "
      ]
     },
     "execution_count": 43,
     "metadata": {},
     "output_type": "execute_result"
    }
   ],
   "source": [
    "result, graph = cuckoo_tabu_HA(200) \n",
    "show = pd.DataFrame(result,\n",
    "                    columns = ['New Female Hostel', 'Jadesola', 'Jibowu(Main)', 'Jibowu Annex 1', 'Jibowu Annex 2','Jibowu Annex 3'],\n",
    "                    index = ['Fy','Fr','Ht','Sp','St','Ot'])\n",
    "\n",
    "show"
   ]
  },
  {
   "cell_type": "code",
   "execution_count": 45,
   "metadata": {},
   "outputs": [
    {
     "data": {
      "image/png": "[encoded data removed]",
      "text/plain": [
       "<Figure size 540x360 with 1 Axes>"
      ]
     },
     "metadata": {
      "needs_background": "light"
     },
     "output_type": "display_data"
    }
   ],
   "source": [
    "plt.figure(dpi = 90)\n",
    "plt.title(\"Hall Allocation (Female) - Cukoo_Tabu(Hybrid)\")\n",
    "plt.xlabel('Number of Iterations')\n",
    "plt.ylabel('Fitness value')\n",
    "plt.plot(list(graph.keys()), list(graph.values()))\n",
    "plt.show()"
   ]
  },
  {
   "cell_type": "code",
   "execution_count": null,
   "metadata": {},
   "outputs": [],
   "source": []
  }
 ],
 "metadata": {
  "kernelspec": {
   "display_name": "Python 3",
   "language": "python",
   "name": "python3"
  },
  "language_info": {
   "codemirror_mode": {
    "name": "ipython",
    "version": 3
   },
   "file_extension": ".py",
   "mimetype": "text/x-python",
   "name": "python",
   "nbconvert_exporter": "python",
   "pygments_lexer": "ipython3",
   "version": "3.7.6"
  }
 },
 "nbformat": 4,
 "nbformat_minor": 4
}
