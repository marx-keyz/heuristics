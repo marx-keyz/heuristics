{
 "cells": [
  {
   "cell_type": "code",
   "execution_count": 9,
   "metadata": {},
   "outputs": [],
   "source": [
    "import pandas as pd"
   ]
  },
  {
   "cell_type": "code",
   "execution_count": 14,
   "metadata": {},
   "outputs": [],
   "source": [
    "import random\n",
    "import string\n",
    "\n",
    "def get_random_string(length):\n",
    "    # choose from all lowercase letter\n",
    "    letters = string.ascii_lowercase\n",
    "    return ''.join(random.choice(letters) for i in range(length))\n",
    "\n",
    "names = [get_random_string(6) for i in range(7366)]"
   ]
  },
  {
   "cell_type": "markdown",
   "metadata": {},
   "source": [
    "#### **MALE**"
   ]
  },
  {
   "cell_type": "code",
   "execution_count": 6,
   "metadata": {},
   "outputs": [],
   "source": [
    "category = []\n",
    "cat = []\n",
    "for i in range(1, 7367):\n",
    "    if i <= 1360:\n",
    "        category.append('Fy')\n",
    "        cat.append(0.5)\n",
    "        \n",
    "    elif i > 1360 and i <= 3020:\n",
    "        category.append('Fr')\n",
    "        cat.append(0.5)\n",
    "        \n",
    "    elif i > 3020  and i <= 3080:\n",
    "        category.append('Ht')\n",
    "        cat.append(1)\n",
    "        \n",
    "    elif i > 3080 and i <= 3370:\n",
    "        category.append('Sp')\n",
    "        cat.append(0.5)\n",
    "        \n",
    "    elif i > 3370 and i <= 3630:\n",
    "        category.append('St')\n",
    "        cat.append(1)\n",
    "        \n",
    "    elif i > 3630 and i <= 7366:\n",
    "        category.append('Ot')\n",
    "        cat.append(0.5)"
   ]
  },
  {
   "cell_type": "code",
   "execution_count": 7,
   "metadata": {},
   "outputs": [],
   "source": [
    "df = pd.DataFrame()\n",
    "df['names'] = names\n",
    "df['category'] = category"
   ]
  },
  {
   "cell_type": "code",
   "execution_count": 8,
   "metadata": {},
   "outputs": [
    {
     "data": {
      "text/html": [
       "<div>\n",
       "<style scoped>\n",
       "    .dataframe tbody tr th:only-of-type {\n",
       "        vertical-align: middle;\n",
       "    }\n",
       "\n",
       "    .dataframe tbody tr th {\n",
       "        vertical-align: top;\n",
       "    }\n",
       "\n",
       "    .dataframe thead th {\n",
       "        text-align: right;\n",
       "    }\n",
       "</style>\n",
       "<table border=\"1\" class=\"dataframe\">\n",
       "  <thead>\n",
       "    <tr style=\"text-align: right;\">\n",
       "      <th></th>\n",
       "      <th>names</th>\n",
       "      <th>category</th>\n",
       "    </tr>\n",
       "  </thead>\n",
       "  <tbody>\n",
       "    <tr>\n",
       "      <th>0</th>\n",
       "      <td>wpoxkt</td>\n",
       "      <td>Fy</td>\n",
       "    </tr>\n",
       "    <tr>\n",
       "      <th>1</th>\n",
       "      <td>fywcge</td>\n",
       "      <td>Fy</td>\n",
       "    </tr>\n",
       "    <tr>\n",
       "      <th>2</th>\n",
       "      <td>npvyju</td>\n",
       "      <td>Fy</td>\n",
       "    </tr>\n",
       "    <tr>\n",
       "      <th>3</th>\n",
       "      <td>lzqdsj</td>\n",
       "      <td>Fy</td>\n",
       "    </tr>\n",
       "    <tr>\n",
       "      <th>4</th>\n",
       "      <td>gcsoor</td>\n",
       "      <td>Fy</td>\n",
       "    </tr>\n",
       "    <tr>\n",
       "      <th>...</th>\n",
       "      <td>...</td>\n",
       "      <td>...</td>\n",
       "    </tr>\n",
       "    <tr>\n",
       "      <th>7361</th>\n",
       "      <td>nytfps</td>\n",
       "      <td>Ot</td>\n",
       "    </tr>\n",
       "    <tr>\n",
       "      <th>7362</th>\n",
       "      <td>pfovzz</td>\n",
       "      <td>Ot</td>\n",
       "    </tr>\n",
       "    <tr>\n",
       "      <th>7363</th>\n",
       "      <td>amsmvp</td>\n",
       "      <td>Ot</td>\n",
       "    </tr>\n",
       "    <tr>\n",
       "      <th>7364</th>\n",
       "      <td>aykdcc</td>\n",
       "      <td>Ot</td>\n",
       "    </tr>\n",
       "    <tr>\n",
       "      <th>7365</th>\n",
       "      <td>qptxzr</td>\n",
       "      <td>Ot</td>\n",
       "    </tr>\n",
       "  </tbody>\n",
       "</table>\n",
       "<p>7366 rows × 2 columns</p>\n",
       "</div>"
      ],
      "text/plain": [
       "       names category\n",
       "0     wpoxkt       Fy\n",
       "1     fywcge       Fy\n",
       "2     npvyju       Fy\n",
       "3     lzqdsj       Fy\n",
       "4     gcsoor       Fy\n",
       "...      ...      ...\n",
       "7361  nytfps       Ot\n",
       "7362  pfovzz       Ot\n",
       "7363  amsmvp       Ot\n",
       "7364  aykdcc       Ot\n",
       "7365  qptxzr       Ot\n",
       "\n",
       "[7366 rows x 2 columns]"
      ]
     },
     "execution_count": 8,
     "metadata": {},
     "output_type": "execute_result"
    }
   ],
   "source": [
    "df"
   ]
  },
  {
   "cell_type": "code",
   "execution_count": 9,
   "metadata": {},
   "outputs": [],
   "source": [
    "df = df.sample(frac = 1, random_state = 2021).reset_index(drop = True)"
   ]
  },
  {
   "cell_type": "code",
   "execution_count": 10,
   "metadata": {},
   "outputs": [
    {
     "data": {
      "text/plain": [
       "Ot    3736\n",
       "Fr    1660\n",
       "Fy    1360\n",
       "Sp     290\n",
       "St     260\n",
       "Ht      60\n",
       "Name: category, dtype: int64"
      ]
     },
     "execution_count": 10,
     "metadata": {},
     "output_type": "execute_result"
    }
   ],
   "source": [
    "df['category'].value_counts()"
   ]
  },
  {
   "cell_type": "code",
   "execution_count": 70,
   "metadata": {},
   "outputs": [],
   "source": [
    "# df.to_csv('male_applicants.csv', index = False)"
   ]
  },
  {
   "cell_type": "code",
   "execution_count": null,
   "metadata": {},
   "outputs": [],
   "source": []
  },
  {
   "cell_type": "markdown",
   "metadata": {},
   "source": [
    "#### **FEMALE**"
   ]
  },
  {
   "cell_type": "code",
   "execution_count": 11,
   "metadata": {},
   "outputs": [],
   "source": [
    "# 820 + 958 + 56 +80 + 100 + 1120"
   ]
  },
  {
   "cell_type": "code",
   "execution_count": 15,
   "metadata": {},
   "outputs": [],
   "source": [
    "names = [get_random_string(6) for i in range(3134)]"
   ]
  },
  {
   "cell_type": "code",
   "execution_count": 16,
   "metadata": {},
   "outputs": [],
   "source": [
    "category = []\n",
    "cat = []\n",
    "for i in range(1, 3134+1):\n",
    "    if i <= 820:\n",
    "        category.append('Fy')\n",
    "        cat.append(0.5)\n",
    "        \n",
    "    elif i > 820 and i <= 1778:\n",
    "        category.append('Fr')\n",
    "        cat.append(0.5)\n",
    "        \n",
    "    elif i > 1778  and i <= 1834:\n",
    "        category.append('Ht')\n",
    "        cat.append(1)\n",
    "        \n",
    "    elif i > 1834 and i <= 1914:\n",
    "        category.append('Sp')\n",
    "        cat.append(0.5)\n",
    "        \n",
    "    elif i > 1914 and i <= 2014:\n",
    "        category.append('St')\n",
    "        cat.append(1)\n",
    "        \n",
    "    elif i > 2014 and i <= 3134:\n",
    "        category.append('Ot')\n",
    "        cat.append(0.5)"
   ]
  },
  {
   "cell_type": "code",
   "execution_count": 17,
   "metadata": {},
   "outputs": [],
   "source": [
    "df = pd.DataFrame()\n",
    "df['names'] = names\n",
    "df['category'] = category"
   ]
  },
  {
   "cell_type": "code",
   "execution_count": 18,
   "metadata": {},
   "outputs": [
    {
     "data": {
      "text/html": [
       "<div>\n",
       "<style scoped>\n",
       "    .dataframe tbody tr th:only-of-type {\n",
       "        vertical-align: middle;\n",
       "    }\n",
       "\n",
       "    .dataframe tbody tr th {\n",
       "        vertical-align: top;\n",
       "    }\n",
       "\n",
       "    .dataframe thead th {\n",
       "        text-align: right;\n",
       "    }\n",
       "</style>\n",
       "<table border=\"1\" class=\"dataframe\">\n",
       "  <thead>\n",
       "    <tr style=\"text-align: right;\">\n",
       "      <th></th>\n",
       "      <th>names</th>\n",
       "      <th>category</th>\n",
       "    </tr>\n",
       "  </thead>\n",
       "  <tbody>\n",
       "    <tr>\n",
       "      <th>0</th>\n",
       "      <td>pvshpw</td>\n",
       "      <td>Fy</td>\n",
       "    </tr>\n",
       "    <tr>\n",
       "      <th>1</th>\n",
       "      <td>pxcdlo</td>\n",
       "      <td>Fy</td>\n",
       "    </tr>\n",
       "    <tr>\n",
       "      <th>2</th>\n",
       "      <td>ftzptf</td>\n",
       "      <td>Fy</td>\n",
       "    </tr>\n",
       "    <tr>\n",
       "      <th>3</th>\n",
       "      <td>kctsnz</td>\n",
       "      <td>Fy</td>\n",
       "    </tr>\n",
       "    <tr>\n",
       "      <th>4</th>\n",
       "      <td>qlfajn</td>\n",
       "      <td>Fy</td>\n",
       "    </tr>\n",
       "    <tr>\n",
       "      <th>...</th>\n",
       "      <td>...</td>\n",
       "      <td>...</td>\n",
       "    </tr>\n",
       "    <tr>\n",
       "      <th>3129</th>\n",
       "      <td>qasuvr</td>\n",
       "      <td>Ot</td>\n",
       "    </tr>\n",
       "    <tr>\n",
       "      <th>3130</th>\n",
       "      <td>xunznf</td>\n",
       "      <td>Ot</td>\n",
       "    </tr>\n",
       "    <tr>\n",
       "      <th>3131</th>\n",
       "      <td>fftkcr</td>\n",
       "      <td>Ot</td>\n",
       "    </tr>\n",
       "    <tr>\n",
       "      <th>3132</th>\n",
       "      <td>vsravr</td>\n",
       "      <td>Ot</td>\n",
       "    </tr>\n",
       "    <tr>\n",
       "      <th>3133</th>\n",
       "      <td>tfpzjz</td>\n",
       "      <td>Ot</td>\n",
       "    </tr>\n",
       "  </tbody>\n",
       "</table>\n",
       "<p>3134 rows × 2 columns</p>\n",
       "</div>"
      ],
      "text/plain": [
       "       names category\n",
       "0     pvshpw       Fy\n",
       "1     pxcdlo       Fy\n",
       "2     ftzptf       Fy\n",
       "3     kctsnz       Fy\n",
       "4     qlfajn       Fy\n",
       "...      ...      ...\n",
       "3129  qasuvr       Ot\n",
       "3130  xunznf       Ot\n",
       "3131  fftkcr       Ot\n",
       "3132  vsravr       Ot\n",
       "3133  tfpzjz       Ot\n",
       "\n",
       "[3134 rows x 2 columns]"
      ]
     },
     "execution_count": 18,
     "metadata": {},
     "output_type": "execute_result"
    }
   ],
   "source": [
    "df"
   ]
  },
  {
   "cell_type": "code",
   "execution_count": 19,
   "metadata": {},
   "outputs": [
    {
     "data": {
      "text/plain": [
       "Ot    1120\n",
       "Fr     958\n",
       "Fy     820\n",
       "St     100\n",
       "Sp      80\n",
       "Ht      56\n",
       "Name: category, dtype: int64"
      ]
     },
     "execution_count": 19,
     "metadata": {},
     "output_type": "execute_result"
    }
   ],
   "source": [
    "df = df.sample(frac = 1, random_state = 2021).reset_index(drop = True)\n",
    "df['category'].value_counts()"
   ]
  },
  {
   "cell_type": "code",
   "execution_count": 20,
   "metadata": {},
   "outputs": [],
   "source": [
    "# df.to_csv('female_applicants.csv', index = False)"
   ]
  },
  {
   "cell_type": "code",
   "execution_count": null,
   "metadata": {},
   "outputs": [],
   "source": []
  }
 ],
 "metadata": {
  "kernelspec": {
   "display_name": "Python 3",
   "language": "python",
   "name": "python3"
  },
  "language_info": {
   "codemirror_mode": {
    "name": "ipython",
    "version": 3
   },
   "file_extension": ".py",
   "mimetype": "text/x-python",
   "name": "python",
   "nbconvert_exporter": "python",
   "pygments_lexer": "ipython3",
   "version": "3.7.6"
  }
 },
 "nbformat": 4,
 "nbformat_minor": 4
}
